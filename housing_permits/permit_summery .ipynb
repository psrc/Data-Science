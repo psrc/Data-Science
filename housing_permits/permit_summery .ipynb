{
 "cells": [
  {
   "cell_type": "code",
   "execution_count": 2,
   "metadata": {
    "collapsed": true
   },
   "outputs": [],
   "source": [
    "import pandas as pd\n",
    "import numpy as np\n",
    "import matplotlib \n"
   ]
  },
  {
   "cell_type": "code",
   "execution_count": 145,
   "metadata": {
    "collapsed": false
   },
   "outputs": [],
   "source": [
    "my_data_17 = pd.read_csv(r'J:\\Projects\\Permits\\17Permit\\database\\10-17permits\\PERMITS_10-17_pre.csv')"
   ]
  },
  {
   "cell_type": "code",
   "execution_count": 146,
   "metadata": {
    "collapsed": false
   },
   "outputs": [],
   "source": [
    "my_data_09 = pd.read_csv(r'J:\\Projects\\Permits\\MasterDatabase\\csv\\REG0009PMT.csv')"
   ]
  },
  {
   "cell_type": "code",
   "execution_count": 149,
   "metadata": {
    "collapsed": false
   },
   "outputs": [],
   "source": [
    "col = ['PROJYEAR', u'PSRCID', u'PSRCIDXY', u'MULTIREC', u'PERMITNO', u'SORT',\n",
    "       'CNTY', u'MULTICNTY', u'PLC', u'JURIS','PIN', u'PIN_PARENT', u'ZIP',\n",
    "       u'ISSUED', u'FINALED', u'STATUS', u'TYPE', u'PS', u'UNITS',\n",
    "       u'BLDGS', u'LANDUSE', u'CONDO', u'VALUE', u'ZONING', u'X_COORD',\n",
    "       u'Y_COORD', 'NOTES','TYPE2', 'TYPE3', 'TYPE4', 'ISSUEDYEAR']"
   ]
  },
  {
   "cell_type": "code",
   "execution_count": 182,
   "metadata": {
    "collapsed": false
   },
   "outputs": [],
   "source": [
    "my_data1 = my_data_09[col]"
   ]
  },
  {
   "cell_type": "code",
   "execution_count": 205,
   "metadata": {
    "collapsed": true
   },
   "outputs": [],
   "source": [
    "my_data2 = my_data_17[col]"
   ]
  },
  {
   "cell_type": "code",
   "execution_count": 220,
   "metadata": {
    "collapsed": false
   },
   "outputs": [
    {
     "name": "stderr",
     "output_type": "stream",
     "text": [
      "C:\\Users\\Angela\\AppData\\Local\\Continuum\\Anaconda2\\lib\\site-packages\\ipykernel\\__main__.py:1: SettingWithCopyWarning: \n",
      "A value is trying to be set on a copy of a slice from a DataFrame.\n",
      "Try using .loc[row_indexer,col_indexer] = value instead\n",
      "\n",
      "See the caveats in the documentation: http://pandas.pydata.org/pandas-docs/stable/indexing.html#indexing-view-versus-copy\n",
      "  if __name__ == '__main__':\n",
      "C:\\Users\\Angela\\AppData\\Local\\Continuum\\Anaconda2\\lib\\site-packages\\pandas\\core\\generic.py:3295: SettingWithCopyWarning: \n",
      "A value is trying to be set on a copy of a slice from a DataFrame\n",
      "\n",
      "See the caveats in the documentation: http://pandas.pydata.org/pandas-docs/stable/indexing.html#indexing-view-versus-copy\n",
      "  self._update_inplace(new_data)\n"
     ]
    }
   ],
   "source": [
    "# replace ??? and nan value to be 999\n",
    "# so we can change entire column from obj to interger\n",
    "my_data2['TYPE'] = my_data2['TYPE'].replace('???', 999) \n",
    "my_data2['TYPE'].fillna(999, inplace = True)\n",
    "my_data2['TYPE'] = my_data2['TYPE'].astype(int)"
   ]
  },
  {
   "cell_type": "code",
   "execution_count": 223,
   "metadata": {
    "collapsed": false
   },
   "outputs": [
    {
     "data": {
      "text/plain": [
       "111    77329\n",
       "121     4947\n",
       "191     1837\n",
       "131     1127\n",
       "123      899\n",
       "170      863\n",
       "122      707\n",
       "144      675\n",
       "194      465\n",
       "132      423\n",
       "141      316\n",
       "133      198\n",
       "142      151\n",
       "143      116\n",
       "199       60\n",
       "154       45\n",
       "159       41\n",
       "189       37\n",
       "151       36\n",
       "999       22\n",
       "153       21\n",
       "155        4\n",
       "181        3\n",
       "182        3\n",
       "192        3\n",
       "152        1\n",
       "Name: TYPE, dtype: int64"
      ]
     },
     "execution_count": 223,
     "metadata": {},
     "output_type": "execute_result"
    }
   ],
   "source": [
    "my_data2['TYPE'].value_counts()"
   ]
  },
  {
   "cell_type": "code",
   "execution_count": 230,
   "metadata": {
    "collapsed": false
   },
   "outputs": [
    {
     "name": "stderr",
     "output_type": "stream",
     "text": [
      "C:\\Users\\Angela\\AppData\\Local\\Continuum\\Anaconda2\\lib\\site-packages\\ipykernel\\__main__.py:19: SettingWithCopyWarning: \n",
      "A value is trying to be set on a copy of a slice from a DataFrame.\n",
      "Try using .loc[row_indexer,col_indexer] = value instead\n",
      "\n",
      "See the caveats in the documentation: http://pandas.pydata.org/pandas-docs/stable/indexing.html#indexing-view-versus-copy\n"
     ]
    }
   ],
   "source": [
    "def TYPE_RULE (row):\n",
    "    if row['TYPE'] == 111 :\n",
    "      return 'SF'\n",
    "    if row['TYPE'] > 111 and row['TYPE'] <= 144:\n",
    "      return 'MF'\n",
    "    if row['TYPE'] >= 151 and row['TYPE'] <= 159 :\n",
    "      return 'GQ'\n",
    "    if row['TYPE'] == 160 :\n",
    "      return 'MF'\n",
    "    if row['TYPE'] == 170 or row['TYPE'] == 189:\n",
    "      return 'MH'\n",
    "    if row['TYPE'] >= 181 and row['TYPE'] <= 189 :\n",
    "      return 'MF'\n",
    "    if row['TYPE'] == 191 or row['TYPE'] == 194:\n",
    "      return 'MH'\n",
    "    if row['TYPE'] == 192 or row['TYPE'] == 199 or row['TYPE'] == 999:\n",
    "      return 'OTH'\n",
    "\n",
    "my_data2['TYPE2'] = my_data2.apply (lambda row: TYPE_RULE(row), axis=1)"
   ]
  },
  {
   "cell_type": "code",
   "execution_count": 231,
   "metadata": {
    "collapsed": false
   },
   "outputs": [],
   "source": [
    "my_data2.to_csv(r'J:\\Projects\\Permits\\17Permit\\database\\10-17permits\\PERMITS_10-17_2nd.csv')"
   ]
  },
  {
   "cell_type": "code",
   "execution_count": null,
   "metadata": {
    "collapsed": true
   },
   "outputs": [],
   "source": []
  },
  {
   "cell_type": "code",
   "execution_count": null,
   "metadata": {
    "collapsed": true
   },
   "outputs": [],
   "source": []
  },
  {
   "cell_type": "code",
   "execution_count": null,
   "metadata": {
    "collapsed": true
   },
   "outputs": [],
   "source": []
  },
  {
   "cell_type": "code",
   "execution_count": 232,
   "metadata": {
    "collapsed": false
   },
   "outputs": [],
   "source": [
    "my_data = pd.concat([my_data1, my_data2])"
   ]
  },
  {
   "cell_type": "code",
   "execution_count": 233,
   "metadata": {
    "collapsed": false
   },
   "outputs": [
    {
     "data": {
      "text/plain": [
       "Index([u'PROJYEAR', u'PSRCID', u'PSRCIDXY', u'MULTIREC', u'PERMITNO', u'SORT',\n",
       "       u'CNTY', u'MULTICNTY', u'PLC', u'JURIS', u'PIN', u'PIN_PARENT', u'ZIP',\n",
       "       u'ISSUED', u'FINALED', u'STATUS', u'TYPE', u'PS', u'UNITS', u'BLDGS',\n",
       "       u'LANDUSE', u'CONDO', u'VALUE', u'ZONING', u'X_COORD', u'Y_COORD',\n",
       "       u'NOTES', u'TYPE2', u'TYPE3', u'TYPE4', u'ISSUEDYEAR'],\n",
       "      dtype='object')"
      ]
     },
     "execution_count": 233,
     "metadata": {},
     "output_type": "execute_result"
    }
   ],
   "source": [
    "my_data.columns"
   ]
  },
  {
   "cell_type": "code",
   "execution_count": 234,
   "metadata": {
    "collapsed": false
   },
   "outputs": [],
   "source": [
    "my_data.to_csv(r'J:\\Projects\\Permits\\17Permit\\database\\10-17permits\\PERMITS_00-17.csv')"
   ]
  },
  {
   "cell_type": "code",
   "execution_count": 239,
   "metadata": {
    "collapsed": false
   },
   "outputs": [
    {
     "data": {
      "text/plain": [
       "31973    2000.0\n",
       "32621    2000.0\n",
       "32623    2000.0\n",
       "32624    2000.0\n",
       "32625    2000.0\n",
       "48784    2002.0\n",
       "Name: ISSUEDYEAR, dtype: float64"
      ]
     },
     "execution_count": 239,
     "metadata": {},
     "output_type": "execute_result"
    }
   ],
   "source": [
    "my_data[my_data['TYPE2'].isnull()]['ISSUEDYEAR']"
   ]
  },
  {
   "cell_type": "code",
   "execution_count": null,
   "metadata": {
    "collapsed": true
   },
   "outputs": [],
   "source": []
  }
 ],
 "metadata": {
  "kernelspec": {
   "display_name": "Python 2",
   "language": "python",
   "name": "python2"
  },
  "language_info": {
   "codemirror_mode": {
    "name": "ipython",
    "version": 2
   },
   "file_extension": ".py",
   "mimetype": "text/x-python",
   "name": "python",
   "nbconvert_exporter": "python",
   "pygments_lexer": "ipython2",
   "version": "2.7.13"
  }
 },
 "nbformat": 4,
 "nbformat_minor": 2
}
