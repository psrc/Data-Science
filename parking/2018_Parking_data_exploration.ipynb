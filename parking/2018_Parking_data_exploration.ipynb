{
 "cells": [
  {
   "cell_type": "markdown",
   "metadata": {},
   "source": [
    "# Parking Inventory 2018\n",
    "## Author - Angela Q. Yang \n",
    "### Data Introduction\n",
    "Puget Sound Regional Council (PSRC) conducts a periodic inventory of off-street parking in the region. The survey areas include the central business districts (CBDs) of Seattle, Bellevue, Tacoma, Everett, and Bremerton; Seattle’s First Hill, Lower Queen Anne, and University District neighborhoods; and selected ferry terminals at Bainbridge Island, Kingston, and Southworth.\n",
    "\n",
    "Information collected includes number of stalls, parking costs, parking structure type, address, and geographic location information.\n",
    " - COL1: EXPLAIN\n",
    " - COL_N: EXPLAIN"
   ]
  },
  {
   "cell_type": "code",
   "execution_count": 1,
   "metadata": {
    "collapsed": true
   },
   "outputs": [],
   "source": [
    "import pandas as pd\n",
    "import numpy as np \n",
    "import os\n",
    "import matplotlib.pyplot as plt\n",
    "import seaborn as sns\n",
    "%matplotlib inline"
   ]
  },
  {
   "cell_type": "code",
   "execution_count": 2,
   "metadata": {
    "collapsed": false
   },
   "outputs": [
    {
     "data": {
      "text/plain": [
       "'J:\\\\Projects\\\\Surveys\\\\Parking\\\\Parking2018\\\\Presentations\\\\data_viz_meeting_03032019'"
      ]
     },
     "execution_count": 2,
     "metadata": {},
     "output_type": "execute_result"
    }
   ],
   "source": [
    "os.getcwd()"
   ]
  },
  {
   "cell_type": "code",
   "execution_count": 3,
   "metadata": {
    "collapsed": true
   },
   "outputs": [],
   "source": [
    "parking_2018 = pd.read_csv('parking2018_final.csv')"
   ]
  },
  {
   "cell_type": "code",
   "execution_count": 4,
   "metadata": {
    "collapsed": false
   },
   "outputs": [
    {
     "data": {
      "text/plain": [
       "Index([u'unique_id', u'zone', u'city', u'lot', u'updated', u'address', u'type',\n",
       "       u'2hr', u'4hr', u'dailycost', u'monthcost', u'paylot', u'max',\n",
       "       u'structure_type', u'status', u'comments', u'note', u'editor',\n",
       "       u'neighborhood', u'x_coord', u'y_coord', u'unique_id_2013', u'county',\n",
       "       u'tract10', u'block10', u'blockgp10', u'geoid10'],\n",
       "      dtype='object')"
      ]
     },
     "execution_count": 4,
     "metadata": {},
     "output_type": "execute_result"
    }
   ],
   "source": [
    "parking_2018.columns"
   ]
  },
  {
   "cell_type": "code",
   "execution_count": 5,
   "metadata": {
    "collapsed": false
   },
   "outputs": [
    {
     "data": {
      "text/html": [
       "<div>\n",
       "<table border=\"1\" class=\"dataframe\">\n",
       "  <thead>\n",
       "    <tr style=\"text-align: right;\">\n",
       "      <th></th>\n",
       "      <th>zone</th>\n",
       "      <th>2hr</th>\n",
       "      <th>4hr</th>\n",
       "      <th>dailycost</th>\n",
       "      <th>monthcost</th>\n",
       "      <th>paylot</th>\n",
       "      <th>max</th>\n",
       "      <th>status</th>\n",
       "      <th>x_coord</th>\n",
       "      <th>y_coord</th>\n",
       "      <th>county</th>\n",
       "      <th>tract10</th>\n",
       "      <th>block10</th>\n",
       "      <th>blockgp10</th>\n",
       "      <th>geoid10</th>\n",
       "    </tr>\n",
       "  </thead>\n",
       "  <tbody>\n",
       "    <tr>\n",
       "      <th>count</th>\n",
       "      <td>2372.000000</td>\n",
       "      <td>2372.000000</td>\n",
       "      <td>2372.000000</td>\n",
       "      <td>2372.000000</td>\n",
       "      <td>2372.000000</td>\n",
       "      <td>2372.000000</td>\n",
       "      <td>2372.000000</td>\n",
       "      <td>2372.000000</td>\n",
       "      <td>2.372000e+03</td>\n",
       "      <td>2372.000000</td>\n",
       "      <td>2372.000000</td>\n",
       "      <td>2372.000000</td>\n",
       "      <td>2372.000000</td>\n",
       "      <td>2372.000000</td>\n",
       "      <td>2.372000e+03</td>\n",
       "    </tr>\n",
       "    <tr>\n",
       "      <th>mean</th>\n",
       "      <td>6.440978</td>\n",
       "      <td>2.303301</td>\n",
       "      <td>3.687858</td>\n",
       "      <td>5.066792</td>\n",
       "      <td>31.814490</td>\n",
       "      <td>0.360455</td>\n",
       "      <td>85.912310</td>\n",
       "      <td>0.105818</td>\n",
       "      <td>1.264768e+06</td>\n",
       "      <td>231338.534992</td>\n",
       "      <td>41.423272</td>\n",
       "      <td>35462.529933</td>\n",
       "      <td>1861.005902</td>\n",
       "      <td>1.836847</td>\n",
       "      <td>5.304146e+14</td>\n",
       "    </tr>\n",
       "    <tr>\n",
       "      <th>std</th>\n",
       "      <td>5.345299</td>\n",
       "      <td>4.592670</td>\n",
       "      <td>7.302488</td>\n",
       "      <td>9.901931</td>\n",
       "      <td>80.694586</td>\n",
       "      <td>0.480234</td>\n",
       "      <td>228.671927</td>\n",
       "      <td>0.307669</td>\n",
       "      <td>3.447325e+04</td>\n",
       "      <td>77719.053861</td>\n",
       "      <td>11.465810</td>\n",
       "      <td>28573.876872</td>\n",
       "      <td>967.221971</td>\n",
       "      <td>0.974119</td>\n",
       "      <td>1.147654e+11</td>\n",
       "    </tr>\n",
       "    <tr>\n",
       "      <th>min</th>\n",
       "      <td>0.000000</td>\n",
       "      <td>0.000000</td>\n",
       "      <td>0.000000</td>\n",
       "      <td>0.000000</td>\n",
       "      <td>0.000000</td>\n",
       "      <td>0.000000</td>\n",
       "      <td>1.000000</td>\n",
       "      <td>0.000000</td>\n",
       "      <td>1.190670e+06</td>\n",
       "      <td>89162.000000</td>\n",
       "      <td>33.000000</td>\n",
       "      <td>4301.000000</td>\n",
       "      <td>1000.000000</td>\n",
       "      <td>1.000000</td>\n",
       "      <td>5.303300e+14</td>\n",
       "    </tr>\n",
       "    <tr>\n",
       "      <th>25%</th>\n",
       "      <td>3.000000</td>\n",
       "      <td>0.000000</td>\n",
       "      <td>0.000000</td>\n",
       "      <td>0.000000</td>\n",
       "      <td>0.000000</td>\n",
       "      <td>0.000000</td>\n",
       "      <td>11.000000</td>\n",
       "      <td>0.000000</td>\n",
       "      <td>1.241600e+06</td>\n",
       "      <td>212714.500000</td>\n",
       "      <td>33.000000</td>\n",
       "      <td>7300.000000</td>\n",
       "      <td>1025.000000</td>\n",
       "      <td>1.000000</td>\n",
       "      <td>5.303301e+14</td>\n",
       "    </tr>\n",
       "    <tr>\n",
       "      <th>50%</th>\n",
       "      <td>5.000000</td>\n",
       "      <td>0.000000</td>\n",
       "      <td>0.000000</td>\n",
       "      <td>0.000000</td>\n",
       "      <td>0.000000</td>\n",
       "      <td>0.000000</td>\n",
       "      <td>24.000000</td>\n",
       "      <td>0.000000</td>\n",
       "      <td>1.270220e+06</td>\n",
       "      <td>228032.500000</td>\n",
       "      <td>33.000000</td>\n",
       "      <td>23804.000000</td>\n",
       "      <td>2002.000000</td>\n",
       "      <td>2.000000</td>\n",
       "      <td>5.303302e+14</td>\n",
       "    </tr>\n",
       "    <tr>\n",
       "      <th>75%</th>\n",
       "      <td>8.000000</td>\n",
       "      <td>3.000000</td>\n",
       "      <td>5.000000</td>\n",
       "      <td>6.000000</td>\n",
       "      <td>0.000000</td>\n",
       "      <td>1.000000</td>\n",
       "      <td>59.000000</td>\n",
       "      <td>0.000000</td>\n",
       "      <td>1.302380e+06</td>\n",
       "      <td>244610.500000</td>\n",
       "      <td>53.000000</td>\n",
       "      <td>61601.000000</td>\n",
       "      <td>2025.000000</td>\n",
       "      <td>2.000000</td>\n",
       "      <td>5.305306e+14</td>\n",
       "    </tr>\n",
       "    <tr>\n",
       "      <th>max</th>\n",
       "      <td>19.000000</td>\n",
       "      <td>39.000000</td>\n",
       "      <td>74.000000</td>\n",
       "      <td>75.000000</td>\n",
       "      <td>403.000000</td>\n",
       "      <td>1.000000</td>\n",
       "      <td>6063.000000</td>\n",
       "      <td>1.000000</td>\n",
       "      <td>1.308090e+06</td>\n",
       "      <td>362524.000000</td>\n",
       "      <td>61.000000</td>\n",
       "      <td>92704.000000</td>\n",
       "      <td>5025.000000</td>\n",
       "      <td>5.000000</td>\n",
       "      <td>5.306104e+14</td>\n",
       "    </tr>\n",
       "  </tbody>\n",
       "</table>\n",
       "</div>"
      ],
      "text/plain": [
       "              zone          2hr          4hr    dailycost    monthcost  \\\n",
       "count  2372.000000  2372.000000  2372.000000  2372.000000  2372.000000   \n",
       "mean      6.440978     2.303301     3.687858     5.066792    31.814490   \n",
       "std       5.345299     4.592670     7.302488     9.901931    80.694586   \n",
       "min       0.000000     0.000000     0.000000     0.000000     0.000000   \n",
       "25%       3.000000     0.000000     0.000000     0.000000     0.000000   \n",
       "50%       5.000000     0.000000     0.000000     0.000000     0.000000   \n",
       "75%       8.000000     3.000000     5.000000     6.000000     0.000000   \n",
       "max      19.000000    39.000000    74.000000    75.000000   403.000000   \n",
       "\n",
       "            paylot          max       status       x_coord        y_coord  \\\n",
       "count  2372.000000  2372.000000  2372.000000  2.372000e+03    2372.000000   \n",
       "mean      0.360455    85.912310     0.105818  1.264768e+06  231338.534992   \n",
       "std       0.480234   228.671927     0.307669  3.447325e+04   77719.053861   \n",
       "min       0.000000     1.000000     0.000000  1.190670e+06   89162.000000   \n",
       "25%       0.000000    11.000000     0.000000  1.241600e+06  212714.500000   \n",
       "50%       0.000000    24.000000     0.000000  1.270220e+06  228032.500000   \n",
       "75%       1.000000    59.000000     0.000000  1.302380e+06  244610.500000   \n",
       "max       1.000000  6063.000000     1.000000  1.308090e+06  362524.000000   \n",
       "\n",
       "            county       tract10      block10    blockgp10       geoid10  \n",
       "count  2372.000000   2372.000000  2372.000000  2372.000000  2.372000e+03  \n",
       "mean     41.423272  35462.529933  1861.005902     1.836847  5.304146e+14  \n",
       "std      11.465810  28573.876872   967.221971     0.974119  1.147654e+11  \n",
       "min      33.000000   4301.000000  1000.000000     1.000000  5.303300e+14  \n",
       "25%      33.000000   7300.000000  1025.000000     1.000000  5.303301e+14  \n",
       "50%      33.000000  23804.000000  2002.000000     2.000000  5.303302e+14  \n",
       "75%      53.000000  61601.000000  2025.000000     2.000000  5.305306e+14  \n",
       "max      61.000000  92704.000000  5025.000000     5.000000  5.306104e+14  "
      ]
     },
     "execution_count": 5,
     "metadata": {},
     "output_type": "execute_result"
    }
   ],
   "source": [
    "parking_2018.describe()"
   ]
  },
  {
   "cell_type": "code",
   "execution_count": 6,
   "metadata": {
    "collapsed": false
   },
   "outputs": [
    {
     "data": {
      "text/plain": [
       "unique_id            0\n",
       "zone                 0\n",
       "city                 0\n",
       "lot                  0\n",
       "updated           1453\n",
       "address             99\n",
       "type                 0\n",
       "2hr                  0\n",
       "4hr                  0\n",
       "dailycost            0\n",
       "monthcost            0\n",
       "paylot               0\n",
       "max                  0\n",
       "structure_type       0\n",
       "status               0\n",
       "comments          2332\n",
       "note              1678\n",
       "editor               4\n",
       "neighborhood      1661\n",
       "x_coord              0\n",
       "y_coord              0\n",
       "unique_id_2013       0\n",
       "county               0\n",
       "tract10              0\n",
       "block10              0\n",
       "blockgp10            0\n",
       "geoid10              0\n",
       "dtype: int64"
      ]
     },
     "execution_count": 6,
     "metadata": {},
     "output_type": "execute_result"
    }
   ],
   "source": [
    "parking_2018.isnull().sum()"
   ]
  },
  {
   "cell_type": "code",
   "execution_count": 7,
   "metadata": {
    "collapsed": true
   },
   "outputs": [],
   "source": [
    "my_df = parking_2018"
   ]
  },
  {
   "cell_type": "markdown",
   "metadata": {},
   "source": [
    "### 1. Capacity"
   ]
  },
  {
   "cell_type": "code",
   "execution_count": 8,
   "metadata": {
    "collapsed": false
   },
   "outputs": [
    {
     "data": {
      "text/plain": [
       "(-1, 500)"
      ]
     },
     "execution_count": 8,
     "metadata": {},
     "output_type": "execute_result"
    },
    {
     "data": {
      "image/png": "[encoded data removed]",
      "text/plain": [
       "<matplotlib.figure.Figure at 0x4b4eb00>"
      ]
     },
     "metadata": {},
     "output_type": "display_data"
    }
   ],
   "source": [
    "# box plot \n",
    "fig = plt.figure(figsize=(12, 6)) # Define plot area\n",
    "ax = fig.gca() # Define axis \n",
    "my_df.loc[:,['city', 'max']].boxplot(by = 'city', ax = ax)\n",
    "ax.set_title('max of the capacity vs cities') # Give the plot a main title\n",
    "ax.set_ylabel('max')# Set text for y axis\n",
    "ax.set_xlabel('city')\n",
    "ax.set_ylim([-1,500])"
   ]
  },
  {
   "cell_type": "markdown",
   "metadata": {},
   "source": [
    "### Output files: total stall numbers by geographic boundry"
   ]
  },
  {
   "cell_type": "code",
   "execution_count": 9,
   "metadata": {
    "collapsed": true
   },
   "outputs": [],
   "source": [
    "# OccupancyBlockGroups\n",
    "#g1 = pd.DataFrame(my_df.groupby(['county','city', 'tract10', 'blockgp10'])['lot'].agg(['sum'])).rename(columns={'sum': 'Number of Lots'}).reset_index()\n",
    "g0 = pd.DataFrame(my_df.groupby(['county', 'city', 'tract10', 'blockgp10'])['max'].agg(['sum'])).rename(columns={'sum': 'Total Stalls'}).reset_index()\n",
    "#g3 = pd.merge(g1, g2, how='left', on = ['county','city', 'tract10', 'blockgp10'])\n",
    "\n",
    "g0.to_csv('OccupancyBlockGroups_2018.csv')"
   ]
  },
  {
   "cell_type": "code",
   "execution_count": 10,
   "metadata": {
    "collapsed": false
   },
   "outputs": [],
   "source": [
    "# OccupancyZones\n",
    "#g4 = pd.DataFrame(my_df.groupby(['county','city', 'zone', 'tract10', 'block10'])['lot'].agg(['sum'])).rename(columns={'sum': 'Number of Lots'}).reset_index()\n",
    "g00 = pd.DataFrame(my_df.groupby(['county','city', 'zone', 'tract10', 'block10'])['max'].agg(['sum'])).rename(columns={'sum': 'Total Stalls'}).reset_index()\n",
    "#g6 = pd.merge(g4, g5, how='left', on = ['county','city', 'zone', 'tract10', 'block10'])\n",
    "\n",
    "g00.to_csv('OccupancyZones_2018.csv')"
   ]
  },
  {
   "cell_type": "code",
   "execution_count": null,
   "metadata": {
    "collapsed": true
   },
   "outputs": [],
   "source": []
  },
  {
   "cell_type": "code",
   "execution_count": null,
   "metadata": {
    "collapsed": true
   },
   "outputs": [],
   "source": []
  },
  {
   "cell_type": "code",
   "execution_count": null,
   "metadata": {
    "collapsed": true
   },
   "outputs": [],
   "source": []
  },
  {
   "cell_type": "markdown",
   "metadata": {},
   "source": [
    "## 2. Price"
   ]
  },
  {
   "cell_type": "code",
   "execution_count": 11,
   "metadata": {
    "collapsed": false
   },
   "outputs": [
    {
     "data": {
      "text/plain": [
       "(-1, 30)"
      ]
     },
     "execution_count": 11,
     "metadata": {},
     "output_type": "execute_result"
    },
    {
     "data": {
      "image/png": "[encoded data removed]",
      "text/plain": [
       "<matplotlib.figure.Figure at 0xc4b7400>"
      ]
     },
     "metadata": {},
     "output_type": "display_data"
    }
   ],
   "source": [
    "# box plot\n",
    "fig = plt.figure(figsize=(12, 6)) # Define plot area\n",
    "ax = fig.gca() # Define axis \n",
    "my_df.loc[:,['city', '2hr']].boxplot(by = 'city', ax = ax)\n",
    "ax.set_title('two hours cost vs cities') # Give the plot a main title\n",
    "ax.set_ylabel('city')# Set text for y axis\n",
    "ax.set_xlabel('city')\n",
    "ax.set_ylim([-1,30])"
   ]
  },
  {
   "cell_type": "code",
   "execution_count": 12,
   "metadata": {
    "collapsed": false
   },
   "outputs": [
    {
     "data": {
      "image/png": "[encoded data removed]",
      "text/plain": [
       "<matplotlib.figure.Figure at 0xc9c7978>"
      ]
     },
     "metadata": {},
     "output_type": "display_data"
    }
   ],
   "source": [
    "# Facet plot \n",
    "# 2 hours rate and city\n",
    "gr = sns.FacetGrid(my_df, col='city')\n",
    "gr = gr.map(plt.hist, '2hr')"
   ]
  },
  {
   "cell_type": "markdown",
   "metadata": {},
   "source": [
    "####  Average cost per parking stall "
   ]
  },
  {
   "cell_type": "code",
   "execution_count": 13,
   "metadata": {
    "collapsed": false
   },
   "outputs": [],
   "source": [
    "# 2 hours cost\n",
    "my_df['2hr*max'] = my_df['2hr'] * my_df['max']\n",
    "avg_2hr_stall = my_df.groupby(['city'])['2hr*max'].sum() / my_df.groupby(['city'])['max'].sum()\n",
    "avg_2hr_stall = pd.DataFrame(avg_2hr_stall, columns = ['2hr_stall']).reset_index()"
   ]
  },
  {
   "cell_type": "code",
   "execution_count": 14,
   "metadata": {
    "collapsed": true
   },
   "outputs": [],
   "source": [
    "# 4 hours cost\n",
    "my_df['4hr*max'] = my_df['4hr'] * my_df['max']\n",
    "avg_4hr_stall = my_df.groupby(['city'])['4hr*max'].sum() / my_df.groupby(['city'])['max'].sum()\n",
    "avg_4hr_stall = pd.DataFrame(avg_4hr_stall, columns = ['4hr_stall']).reset_index()"
   ]
  },
  {
   "cell_type": "code",
   "execution_count": 15,
   "metadata": {
    "collapsed": true
   },
   "outputs": [],
   "source": [
    "# daily cost\n",
    "my_df['daily*max'] = my_df['dailycost'] * my_df['max']\n",
    "avg_daily_stall = my_df.groupby(['city'])['daily*max'].sum() / my_df.groupby(['city'])['max'].sum()\n",
    "avg_daily_stall = pd.DataFrame(avg_daily_stall, columns = ['daily_stall']).reset_index()"
   ]
  },
  {
   "cell_type": "code",
   "execution_count": 16,
   "metadata": {
    "collapsed": false
   },
   "outputs": [],
   "source": [
    "# put all data into one table\n",
    "avg_4hr_stall['2hr_stall'] = avg_2hr_stall['2hr_stall']\n",
    "avg_4hr_stall['daily_stall'] = avg_daily_stall['daily_stall']"
   ]
  },
  {
   "cell_type": "code",
   "execution_count": 17,
   "metadata": {
    "collapsed": false
   },
   "outputs": [
    {
     "data": {
      "text/html": [
       "<div>\n",
       "<table border=\"1\" class=\"dataframe\">\n",
       "  <thead>\n",
       "    <tr style=\"text-align: right;\">\n",
       "      <th></th>\n",
       "      <th>city</th>\n",
       "      <th>4hr_stall</th>\n",
       "      <th>2hr_stall</th>\n",
       "      <th>daily_stall</th>\n",
       "    </tr>\n",
       "  </thead>\n",
       "  <tbody>\n",
       "    <tr>\n",
       "      <th>0</th>\n",
       "      <td>Bainbridge</td>\n",
       "      <td>5.816247</td>\n",
       "      <td>5.816247</td>\n",
       "      <td>5.816247</td>\n",
       "    </tr>\n",
       "    <tr>\n",
       "      <th>1</th>\n",
       "      <td>Bellevue</td>\n",
       "      <td>9.242940</td>\n",
       "      <td>6.268598</td>\n",
       "      <td>12.590645</td>\n",
       "    </tr>\n",
       "    <tr>\n",
       "      <th>2</th>\n",
       "      <td>Bremerton</td>\n",
       "      <td>1.656874</td>\n",
       "      <td>1.021243</td>\n",
       "      <td>1.803162</td>\n",
       "    </tr>\n",
       "    <tr>\n",
       "      <th>3</th>\n",
       "      <td>Everett</td>\n",
       "      <td>1.252438</td>\n",
       "      <td>0.701708</td>\n",
       "      <td>1.990387</td>\n",
       "    </tr>\n",
       "    <tr>\n",
       "      <th>4</th>\n",
       "      <td>Kingston</td>\n",
       "      <td>1.840353</td>\n",
       "      <td>0.315897</td>\n",
       "      <td>1.840353</td>\n",
       "    </tr>\n",
       "    <tr>\n",
       "      <th>5</th>\n",
       "      <td>Seattle</td>\n",
       "      <td>14.120731</td>\n",
       "      <td>9.251417</td>\n",
       "      <td>20.448986</td>\n",
       "    </tr>\n",
       "    <tr>\n",
       "      <th>6</th>\n",
       "      <td>Southworth</td>\n",
       "      <td>4.610390</td>\n",
       "      <td>4.610390</td>\n",
       "      <td>4.610390</td>\n",
       "    </tr>\n",
       "    <tr>\n",
       "      <th>7</th>\n",
       "      <td>Tacoma</td>\n",
       "      <td>2.991050</td>\n",
       "      <td>2.174634</td>\n",
       "      <td>4.648930</td>\n",
       "    </tr>\n",
       "    <tr>\n",
       "      <th>8</th>\n",
       "      <td>University District</td>\n",
       "      <td>5.924087</td>\n",
       "      <td>3.258072</td>\n",
       "      <td>8.277080</td>\n",
       "    </tr>\n",
       "  </tbody>\n",
       "</table>\n",
       "</div>"
      ],
      "text/plain": [
       "                  city  4hr_stall  2hr_stall  daily_stall\n",
       "0           Bainbridge   5.816247   5.816247     5.816247\n",
       "1             Bellevue   9.242940   6.268598    12.590645\n",
       "2            Bremerton   1.656874   1.021243     1.803162\n",
       "3              Everett   1.252438   0.701708     1.990387\n",
       "4             Kingston   1.840353   0.315897     1.840353\n",
       "5              Seattle  14.120731   9.251417    20.448986\n",
       "6           Southworth   4.610390   4.610390     4.610390\n",
       "7               Tacoma   2.991050   2.174634     4.648930\n",
       "8  University District   5.924087   3.258072     8.277080"
      ]
     },
     "execution_count": 17,
     "metadata": {},
     "output_type": "execute_result"
    }
   ],
   "source": [
    "avg_4hr_stall"
   ]
  },
  {
   "cell_type": "code",
   "execution_count": 18,
   "metadata": {
    "collapsed": false,
    "scrolled": false
   },
   "outputs": [
    {
     "data": {
      "text/plain": [
       "<matplotlib.axes._subplots.AxesSubplot at 0xdd2fda0>"
      ]
     },
     "execution_count": 18,
     "metadata": {},
     "output_type": "execute_result"
    },
    {
     "data": {
      "image/png": "[encoded data removed]",
      "text/plain": [
       "<matplotlib.figure.Figure at 0xc9c73c8>"
      ]
     },
     "metadata": {},
     "output_type": "display_data"
    }
   ],
   "source": [
    "# histogram bar plot\n",
    "avg_4hr_stall.plot(x=\"city\", y=[\"2hr_stall\", '4hr_stall', 'daily_stall'], kind=\"bar\")"
   ]
  },
  {
   "cell_type": "code",
   "execution_count": 19,
   "metadata": {
    "collapsed": false
   },
   "outputs": [],
   "source": [
    "# monthly\n",
    "my_df['month*max'] = my_df['monthcost'] * my_df['max']\n",
    "avg_month_stall = my_df.groupby(['city'])['month*max'].sum() / my_df.groupby(['city'])['max'].sum()\n",
    "avg_month_stall = pd.DataFrame(avg_month_stall, columns = ['month_stall']).reset_index()"
   ]
  },
  {
   "cell_type": "code",
   "execution_count": 20,
   "metadata": {
    "collapsed": false
   },
   "outputs": [
    {
     "data": {
      "text/html": [
       "<div>\n",
       "<table border=\"1\" class=\"dataframe\">\n",
       "  <thead>\n",
       "    <tr style=\"text-align: right;\">\n",
       "      <th></th>\n",
       "      <th>city</th>\n",
       "      <th>month_stall</th>\n",
       "    </tr>\n",
       "  </thead>\n",
       "  <tbody>\n",
       "    <tr>\n",
       "      <th>0</th>\n",
       "      <td>Bainbridge</td>\n",
       "      <td>76.517380</td>\n",
       "    </tr>\n",
       "    <tr>\n",
       "      <th>1</th>\n",
       "      <td>Bellevue</td>\n",
       "      <td>54.141247</td>\n",
       "    </tr>\n",
       "    <tr>\n",
       "      <th>2</th>\n",
       "      <td>Bremerton</td>\n",
       "      <td>21.397300</td>\n",
       "    </tr>\n",
       "    <tr>\n",
       "      <th>3</th>\n",
       "      <td>Everett</td>\n",
       "      <td>11.895359</td>\n",
       "    </tr>\n",
       "    <tr>\n",
       "      <th>4</th>\n",
       "      <td>Kingston</td>\n",
       "      <td>30.129076</td>\n",
       "    </tr>\n",
       "    <tr>\n",
       "      <th>5</th>\n",
       "      <td>Seattle</td>\n",
       "      <td>144.164904</td>\n",
       "    </tr>\n",
       "    <tr>\n",
       "      <th>6</th>\n",
       "      <td>Southworth</td>\n",
       "      <td>0.000000</td>\n",
       "    </tr>\n",
       "    <tr>\n",
       "      <th>7</th>\n",
       "      <td>Tacoma</td>\n",
       "      <td>40.117484</td>\n",
       "    </tr>\n",
       "    <tr>\n",
       "      <th>8</th>\n",
       "      <td>University District</td>\n",
       "      <td>93.594916</td>\n",
       "    </tr>\n",
       "  </tbody>\n",
       "</table>\n",
       "</div>"
      ],
      "text/plain": [
       "                  city  month_stall\n",
       "0           Bainbridge    76.517380\n",
       "1             Bellevue    54.141247\n",
       "2            Bremerton    21.397300\n",
       "3              Everett    11.895359\n",
       "4             Kingston    30.129076\n",
       "5              Seattle   144.164904\n",
       "6           Southworth     0.000000\n",
       "7               Tacoma    40.117484\n",
       "8  University District    93.594916"
      ]
     },
     "execution_count": 20,
     "metadata": {},
     "output_type": "execute_result"
    }
   ],
   "source": [
    "avg_month_stall"
   ]
  },
  {
   "cell_type": "code",
   "execution_count": 21,
   "metadata": {
    "collapsed": false
   },
   "outputs": [
    {
     "data": {
      "text/plain": [
       "<matplotlib.axes._subplots.AxesSubplot at 0xe3c5898>"
      ]
     },
     "execution_count": 21,
     "metadata": {},
     "output_type": "execute_result"
    },
    {
     "data": {
      "image/png": "[encoded data removed]",
      "text/plain": [
       "<matplotlib.figure.Figure at 0xe3e4e10>"
      ]
     },
     "metadata": {},
     "output_type": "display_data"
    }
   ],
   "source": [
    "avg_month_stall.plot(x=\"city\", y = ['month_stall'], kind=\"bar\")"
   ]
  },
  {
   "cell_type": "markdown",
   "metadata": {},
   "source": [
    "### Output files: aggregated hourly cost by geographic boundry\n",
    "aggregate hourly / daily / monthly cost on \n",
    " - census tract \n",
    " - block group \n",
    " - block (block is smaller than block group)"
   ]
  },
  {
   "cell_type": "markdown",
   "metadata": {},
   "source": [
    "##### Hourly "
   ]
  },
  {
   "cell_type": "code",
   "execution_count": 22,
   "metadata": {
    "collapsed": false,
    "scrolled": false
   },
   "outputs": [
    {
     "name": "stderr",
     "output_type": "stream",
     "text": [
      "C:\\Users\\Angela\\AppData\\Local\\Continuum\\Anaconda2\\lib\\site-packages\\ipykernel\\__main__.py:6: SettingWithCopyWarning: \n",
      "A value is trying to be set on a copy of a slice from a DataFrame.\n",
      "Try using .loc[row_indexer,col_indexer] = value instead\n",
      "\n",
      "See the caveats in the documentation: http://pandas.pydata.org/pandas-docs/stable/indexing.html#indexing-view-versus-copy\n"
     ]
    }
   ],
   "source": [
    "# CostsHourlyBlockGroups\n",
    "\n",
    "hourly_df = my_df[my_df['2hr'] > 0]\n",
    "#inflaction CPI from 2013 - 2018 is 7.79%\n",
    "#http://www.in2013dollars.com/2013-dollars-in-2018?amount=1\n",
    "hourly_df['2hr'] = hourly_df['2hr'] * 1.08\n",
    "#g1 = pd.DataFrame(hourly_df.groupby(['county','city', 'tract10', 'blockgp10'])['paylot'].agg(['sum'])).rename(columns={'sum': 'Paylots w/ Hourly Costs'}).reset_index()\n",
    "g1 = pd.DataFrame(hourly_df.groupby(['county', 'city', 'tract10', 'blockgp10'])['2hr'].agg(['sum','count', 'mean', 'min', 'max'])).rename(columns={'sum': 'Hourly Summed Costs', 'count': 'Hourly total lots', 'mean': 'Average Hourly Costs', 'min': 'Min Hourly Costs', 'max':'Max Hourly Costs'}).reset_index()\n",
    "#g3 = pd.merge(g1, g2, how='left', on = ['county','city', 'tract10', 'blockgp10'])\n",
    "\n",
    "g1.to_csv('CostsHourlyBlockGroups_2018.csv')"
   ]
  },
  {
   "cell_type": "code",
   "execution_count": 23,
   "metadata": {
    "collapsed": false
   },
   "outputs": [],
   "source": [
    "# CostsHourlyZones\n",
    "#g4 = pd.DataFrame(hourly_df.groupby(['county','city', 'zone', 'tract10', 'block10'])['paylot'].agg(['sum'])).rename(columns={'sum': 'Paylots w/ Hourly Costs'}).reset_index()\n",
    "g2 = pd.DataFrame(hourly_df.groupby(['county','city', 'zone', 'tract10', 'block10'])['2hr'].agg(['sum','count', 'mean', 'min', 'max'])).rename(columns={'sum': 'Summed Costs', 'count': 'total lots', 'mean': 'Average Hourly Costs', 'min': 'Min Hourly Costs', 'max':'Max Hourly Costs'}).reset_index()\n",
    "#g6 = pd.merge(g4, g5, how='left', on = ['county','city', 'zone', 'tract10', 'block10'])\n",
    "\n",
    "g2.to_csv('CostsHourlyZones_2018.csv')"
   ]
  },
  {
   "cell_type": "markdown",
   "metadata": {},
   "source": [
    "##### Daily"
   ]
  },
  {
   "cell_type": "code",
   "execution_count": 24,
   "metadata": {
    "collapsed": false
   },
   "outputs": [
    {
     "name": "stderr",
     "output_type": "stream",
     "text": [
      "C:\\Users\\Angela\\AppData\\Local\\Continuum\\Anaconda2\\lib\\site-packages\\ipykernel\\__main__.py:3: SettingWithCopyWarning: \n",
      "A value is trying to be set on a copy of a slice from a DataFrame.\n",
      "Try using .loc[row_indexer,col_indexer] = value instead\n",
      "\n",
      "See the caveats in the documentation: http://pandas.pydata.org/pandas-docs/stable/indexing.html#indexing-view-versus-copy\n",
      "  app.launch_new_instance()\n"
     ]
    }
   ],
   "source": [
    "# CostsDailyBlockGroups\n",
    "daily_df = my_df[my_df['dailycost'] > 0]\n",
    "daily_df['dailycost'] = daily_df['dailycost'] * 1.08\n",
    "\n",
    "#g7 = pd.DataFrame(daily_df.groupby(['county','city', 'tract10', 'blockgp10'])['paylot'].agg(['sum'])).rename(columns={'sum': 'Paylots w/ Daily Costs'}).reset_index()\n",
    "g3 = pd.DataFrame(daily_df.groupby(['county', 'city', 'tract10', 'blockgp10'])['dailycost'].agg(['sum','count', 'mean', 'min', 'max'])).rename(columns={'sum': 'Hourly Summed Costs', 'count': 'Hourly total lots', 'mean': 'Average Daily Costs', 'min': 'Min Daily Costs', 'max':'Max Daily Costs'}).reset_index()\n",
    "#g9 = pd.merge(g1, g2, how='left', on = ['county','city', 'tract10', 'blockgp10'])\n",
    "\n",
    "g3.to_csv('CostsDailyBlockGroups_2018.csv')"
   ]
  },
  {
   "cell_type": "code",
   "execution_count": 25,
   "metadata": {
    "collapsed": false
   },
   "outputs": [],
   "source": [
    "# CostsDailyZones\n",
    "#g10 = pd.DataFrame(daily_df.groupby(['county','city', 'zone', 'tract10', 'block10'])['paylot'].agg(['sum'])).rename(columns={'sum': 'Paylots w/ Daily Costs'}).reset_index()\n",
    "g4 = pd.DataFrame(daily_df.groupby(['county','city', 'zone', 'tract10', 'block10'])['dailycost'].agg(['sum','count', 'mean', 'min', 'max'])).rename(columns={'sum': 'Hourly Summed Costs', 'count': 'Hourly total lots', 'mean': 'Average Daily Costs', 'min': 'Min Daily Costs', 'max':'Max Daily Costs'}).reset_index()\n",
    "#g12 = pd.merge(g4, g5, how='left', on = ['county','city', 'zone', 'tract10', 'block10'])\n",
    "\n",
    "g4.to_csv('CostsDailyZones_2018.csv')"
   ]
  },
  {
   "cell_type": "markdown",
   "metadata": {},
   "source": [
    "##### Monthly"
   ]
  },
  {
   "cell_type": "code",
   "execution_count": 26,
   "metadata": {
    "collapsed": false
   },
   "outputs": [
    {
     "name": "stderr",
     "output_type": "stream",
     "text": [
      "C:\\Users\\Angela\\AppData\\Local\\Continuum\\Anaconda2\\lib\\site-packages\\ipykernel\\__main__.py:3: SettingWithCopyWarning: \n",
      "A value is trying to be set on a copy of a slice from a DataFrame.\n",
      "Try using .loc[row_indexer,col_indexer] = value instead\n",
      "\n",
      "See the caveats in the documentation: http://pandas.pydata.org/pandas-docs/stable/indexing.html#indexing-view-versus-copy\n",
      "  app.launch_new_instance()\n"
     ]
    }
   ],
   "source": [
    "# CostsMonthlyBlockGroups\n",
    "month_df = my_df[my_df['monthcost'] > 0]\n",
    "month_df['monthcost'] = month_df['monthcost']  * 1.08\n",
    "\n",
    "#g1 = pd.DataFrame(month_df.groupby(['county','city', 'tract10', 'blockgp10'])['paylot'].agg(['sum'])).rename(columns={'sum': 'Paylots w/ Monthly Costs'}).reset_index()\n",
    "g5 = pd.DataFrame(month_df.groupby(['county', 'city', 'tract10', 'blockgp10'])['monthcost'].agg(['sum','count', 'mean', 'min', 'max'])).rename(columns={'sum': 'Hourly Summed Costs', 'count': 'Hourly total lots', 'mean': 'Average Monthly Costs', 'min': 'Min Monthly Costs', 'max':'Max Monthly Costs'}).reset_index()\n",
    "#g3 = pd.merge(g1, g2, how='left', on = ['county','city', 'tract10', 'blockgp10'])\n",
    "\n",
    "g5.to_csv('CostsMonthlyBlockGroups_2018.csv')"
   ]
  },
  {
   "cell_type": "code",
   "execution_count": 27,
   "metadata": {
    "collapsed": true
   },
   "outputs": [],
   "source": [
    "# CostsMonthlyZones\n",
    "#g4 = pd.DataFrame(month_df.groupby(['county','city', 'zone', 'tract10', 'block10'])['paylot'].agg(['sum'])).rename(columns={'sum': 'Paylots w/ Monthly Costs'}).reset_index()\n",
    "g6 = pd.DataFrame(month_df.groupby(['county','city', 'zone', 'tract10', 'block10'])['monthcost'].agg(['sum','count', 'mean', 'min', 'max'])).rename(columns={'sum': 'Summed Costs', 'count': 'total lots', 'mean': 'Average Monthly Costs', 'min': 'Min Monthly Costs', 'max':'Max Monthly Costs'}).reset_index()\n",
    "#g6 = pd.merge(g4, g5, how='left', on = ['county','city', 'zone', 'tract10', 'block10'])\n",
    "\n",
    "g6.to_csv('CostsMonthlyZones_2018.csv')"
   ]
  },
  {
   "cell_type": "code",
   "execution_count": null,
   "metadata": {
    "collapsed": true
   },
   "outputs": [],
   "source": []
  },
  {
   "cell_type": "markdown",
   "metadata": {},
   "source": [
    "### Changes: hourly, daily, monthly + capacity"
   ]
  },
  {
   "cell_type": "code",
   "execution_count": 28,
   "metadata": {
    "collapsed": false
   },
   "outputs": [],
   "source": [
    "g7 = pd.merge(g1, g3, how='outer', on = ['county','city', 'tract10', 'blockgp10'])"
   ]
  },
  {
   "cell_type": "code",
   "execution_count": 29,
   "metadata": {
    "collapsed": false
   },
   "outputs": [],
   "source": [
    "g8 = pd.merge(g7, g5, how='outer', on = ['county','city', 'tract10', 'blockgp10'])"
   ]
  },
  {
   "cell_type": "code",
   "execution_count": 30,
   "metadata": {
    "collapsed": true
   },
   "outputs": [],
   "source": [
    "g9 = pd.merge(g0, g8, how='outer', on = ['county','city', 'tract10', 'blockgp10'])"
   ]
  },
  {
   "cell_type": "code",
   "execution_count": 31,
   "metadata": {
    "collapsed": false
   },
   "outputs": [],
   "source": [
    "g10 = g9[['county', 'city', 'tract10', 'blockgp10', 'Average Hourly Costs', 'Average Daily Costs', 'Average Monthly Costs', 'Total Stalls']]"
   ]
  },
  {
   "cell_type": "code",
   "execution_count": 32,
   "metadata": {
    "collapsed": false
   },
   "outputs": [
    {
     "data": {
      "text/plain": [
       "county                    0\n",
       "city                      0\n",
       "tract10                   0\n",
       "blockgp10                 0\n",
       "Average Hourly Costs     18\n",
       "Average Daily Costs      18\n",
       "Average Monthly Costs    34\n",
       "Total Stalls              0\n",
       "dtype: int64"
      ]
     },
     "execution_count": 32,
     "metadata": {},
     "output_type": "execute_result"
    }
   ],
   "source": [
    "g10.isnull().sum()"
   ]
  },
  {
   "cell_type": "code",
   "execution_count": 33,
   "metadata": {
    "collapsed": false
   },
   "outputs": [
    {
     "data": {
      "text/html": [
       "<div>\n",
       "<table border=\"1\" class=\"dataframe\">\n",
       "  <thead>\n",
       "    <tr style=\"text-align: right;\">\n",
       "      <th></th>\n",
       "      <th>county</th>\n",
       "      <th>city</th>\n",
       "      <th>tract10</th>\n",
       "      <th>blockgp10</th>\n",
       "      <th>Average Hourly Costs</th>\n",
       "      <th>Average Daily Costs</th>\n",
       "      <th>Average Monthly Costs</th>\n",
       "      <th>Total Stalls</th>\n",
       "    </tr>\n",
       "  </thead>\n",
       "  <tbody>\n",
       "    <tr>\n",
       "      <th>0</th>\n",
       "      <td>33</td>\n",
       "      <td>Bellevue</td>\n",
       "      <td>23601</td>\n",
       "      <td>2</td>\n",
       "      <td>NaN</td>\n",
       "      <td>NaN</td>\n",
       "      <td>NaN</td>\n",
       "      <td>1158</td>\n",
       "    </tr>\n",
       "    <tr>\n",
       "      <th>1</th>\n",
       "      <td>33</td>\n",
       "      <td>Bellevue</td>\n",
       "      <td>23700</td>\n",
       "      <td>3</td>\n",
       "      <td>4.320000</td>\n",
       "      <td>6.264000</td>\n",
       "      <td>NaN</td>\n",
       "      <td>2357</td>\n",
       "    </tr>\n",
       "    <tr>\n",
       "      <th>2</th>\n",
       "      <td>33</td>\n",
       "      <td>Bellevue</td>\n",
       "      <td>23801</td>\n",
       "      <td>1</td>\n",
       "      <td>5.400000</td>\n",
       "      <td>12.960000</td>\n",
       "      <td>NaN</td>\n",
       "      <td>556</td>\n",
       "    </tr>\n",
       "    <tr>\n",
       "      <th>3</th>\n",
       "      <td>33</td>\n",
       "      <td>Bellevue</td>\n",
       "      <td>23803</td>\n",
       "      <td>1</td>\n",
       "      <td>8.610000</td>\n",
       "      <td>19.224000</td>\n",
       "      <td>197.228057</td>\n",
       "      <td>5212</td>\n",
       "    </tr>\n",
       "    <tr>\n",
       "      <th>4</th>\n",
       "      <td>33</td>\n",
       "      <td>Bellevue</td>\n",
       "      <td>23803</td>\n",
       "      <td>2</td>\n",
       "      <td>8.640000</td>\n",
       "      <td>18.360000</td>\n",
       "      <td>228.420000</td>\n",
       "      <td>4053</td>\n",
       "    </tr>\n",
       "    <tr>\n",
       "      <th>5</th>\n",
       "      <td>33</td>\n",
       "      <td>Bellevue</td>\n",
       "      <td>23804</td>\n",
       "      <td>1</td>\n",
       "      <td>15.120000</td>\n",
       "      <td>40.320000</td>\n",
       "      <td>189.000000</td>\n",
       "      <td>8050</td>\n",
       "    </tr>\n",
       "    <tr>\n",
       "      <th>6</th>\n",
       "      <td>33</td>\n",
       "      <td>Bellevue</td>\n",
       "      <td>23804</td>\n",
       "      <td>2</td>\n",
       "      <td>11.081739</td>\n",
       "      <td>22.615200</td>\n",
       "      <td>217.498500</td>\n",
       "      <td>12616</td>\n",
       "    </tr>\n",
       "    <tr>\n",
       "      <th>7</th>\n",
       "      <td>33</td>\n",
       "      <td>Bellevue</td>\n",
       "      <td>23804</td>\n",
       "      <td>3</td>\n",
       "      <td>12.272727</td>\n",
       "      <td>22.189091</td>\n",
       "      <td>247.914000</td>\n",
       "      <td>11676</td>\n",
       "    </tr>\n",
       "    <tr>\n",
       "      <th>8</th>\n",
       "      <td>33</td>\n",
       "      <td>Seattle</td>\n",
       "      <td>7000</td>\n",
       "      <td>3</td>\n",
       "      <td>11.664000</td>\n",
       "      <td>30.024000</td>\n",
       "      <td>133.200000</td>\n",
       "      <td>396</td>\n",
       "    </tr>\n",
       "    <tr>\n",
       "      <th>9</th>\n",
       "      <td>33</td>\n",
       "      <td>Seattle</td>\n",
       "      <td>7000</td>\n",
       "      <td>5</td>\n",
       "      <td>7.020000</td>\n",
       "      <td>12.420000</td>\n",
       "      <td>129.240000</td>\n",
       "      <td>561</td>\n",
       "    </tr>\n",
       "    <tr>\n",
       "      <th>10</th>\n",
       "      <td>33</td>\n",
       "      <td>Seattle</td>\n",
       "      <td>7100</td>\n",
       "      <td>1</td>\n",
       "      <td>6.281280</td>\n",
       "      <td>22.541400</td>\n",
       "      <td>216.000000</td>\n",
       "      <td>1592</td>\n",
       "    </tr>\n",
       "    <tr>\n",
       "      <th>11</th>\n",
       "      <td>33</td>\n",
       "      <td>Seattle</td>\n",
       "      <td>7100</td>\n",
       "      <td>2</td>\n",
       "      <td>10.557000</td>\n",
       "      <td>19.194545</td>\n",
       "      <td>179.981018</td>\n",
       "      <td>3136</td>\n",
       "    </tr>\n",
       "    <tr>\n",
       "      <th>12</th>\n",
       "      <td>33</td>\n",
       "      <td>Seattle</td>\n",
       "      <td>7200</td>\n",
       "      <td>1</td>\n",
       "      <td>10.491525</td>\n",
       "      <td>24.810860</td>\n",
       "      <td>304.282800</td>\n",
       "      <td>13140</td>\n",
       "    </tr>\n",
       "    <tr>\n",
       "      <th>13</th>\n",
       "      <td>33</td>\n",
       "      <td>Seattle</td>\n",
       "      <td>7200</td>\n",
       "      <td>2</td>\n",
       "      <td>8.245200</td>\n",
       "      <td>20.121600</td>\n",
       "      <td>275.400000</td>\n",
       "      <td>834</td>\n",
       "    </tr>\n",
       "    <tr>\n",
       "      <th>14</th>\n",
       "      <td>33</td>\n",
       "      <td>Seattle</td>\n",
       "      <td>7200</td>\n",
       "      <td>3</td>\n",
       "      <td>12.960000</td>\n",
       "      <td>38.880000</td>\n",
       "      <td>NaN</td>\n",
       "      <td>138</td>\n",
       "    </tr>\n",
       "    <tr>\n",
       "      <th>15</th>\n",
       "      <td>33</td>\n",
       "      <td>Seattle</td>\n",
       "      <td>7300</td>\n",
       "      <td>1</td>\n",
       "      <td>7.200000</td>\n",
       "      <td>24.120000</td>\n",
       "      <td>304.251429</td>\n",
       "      <td>2304</td>\n",
       "    </tr>\n",
       "    <tr>\n",
       "      <th>16</th>\n",
       "      <td>33</td>\n",
       "      <td>Seattle</td>\n",
       "      <td>7300</td>\n",
       "      <td>2</td>\n",
       "      <td>10.156547</td>\n",
       "      <td>24.767811</td>\n",
       "      <td>335.640000</td>\n",
       "      <td>2924</td>\n",
       "    </tr>\n",
       "    <tr>\n",
       "      <th>17</th>\n",
       "      <td>33</td>\n",
       "      <td>Seattle</td>\n",
       "      <td>7300</td>\n",
       "      <td>3</td>\n",
       "      <td>9.795200</td>\n",
       "      <td>26.387007</td>\n",
       "      <td>342.654545</td>\n",
       "      <td>7621</td>\n",
       "    </tr>\n",
       "    <tr>\n",
       "      <th>18</th>\n",
       "      <td>33</td>\n",
       "      <td>Seattle</td>\n",
       "      <td>8001</td>\n",
       "      <td>1</td>\n",
       "      <td>7.433100</td>\n",
       "      <td>18.722880</td>\n",
       "      <td>268.920000</td>\n",
       "      <td>869</td>\n",
       "    </tr>\n",
       "    <tr>\n",
       "      <th>19</th>\n",
       "      <td>33</td>\n",
       "      <td>Seattle</td>\n",
       "      <td>8001</td>\n",
       "      <td>2</td>\n",
       "      <td>10.886400</td>\n",
       "      <td>21.373200</td>\n",
       "      <td>381.240000</td>\n",
       "      <td>173</td>\n",
       "    </tr>\n",
       "    <tr>\n",
       "      <th>20</th>\n",
       "      <td>33</td>\n",
       "      <td>Seattle</td>\n",
       "      <td>8001</td>\n",
       "      <td>3</td>\n",
       "      <td>7.560000</td>\n",
       "      <td>21.960000</td>\n",
       "      <td>196.200000</td>\n",
       "      <td>1101</td>\n",
       "    </tr>\n",
       "    <tr>\n",
       "      <th>21</th>\n",
       "      <td>33</td>\n",
       "      <td>Seattle</td>\n",
       "      <td>8001</td>\n",
       "      <td>4</td>\n",
       "      <td>6.480000</td>\n",
       "      <td>17.280000</td>\n",
       "      <td>270.000000</td>\n",
       "      <td>667</td>\n",
       "    </tr>\n",
       "    <tr>\n",
       "      <th>22</th>\n",
       "      <td>33</td>\n",
       "      <td>Seattle</td>\n",
       "      <td>8002</td>\n",
       "      <td>1</td>\n",
       "      <td>13.245120</td>\n",
       "      <td>29.371680</td>\n",
       "      <td>295.920000</td>\n",
       "      <td>564</td>\n",
       "    </tr>\n",
       "    <tr>\n",
       "      <th>23</th>\n",
       "      <td>33</td>\n",
       "      <td>Seattle</td>\n",
       "      <td>8002</td>\n",
       "      <td>2</td>\n",
       "      <td>10.309091</td>\n",
       "      <td>20.912727</td>\n",
       "      <td>278.208000</td>\n",
       "      <td>2320</td>\n",
       "    </tr>\n",
       "    <tr>\n",
       "      <th>24</th>\n",
       "      <td>33</td>\n",
       "      <td>Seattle</td>\n",
       "      <td>8100</td>\n",
       "      <td>1</td>\n",
       "      <td>13.944343</td>\n",
       "      <td>32.677020</td>\n",
       "      <td>321.483600</td>\n",
       "      <td>4417</td>\n",
       "    </tr>\n",
       "    <tr>\n",
       "      <th>25</th>\n",
       "      <td>33</td>\n",
       "      <td>Seattle</td>\n",
       "      <td>8100</td>\n",
       "      <td>2</td>\n",
       "      <td>17.083636</td>\n",
       "      <td>32.535000</td>\n",
       "      <td>335.218176</td>\n",
       "      <td>10178</td>\n",
       "    </tr>\n",
       "    <tr>\n",
       "      <th>26</th>\n",
       "      <td>33</td>\n",
       "      <td>Seattle</td>\n",
       "      <td>8100</td>\n",
       "      <td>3</td>\n",
       "      <td>13.716000</td>\n",
       "      <td>36.180000</td>\n",
       "      <td>400.291200</td>\n",
       "      <td>2275</td>\n",
       "    </tr>\n",
       "    <tr>\n",
       "      <th>27</th>\n",
       "      <td>33</td>\n",
       "      <td>Seattle</td>\n",
       "      <td>8200</td>\n",
       "      <td>1</td>\n",
       "      <td>14.671584</td>\n",
       "      <td>33.740446</td>\n",
       "      <td>343.882800</td>\n",
       "      <td>9423</td>\n",
       "    </tr>\n",
       "    <tr>\n",
       "      <th>28</th>\n",
       "      <td>33</td>\n",
       "      <td>Seattle</td>\n",
       "      <td>8200</td>\n",
       "      <td>2</td>\n",
       "      <td>7.333200</td>\n",
       "      <td>16.823700</td>\n",
       "      <td>NaN</td>\n",
       "      <td>529</td>\n",
       "    </tr>\n",
       "    <tr>\n",
       "      <th>29</th>\n",
       "      <td>33</td>\n",
       "      <td>Seattle</td>\n",
       "      <td>8200</td>\n",
       "      <td>3</td>\n",
       "      <td>7.020000</td>\n",
       "      <td>17.820000</td>\n",
       "      <td>275.400000</td>\n",
       "      <td>925</td>\n",
       "    </tr>\n",
       "    <tr>\n",
       "      <th>...</th>\n",
       "      <td>...</td>\n",
       "      <td>...</td>\n",
       "      <td>...</td>\n",
       "      <td>...</td>\n",
       "      <td>...</td>\n",
       "      <td>...</td>\n",
       "      <td>...</td>\n",
       "      <td>...</td>\n",
       "    </tr>\n",
       "    <tr>\n",
       "      <th>60</th>\n",
       "      <td>35</td>\n",
       "      <td>Bainbridge</td>\n",
       "      <td>90900</td>\n",
       "      <td>1</td>\n",
       "      <td>5.400000</td>\n",
       "      <td>5.400000</td>\n",
       "      <td>NaN</td>\n",
       "      <td>814</td>\n",
       "    </tr>\n",
       "    <tr>\n",
       "      <th>61</th>\n",
       "      <td>35</td>\n",
       "      <td>Bainbridge</td>\n",
       "      <td>90900</td>\n",
       "      <td>2</td>\n",
       "      <td>11.295000</td>\n",
       "      <td>11.295000</td>\n",
       "      <td>221.040000</td>\n",
       "      <td>1171</td>\n",
       "    </tr>\n",
       "    <tr>\n",
       "      <th>62</th>\n",
       "      <td>35</td>\n",
       "      <td>Bremerton</td>\n",
       "      <td>80500</td>\n",
       "      <td>1</td>\n",
       "      <td>5.340000</td>\n",
       "      <td>9.720000</td>\n",
       "      <td>115.658182</td>\n",
       "      <td>2694</td>\n",
       "    </tr>\n",
       "    <tr>\n",
       "      <th>63</th>\n",
       "      <td>35</td>\n",
       "      <td>Bremerton</td>\n",
       "      <td>80500</td>\n",
       "      <td>2</td>\n",
       "      <td>6.787241</td>\n",
       "      <td>6.936207</td>\n",
       "      <td>92.898621</td>\n",
       "      <td>3840</td>\n",
       "    </tr>\n",
       "    <tr>\n",
       "      <th>64</th>\n",
       "      <td>35</td>\n",
       "      <td>Bremerton</td>\n",
       "      <td>80600</td>\n",
       "      <td>5</td>\n",
       "      <td>NaN</td>\n",
       "      <td>NaN</td>\n",
       "      <td>NaN</td>\n",
       "      <td>2010</td>\n",
       "    </tr>\n",
       "    <tr>\n",
       "      <th>65</th>\n",
       "      <td>35</td>\n",
       "      <td>Bremerton</td>\n",
       "      <td>81100</td>\n",
       "      <td>1</td>\n",
       "      <td>NaN</td>\n",
       "      <td>NaN</td>\n",
       "      <td>NaN</td>\n",
       "      <td>1072</td>\n",
       "    </tr>\n",
       "    <tr>\n",
       "      <th>66</th>\n",
       "      <td>35</td>\n",
       "      <td>Bremerton</td>\n",
       "      <td>81100</td>\n",
       "      <td>2</td>\n",
       "      <td>NaN</td>\n",
       "      <td>NaN</td>\n",
       "      <td>NaN</td>\n",
       "      <td>3440</td>\n",
       "    </tr>\n",
       "    <tr>\n",
       "      <th>67</th>\n",
       "      <td>35</td>\n",
       "      <td>Bremerton</td>\n",
       "      <td>81200</td>\n",
       "      <td>1</td>\n",
       "      <td>NaN</td>\n",
       "      <td>NaN</td>\n",
       "      <td>NaN</td>\n",
       "      <td>458</td>\n",
       "    </tr>\n",
       "    <tr>\n",
       "      <th>68</th>\n",
       "      <td>35</td>\n",
       "      <td>Bremerton</td>\n",
       "      <td>81200</td>\n",
       "      <td>2</td>\n",
       "      <td>9.990000</td>\n",
       "      <td>9.990000</td>\n",
       "      <td>148.500000</td>\n",
       "      <td>561</td>\n",
       "    </tr>\n",
       "    <tr>\n",
       "      <th>69</th>\n",
       "      <td>35</td>\n",
       "      <td>Kingston</td>\n",
       "      <td>90102</td>\n",
       "      <td>1</td>\n",
       "      <td>5.400000</td>\n",
       "      <td>6.240000</td>\n",
       "      <td>83.700000</td>\n",
       "      <td>1472</td>\n",
       "    </tr>\n",
       "    <tr>\n",
       "      <th>70</th>\n",
       "      <td>35</td>\n",
       "      <td>Southworth</td>\n",
       "      <td>92704</td>\n",
       "      <td>1</td>\n",
       "      <td>NaN</td>\n",
       "      <td>NaN</td>\n",
       "      <td>NaN</td>\n",
       "      <td>30</td>\n",
       "    </tr>\n",
       "    <tr>\n",
       "      <th>71</th>\n",
       "      <td>35</td>\n",
       "      <td>Southworth</td>\n",
       "      <td>92704</td>\n",
       "      <td>2</td>\n",
       "      <td>5.400000</td>\n",
       "      <td>5.400000</td>\n",
       "      <td>NaN</td>\n",
       "      <td>355</td>\n",
       "    </tr>\n",
       "    <tr>\n",
       "      <th>72</th>\n",
       "      <td>53</td>\n",
       "      <td>Tacoma</td>\n",
       "      <td>60200</td>\n",
       "      <td>1</td>\n",
       "      <td>7.076348</td>\n",
       "      <td>10.466609</td>\n",
       "      <td>58.121153</td>\n",
       "      <td>7153</td>\n",
       "    </tr>\n",
       "    <tr>\n",
       "      <th>73</th>\n",
       "      <td>53</td>\n",
       "      <td>Tacoma</td>\n",
       "      <td>61400</td>\n",
       "      <td>1</td>\n",
       "      <td>2.160000</td>\n",
       "      <td>5.400000</td>\n",
       "      <td>59.454000</td>\n",
       "      <td>450</td>\n",
       "    </tr>\n",
       "    <tr>\n",
       "      <th>74</th>\n",
       "      <td>53</td>\n",
       "      <td>Tacoma</td>\n",
       "      <td>61400</td>\n",
       "      <td>2</td>\n",
       "      <td>6.480000</td>\n",
       "      <td>16.200000</td>\n",
       "      <td>NaN</td>\n",
       "      <td>591</td>\n",
       "    </tr>\n",
       "    <tr>\n",
       "      <th>75</th>\n",
       "      <td>53</td>\n",
       "      <td>Tacoma</td>\n",
       "      <td>61400</td>\n",
       "      <td>3</td>\n",
       "      <td>NaN</td>\n",
       "      <td>NaN</td>\n",
       "      <td>NaN</td>\n",
       "      <td>365</td>\n",
       "    </tr>\n",
       "    <tr>\n",
       "      <th>76</th>\n",
       "      <td>53</td>\n",
       "      <td>Tacoma</td>\n",
       "      <td>61500</td>\n",
       "      <td>2</td>\n",
       "      <td>5.076000</td>\n",
       "      <td>5.076000</td>\n",
       "      <td>70.200000</td>\n",
       "      <td>322</td>\n",
       "    </tr>\n",
       "    <tr>\n",
       "      <th>77</th>\n",
       "      <td>53</td>\n",
       "      <td>Tacoma</td>\n",
       "      <td>61500</td>\n",
       "      <td>3</td>\n",
       "      <td>NaN</td>\n",
       "      <td>NaN</td>\n",
       "      <td>NaN</td>\n",
       "      <td>365</td>\n",
       "    </tr>\n",
       "    <tr>\n",
       "      <th>78</th>\n",
       "      <td>53</td>\n",
       "      <td>Tacoma</td>\n",
       "      <td>61601</td>\n",
       "      <td>1</td>\n",
       "      <td>5.300922</td>\n",
       "      <td>13.462435</td>\n",
       "      <td>139.042440</td>\n",
       "      <td>8327</td>\n",
       "    </tr>\n",
       "    <tr>\n",
       "      <th>79</th>\n",
       "      <td>53</td>\n",
       "      <td>Tacoma</td>\n",
       "      <td>61602</td>\n",
       "      <td>1</td>\n",
       "      <td>4.010400</td>\n",
       "      <td>7.353000</td>\n",
       "      <td>90.019350</td>\n",
       "      <td>3645</td>\n",
       "    </tr>\n",
       "    <tr>\n",
       "      <th>80</th>\n",
       "      <td>53</td>\n",
       "      <td>Tacoma</td>\n",
       "      <td>61700</td>\n",
       "      <td>1</td>\n",
       "      <td>NaN</td>\n",
       "      <td>NaN</td>\n",
       "      <td>NaN</td>\n",
       "      <td>509</td>\n",
       "    </tr>\n",
       "    <tr>\n",
       "      <th>81</th>\n",
       "      <td>61</td>\n",
       "      <td>Everett</td>\n",
       "      <td>40400</td>\n",
       "      <td>1</td>\n",
       "      <td>3.240000</td>\n",
       "      <td>10.800000</td>\n",
       "      <td>43.200000</td>\n",
       "      <td>422</td>\n",
       "    </tr>\n",
       "    <tr>\n",
       "      <th>82</th>\n",
       "      <td>61</td>\n",
       "      <td>Everett</td>\n",
       "      <td>40400</td>\n",
       "      <td>2</td>\n",
       "      <td>NaN</td>\n",
       "      <td>NaN</td>\n",
       "      <td>NaN</td>\n",
       "      <td>80</td>\n",
       "    </tr>\n",
       "    <tr>\n",
       "      <th>83</th>\n",
       "      <td>61</td>\n",
       "      <td>Everett</td>\n",
       "      <td>40400</td>\n",
       "      <td>3</td>\n",
       "      <td>NaN</td>\n",
       "      <td>NaN</td>\n",
       "      <td>NaN</td>\n",
       "      <td>442</td>\n",
       "    </tr>\n",
       "    <tr>\n",
       "      <th>84</th>\n",
       "      <td>61</td>\n",
       "      <td>Everett</td>\n",
       "      <td>40700</td>\n",
       "      <td>1</td>\n",
       "      <td>3.240000</td>\n",
       "      <td>11.340000</td>\n",
       "      <td>70.200000</td>\n",
       "      <td>2612</td>\n",
       "    </tr>\n",
       "    <tr>\n",
       "      <th>85</th>\n",
       "      <td>61</td>\n",
       "      <td>Everett</td>\n",
       "      <td>40700</td>\n",
       "      <td>2</td>\n",
       "      <td>5.400000</td>\n",
       "      <td>5.400000</td>\n",
       "      <td>68.400000</td>\n",
       "      <td>736</td>\n",
       "    </tr>\n",
       "    <tr>\n",
       "      <th>86</th>\n",
       "      <td>61</td>\n",
       "      <td>Everett</td>\n",
       "      <td>40700</td>\n",
       "      <td>3</td>\n",
       "      <td>5.130000</td>\n",
       "      <td>9.180000</td>\n",
       "      <td>NaN</td>\n",
       "      <td>1291</td>\n",
       "    </tr>\n",
       "    <tr>\n",
       "      <th>87</th>\n",
       "      <td>61</td>\n",
       "      <td>Everett</td>\n",
       "      <td>40700</td>\n",
       "      <td>4</td>\n",
       "      <td>NaN</td>\n",
       "      <td>NaN</td>\n",
       "      <td>NaN</td>\n",
       "      <td>4345</td>\n",
       "    </tr>\n",
       "    <tr>\n",
       "      <th>88</th>\n",
       "      <td>61</td>\n",
       "      <td>Everett</td>\n",
       "      <td>40800</td>\n",
       "      <td>1</td>\n",
       "      <td>NaN</td>\n",
       "      <td>NaN</td>\n",
       "      <td>NaN</td>\n",
       "      <td>1182</td>\n",
       "    </tr>\n",
       "    <tr>\n",
       "      <th>89</th>\n",
       "      <td>61</td>\n",
       "      <td>Everett</td>\n",
       "      <td>40800</td>\n",
       "      <td>2</td>\n",
       "      <td>3.105000</td>\n",
       "      <td>10.260000</td>\n",
       "      <td>73.440000</td>\n",
       "      <td>3349</td>\n",
       "    </tr>\n",
       "  </tbody>\n",
       "</table>\n",
       "<p>90 rows × 8 columns</p>\n",
       "</div>"
      ],
      "text/plain": [
       "    county        city  tract10  blockgp10  Average Hourly Costs  \\\n",
       "0       33    Bellevue    23601          2                   NaN   \n",
       "1       33    Bellevue    23700          3              4.320000   \n",
       "2       33    Bellevue    23801          1              5.400000   \n",
       "3       33    Bellevue    23803          1              8.610000   \n",
       "4       33    Bellevue    23803          2              8.640000   \n",
       "5       33    Bellevue    23804          1             15.120000   \n",
       "6       33    Bellevue    23804          2             11.081739   \n",
       "7       33    Bellevue    23804          3             12.272727   \n",
       "8       33     Seattle     7000          3             11.664000   \n",
       "9       33     Seattle     7000          5              7.020000   \n",
       "10      33     Seattle     7100          1              6.281280   \n",
       "11      33     Seattle     7100          2             10.557000   \n",
       "12      33     Seattle     7200          1             10.491525   \n",
       "13      33     Seattle     7200          2              8.245200   \n",
       "14      33     Seattle     7200          3             12.960000   \n",
       "15      33     Seattle     7300          1              7.200000   \n",
       "16      33     Seattle     7300          2             10.156547   \n",
       "17      33     Seattle     7300          3              9.795200   \n",
       "18      33     Seattle     8001          1              7.433100   \n",
       "19      33     Seattle     8001          2             10.886400   \n",
       "20      33     Seattle     8001          3              7.560000   \n",
       "21      33     Seattle     8001          4              6.480000   \n",
       "22      33     Seattle     8002          1             13.245120   \n",
       "23      33     Seattle     8002          2             10.309091   \n",
       "24      33     Seattle     8100          1             13.944343   \n",
       "25      33     Seattle     8100          2             17.083636   \n",
       "26      33     Seattle     8100          3             13.716000   \n",
       "27      33     Seattle     8200          1             14.671584   \n",
       "28      33     Seattle     8200          2              7.333200   \n",
       "29      33     Seattle     8200          3              7.020000   \n",
       "..     ...         ...      ...        ...                   ...   \n",
       "60      35  Bainbridge    90900          1              5.400000   \n",
       "61      35  Bainbridge    90900          2             11.295000   \n",
       "62      35   Bremerton    80500          1              5.340000   \n",
       "63      35   Bremerton    80500          2              6.787241   \n",
       "64      35   Bremerton    80600          5                   NaN   \n",
       "65      35   Bremerton    81100          1                   NaN   \n",
       "66      35   Bremerton    81100          2                   NaN   \n",
       "67      35   Bremerton    81200          1                   NaN   \n",
       "68      35   Bremerton    81200          2              9.990000   \n",
       "69      35    Kingston    90102          1              5.400000   \n",
       "70      35  Southworth    92704          1                   NaN   \n",
       "71      35  Southworth    92704          2              5.400000   \n",
       "72      53      Tacoma    60200          1              7.076348   \n",
       "73      53      Tacoma    61400          1              2.160000   \n",
       "74      53      Tacoma    61400          2              6.480000   \n",
       "75      53      Tacoma    61400          3                   NaN   \n",
       "76      53      Tacoma    61500          2              5.076000   \n",
       "77      53      Tacoma    61500          3                   NaN   \n",
       "78      53      Tacoma    61601          1              5.300922   \n",
       "79      53      Tacoma    61602          1              4.010400   \n",
       "80      53      Tacoma    61700          1                   NaN   \n",
       "81      61     Everett    40400          1              3.240000   \n",
       "82      61     Everett    40400          2                   NaN   \n",
       "83      61     Everett    40400          3                   NaN   \n",
       "84      61     Everett    40700          1              3.240000   \n",
       "85      61     Everett    40700          2              5.400000   \n",
       "86      61     Everett    40700          3              5.130000   \n",
       "87      61     Everett    40700          4                   NaN   \n",
       "88      61     Everett    40800          1                   NaN   \n",
       "89      61     Everett    40800          2              3.105000   \n",
       "\n",
       "    Average Daily Costs  Average Monthly Costs  Total Stalls  \n",
       "0                   NaN                    NaN          1158  \n",
       "1              6.264000                    NaN          2357  \n",
       "2             12.960000                    NaN           556  \n",
       "3             19.224000             197.228057          5212  \n",
       "4             18.360000             228.420000          4053  \n",
       "5             40.320000             189.000000          8050  \n",
       "6             22.615200             217.498500         12616  \n",
       "7             22.189091             247.914000         11676  \n",
       "8             30.024000             133.200000           396  \n",
       "9             12.420000             129.240000           561  \n",
       "10            22.541400             216.000000          1592  \n",
       "11            19.194545             179.981018          3136  \n",
       "12            24.810860             304.282800         13140  \n",
       "13            20.121600             275.400000           834  \n",
       "14            38.880000                    NaN           138  \n",
       "15            24.120000             304.251429          2304  \n",
       "16            24.767811             335.640000          2924  \n",
       "17            26.387007             342.654545          7621  \n",
       "18            18.722880             268.920000           869  \n",
       "19            21.373200             381.240000           173  \n",
       "20            21.960000             196.200000          1101  \n",
       "21            17.280000             270.000000           667  \n",
       "22            29.371680             295.920000           564  \n",
       "23            20.912727             278.208000          2320  \n",
       "24            32.677020             321.483600          4417  \n",
       "25            32.535000             335.218176         10178  \n",
       "26            36.180000             400.291200          2275  \n",
       "27            33.740446             343.882800          9423  \n",
       "28            16.823700                    NaN           529  \n",
       "29            17.820000             275.400000           925  \n",
       "..                  ...                    ...           ...  \n",
       "60             5.400000                    NaN           814  \n",
       "61            11.295000             221.040000          1171  \n",
       "62             9.720000             115.658182          2694  \n",
       "63             6.936207              92.898621          3840  \n",
       "64                  NaN                    NaN          2010  \n",
       "65                  NaN                    NaN          1072  \n",
       "66                  NaN                    NaN          3440  \n",
       "67                  NaN                    NaN           458  \n",
       "68             9.990000             148.500000           561  \n",
       "69             6.240000              83.700000          1472  \n",
       "70                  NaN                    NaN            30  \n",
       "71             5.400000                    NaN           355  \n",
       "72            10.466609              58.121153          7153  \n",
       "73             5.400000              59.454000           450  \n",
       "74            16.200000                    NaN           591  \n",
       "75                  NaN                    NaN           365  \n",
       "76             5.076000              70.200000           322  \n",
       "77                  NaN                    NaN           365  \n",
       "78            13.462435             139.042440          8327  \n",
       "79             7.353000              90.019350          3645  \n",
       "80                  NaN                    NaN           509  \n",
       "81            10.800000              43.200000           422  \n",
       "82                  NaN                    NaN            80  \n",
       "83                  NaN                    NaN           442  \n",
       "84            11.340000              70.200000          2612  \n",
       "85             5.400000              68.400000           736  \n",
       "86             9.180000                    NaN          1291  \n",
       "87                  NaN                    NaN          4345  \n",
       "88                  NaN                    NaN          1182  \n",
       "89            10.260000              73.440000          3349  \n",
       "\n",
       "[90 rows x 8 columns]"
      ]
     },
     "execution_count": 33,
     "metadata": {},
     "output_type": "execute_result"
    }
   ],
   "source": [
    "g10"
   ]
  },
  {
   "cell_type": "code",
   "execution_count": null,
   "metadata": {
    "collapsed": true
   },
   "outputs": [],
   "source": []
  },
  {
   "cell_type": "markdown",
   "metadata": {},
   "source": [
    "### 2013 data\n",
    "Tricks: there might be many new lots in 2018 don't have monthly information availabel. It will impact the final-average parking cost. So - I want to find out 1: if the previous parking cost carry over to the new cost. 2: how to calculate the 2018 average cost, giving that there are some no-cost values. "
   ]
  },
  {
   "cell_type": "code",
   "execution_count": 35,
   "metadata": {
    "collapsed": false
   },
   "outputs": [],
   "source": [
    "# 2013 parking data\n",
    "parking_2013_monthly = pd.read_csv('CostsMonthlyBlockGroups_2013.csv')\n",
    "p1 = parking_2013_monthly\n",
    "parking_2013_daily = pd.read_csv('CostsDailyBlockGroups_2013.csv')\n",
    "p2 = parking_2013_daily\n",
    "parking_2013_hourly = pd.read_csv('CostsHourlyBlockGroups_2013.csv')\n",
    "p3 = parking_2013_hourly\n",
    "parking_2013_max = pd.read_csv('OccupancyBlockGroups_2013.csv')\n",
    "p4 = parking_2013_max"
   ]
  },
  {
   "cell_type": "code",
   "execution_count": 36,
   "metadata": {
    "collapsed": true
   },
   "outputs": [],
   "source": [
    "p5 = pd.merge(p1, p2, how='outer', on = ['County','City', 'Tract', 'Block Group'])"
   ]
  },
  {
   "cell_type": "code",
   "execution_count": 37,
   "metadata": {
    "collapsed": false
   },
   "outputs": [],
   "source": [
    "p6 = pd.merge(p5, p3, how='outer', on = ['County','City', 'Tract', 'Block Group'])"
   ]
  },
  {
   "cell_type": "code",
   "execution_count": 38,
   "metadata": {
    "collapsed": true
   },
   "outputs": [],
   "source": [
    "p7 = pd.merge(p6, p4, how='outer', on = ['County','City', 'Tract', 'Block Group'])"
   ]
  },
  {
   "cell_type": "code",
   "execution_count": 39,
   "metadata": {
    "collapsed": false
   },
   "outputs": [
    {
     "data": {
      "text/plain": [
       "Index([u'County', u'City', u'Tract', u'Block Group',\n",
       "       u' Paylots w/ Monthly Costs ', u'Summed Costs_x', u'Min Monthly Costs',\n",
       "       u'Max Monthly Costs', u'Average Monthly Costs',\n",
       "       u' Paylots w/ Daily Costs ', u'Summed Costs_y', u'Min Daily Costs',\n",
       "       u'Max Daily Costs', u'Average Daily Costs',\n",
       "       u' Paylots w/ Hourly Costs ', u'Summed Costs', u'Min Hourly Costs',\n",
       "       u'Max Hourly Costs', u'Average Hourly Costs', u'Unnamed: 9',\n",
       "       u' Number of Lots ', u'Total Stalls', u' Total AM Car Count ',\n",
       "       u' Total PM Car Count ', u' Average Total Stalls ',\n",
       "       u' Average AM Car Count ', u' Average PM Car Count ',\n",
       "       u'AM Occupancy Rate', u'PM Occupancy Rate',\n",
       "       u'Average Daily Occupancy Rate'],\n",
       "      dtype='object')"
      ]
     },
     "execution_count": 39,
     "metadata": {},
     "output_type": "execute_result"
    }
   ],
   "source": [
    "p7.columns"
   ]
  },
  {
   "cell_type": "code",
   "execution_count": 40,
   "metadata": {
    "collapsed": false
   },
   "outputs": [],
   "source": [
    "p8 = p7[['County','City', 'Tract', 'Block Group', 'Average Hourly Costs', 'Average Daily Costs', 'Average Monthly Costs', 'Total Stalls']]"
   ]
  },
  {
   "cell_type": "code",
   "execution_count": 41,
   "metadata": {
    "collapsed": false
   },
   "outputs": [
    {
     "data": {
      "text/plain": [
       "County                    object\n",
       "City                      object\n",
       "Tract                      int64\n",
       "Block Group                int64\n",
       "Average Hourly Costs     float64\n",
       "Average Daily Costs      float64\n",
       "Average Monthly Costs    float64\n",
       "Total Stalls             float64\n",
       "dtype: object"
      ]
     },
     "execution_count": 41,
     "metadata": {},
     "output_type": "execute_result"
    }
   ],
   "source": [
    "p8.dtypes"
   ]
  },
  {
   "cell_type": "code",
   "execution_count": 42,
   "metadata": {
    "collapsed": false
   },
   "outputs": [],
   "source": [
    "p10 = p8.rename(columns={'Block Group':'blockgp10', 'Tract':'tract10', 'City':'city', 'County':'county',\n",
    "                        'Average Hourly Costs':'Average Hourly Costs 13', 'Average Daily Costs':'Average Daily Costs 13',\n",
    "                        'Average Monthly Costs':'Average Monthly Costs 13', 'Total Stalls': 'Total Stalls 13'})"
   ]
  },
  {
   "cell_type": "markdown",
   "metadata": {},
   "source": [
    "### Compare 2018 to 2013, averaged by blockgroup"
   ]
  },
  {
   "cell_type": "code",
   "execution_count": 43,
   "metadata": {
    "collapsed": false
   },
   "outputs": [],
   "source": [
    "c1 = pd.merge(g10, p10, how='outer', on = ['tract10', 'blockgp10'])"
   ]
  },
  {
   "cell_type": "code",
   "execution_count": 44,
   "metadata": {
    "collapsed": false,
    "scrolled": false
   },
   "outputs": [
    {
     "data": {
      "text/html": [
       "<div>\n",
       "<table border=\"1\" class=\"dataframe\">\n",
       "  <thead>\n",
       "    <tr style=\"text-align: right;\">\n",
       "      <th></th>\n",
       "      <th>county_x</th>\n",
       "      <th>city_x</th>\n",
       "      <th>tract10</th>\n",
       "      <th>blockgp10</th>\n",
       "      <th>Average Hourly Costs</th>\n",
       "      <th>Average Daily Costs</th>\n",
       "      <th>Average Monthly Costs</th>\n",
       "      <th>Total Stalls</th>\n",
       "      <th>county_y</th>\n",
       "      <th>city_y</th>\n",
       "      <th>Average Hourly Costs 13</th>\n",
       "      <th>Average Daily Costs 13</th>\n",
       "      <th>Average Monthly Costs 13</th>\n",
       "      <th>Total Stalls 13</th>\n",
       "    </tr>\n",
       "  </thead>\n",
       "  <tbody>\n",
       "    <tr>\n",
       "      <th>0</th>\n",
       "      <td>33</td>\n",
       "      <td>Bellevue</td>\n",
       "      <td>23601</td>\n",
       "      <td>2</td>\n",
       "      <td>NaN</td>\n",
       "      <td>NaN</td>\n",
       "      <td>NaN</td>\n",
       "      <td>1158</td>\n",
       "      <td>King</td>\n",
       "      <td>Bellevue</td>\n",
       "      <td>NaN</td>\n",
       "      <td>NaN</td>\n",
       "      <td>NaN</td>\n",
       "      <td>1163.0</td>\n",
       "    </tr>\n",
       "    <tr>\n",
       "      <th>1</th>\n",
       "      <td>33</td>\n",
       "      <td>Bellevue</td>\n",
       "      <td>23700</td>\n",
       "      <td>3</td>\n",
       "      <td>4.32</td>\n",
       "      <td>6.264</td>\n",
       "      <td>NaN</td>\n",
       "      <td>2357</td>\n",
       "      <td>King</td>\n",
       "      <td>Bellevue</td>\n",
       "      <td>4.25</td>\n",
       "      <td>5.5</td>\n",
       "      <td>NaN</td>\n",
       "      <td>2145.0</td>\n",
       "    </tr>\n",
       "    <tr>\n",
       "      <th>2</th>\n",
       "      <td>33</td>\n",
       "      <td>Bellevue</td>\n",
       "      <td>23801</td>\n",
       "      <td>1</td>\n",
       "      <td>5.40</td>\n",
       "      <td>12.960</td>\n",
       "      <td>NaN</td>\n",
       "      <td>556</td>\n",
       "      <td>King</td>\n",
       "      <td>Bellevue</td>\n",
       "      <td>NaN</td>\n",
       "      <td>15.0</td>\n",
       "      <td>NaN</td>\n",
       "      <td>1299.0</td>\n",
       "    </tr>\n",
       "    <tr>\n",
       "      <th>3</th>\n",
       "      <td>33</td>\n",
       "      <td>Bellevue</td>\n",
       "      <td>23803</td>\n",
       "      <td>1</td>\n",
       "      <td>8.61</td>\n",
       "      <td>19.224</td>\n",
       "      <td>197.228057</td>\n",
       "      <td>5212</td>\n",
       "      <td>King</td>\n",
       "      <td>Bellevue</td>\n",
       "      <td>4.83</td>\n",
       "      <td>12.5</td>\n",
       "      <td>130.36</td>\n",
       "      <td>4429.0</td>\n",
       "    </tr>\n",
       "    <tr>\n",
       "      <th>4</th>\n",
       "      <td>33</td>\n",
       "      <td>Bellevue</td>\n",
       "      <td>23803</td>\n",
       "      <td>2</td>\n",
       "      <td>8.64</td>\n",
       "      <td>18.360</td>\n",
       "      <td>228.420000</td>\n",
       "      <td>4053</td>\n",
       "      <td>King</td>\n",
       "      <td>Bellevue</td>\n",
       "      <td>8.25</td>\n",
       "      <td>14.0</td>\n",
       "      <td>171.52</td>\n",
       "      <td>4163.0</td>\n",
       "    </tr>\n",
       "  </tbody>\n",
       "</table>\n",
       "</div>"
      ],
      "text/plain": [
       "   county_x    city_x  tract10  blockgp10  Average Hourly Costs  \\\n",
       "0        33  Bellevue    23601          2                   NaN   \n",
       "1        33  Bellevue    23700          3                  4.32   \n",
       "2        33  Bellevue    23801          1                  5.40   \n",
       "3        33  Bellevue    23803          1                  8.61   \n",
       "4        33  Bellevue    23803          2                  8.64   \n",
       "\n",
       "   Average Daily Costs  Average Monthly Costs  Total Stalls county_y  \\\n",
       "0                  NaN                    NaN          1158     King   \n",
       "1                6.264                    NaN          2357     King   \n",
       "2               12.960                    NaN           556     King   \n",
       "3               19.224             197.228057          5212     King   \n",
       "4               18.360             228.420000          4053     King   \n",
       "\n",
       "     city_y  Average Hourly Costs 13  Average Daily Costs 13  \\\n",
       "0  Bellevue                      NaN                     NaN   \n",
       "1  Bellevue                     4.25                     5.5   \n",
       "2  Bellevue                      NaN                    15.0   \n",
       "3  Bellevue                     4.83                    12.5   \n",
       "4  Bellevue                     8.25                    14.0   \n",
       "\n",
       "   Average Monthly Costs 13  Total Stalls 13  \n",
       "0                       NaN           1163.0  \n",
       "1                       NaN           2145.0  \n",
       "2                       NaN           1299.0  \n",
       "3                    130.36           4429.0  \n",
       "4                    171.52           4163.0  "
      ]
     },
     "execution_count": 44,
     "metadata": {},
     "output_type": "execute_result"
    }
   ],
   "source": [
    "c1.head()"
   ]
  },
  {
   "cell_type": "code",
   "execution_count": 45,
   "metadata": {
    "collapsed": false
   },
   "outputs": [
    {
     "data": {
      "text/plain": [
       "county_x                      int64\n",
       "city_x                       object\n",
       "tract10                       int64\n",
       "blockgp10                     int64\n",
       "Average Hourly Costs        float64\n",
       "Average Daily Costs         float64\n",
       "Average Monthly Costs       float64\n",
       "Total Stalls                  int64\n",
       "county_y                     object\n",
       "city_y                       object\n",
       "Average Hourly Costs 13     float64\n",
       "Average Daily Costs 13      float64\n",
       "Average Monthly Costs 13    float64\n",
       "Total Stalls 13             float64\n",
       "dtype: object"
      ]
     },
     "execution_count": 45,
     "metadata": {},
     "output_type": "execute_result"
    }
   ],
   "source": [
    "c1.dtypes"
   ]
  },
  {
   "cell_type": "code",
   "execution_count": 46,
   "metadata": {
    "collapsed": false
   },
   "outputs": [],
   "source": [
    "c1['diff_hour']= c1['Average Hourly Costs'] - c1['Average Hourly Costs 13']\n",
    "c1['diff_daily']= c1['Average Daily Costs'] - c1['Average Daily Costs 13']\n",
    "c1['diff_month']= c1['Average Monthly Costs'] - c1['Average Monthly Costs 13']\n",
    "c1['diff_stall']= c1['Total Stalls'] - c1['Total Stalls 13']"
   ]
  },
  {
   "cell_type": "code",
   "execution_count": 47,
   "metadata": {
    "collapsed": false
   },
   "outputs": [],
   "source": [
    "c1['pp_hour']= np.abs(c1['diff_hour']) / c1['Average Hourly Costs 13']\n",
    "c1['pp_daily']= np.abs(c1['diff_daily']) / c1['Average Daily Costs 13']\n",
    "c1['pp_month']= np.abs(c1['diff_month']) / c1['Average Monthly Costs 13'] \n",
    "c1['pp_stall']= np.abs(c1['diff_stall']) / c1['Total Stalls 13'] "
   ]
  },
  {
   "cell_type": "code",
   "execution_count": 48,
   "metadata": {
    "collapsed": false
   },
   "outputs": [
    {
     "data": {
      "text/html": [
       "<div>\n",
       "<table border=\"1\" class=\"dataframe\">\n",
       "  <thead>\n",
       "    <tr style=\"text-align: right;\">\n",
       "      <th></th>\n",
       "      <th>Average Hourly Costs</th>\n",
       "      <th>Average Hourly Costs 13</th>\n",
       "    </tr>\n",
       "  </thead>\n",
       "  <tbody>\n",
       "    <tr>\n",
       "      <th>0</th>\n",
       "      <td>NaN</td>\n",
       "      <td>NaN</td>\n",
       "    </tr>\n",
       "    <tr>\n",
       "      <th>1</th>\n",
       "      <td>4.32</td>\n",
       "      <td>4.25</td>\n",
       "    </tr>\n",
       "    <tr>\n",
       "      <th>2</th>\n",
       "      <td>5.40</td>\n",
       "      <td>NaN</td>\n",
       "    </tr>\n",
       "    <tr>\n",
       "      <th>3</th>\n",
       "      <td>8.61</td>\n",
       "      <td>4.83</td>\n",
       "    </tr>\n",
       "    <tr>\n",
       "      <th>4</th>\n",
       "      <td>8.64</td>\n",
       "      <td>8.25</td>\n",
       "    </tr>\n",
       "  </tbody>\n",
       "</table>\n",
       "</div>"
      ],
      "text/plain": [
       "   Average Hourly Costs  Average Hourly Costs 13\n",
       "0                   NaN                      NaN\n",
       "1                  4.32                     4.25\n",
       "2                  5.40                      NaN\n",
       "3                  8.61                     4.83\n",
       "4                  8.64                     8.25"
      ]
     },
     "execution_count": 48,
     "metadata": {},
     "output_type": "execute_result"
    }
   ],
   "source": [
    "c1[['Average Hourly Costs', 'Average Hourly Costs 13']].head()"
   ]
  },
  {
   "cell_type": "code",
   "execution_count": 49,
   "metadata": {
    "collapsed": true
   },
   "outputs": [],
   "source": [
    "c1.to_csv('2018_2013.csv')"
   ]
  },
  {
   "cell_type": "code",
   "execution_count": null,
   "metadata": {
    "collapsed": true
   },
   "outputs": [],
   "source": []
  },
  {
   "cell_type": "markdown",
   "metadata": {
    "collapsed": true
   },
   "source": [
    "### compare 2018 to 2013, averaged by city level"
   ]
  },
  {
   "cell_type": "code",
   "execution_count": 53,
   "metadata": {
    "collapsed": true
   },
   "outputs": [],
   "source": [
    "# 2013\n",
    "# 2013 parking data\n",
    "parking_2013_monthly = pd.read_csv('CostsMonthlyBlockGroups_2013.csv')\n",
    "a1 = parking_2013_monthly\n",
    "parking_2013_daily = pd.read_csv('CostsDailyBlockGroups_2013.csv')\n",
    "a2 = parking_2013_daily\n",
    "parking_2013_hourly = pd.read_csv('CostsHourlyBlockGroups_2013.csv')\n",
    "a3 = parking_2013_hourly\n",
    "parking_2013_max = pd.read_csv('OccupancyBlockGroups_2013.csv')\n",
    "a4 = parking_2013_max"
   ]
  },
  {
   "cell_type": "code",
   "execution_count": 54,
   "metadata": {
    "collapsed": false
   },
   "outputs": [
    {
     "data": {
      "text/html": [
       "<div>\n",
       "<table border=\"1\" class=\"dataframe\">\n",
       "  <thead>\n",
       "    <tr style=\"text-align: right;\">\n",
       "      <th></th>\n",
       "      <th>County</th>\n",
       "      <th>City</th>\n",
       "      <th>Tract</th>\n",
       "      <th>Block Group</th>\n",
       "      <th>Paylots w/ Monthly Costs</th>\n",
       "      <th>Summed Costs</th>\n",
       "      <th>Min Monthly Costs</th>\n",
       "      <th>Max Monthly Costs</th>\n",
       "      <th>Average Monthly Costs</th>\n",
       "    </tr>\n",
       "  </thead>\n",
       "  <tbody>\n",
       "    <tr>\n",
       "      <th>0</th>\n",
       "      <td>King</td>\n",
       "      <td>Bellevue</td>\n",
       "      <td>23803</td>\n",
       "      <td>1</td>\n",
       "      <td>7</td>\n",
       "      <td>912.50</td>\n",
       "      <td>100.0</td>\n",
       "      <td>187.5</td>\n",
       "      <td>130.36</td>\n",
       "    </tr>\n",
       "    <tr>\n",
       "      <th>1</th>\n",
       "      <td>King</td>\n",
       "      <td>Bellevue</td>\n",
       "      <td>23803</td>\n",
       "      <td>2</td>\n",
       "      <td>4</td>\n",
       "      <td>686.06</td>\n",
       "      <td>125.0</td>\n",
       "      <td>200.0</td>\n",
       "      <td>171.52</td>\n",
       "    </tr>\n",
       "    <tr>\n",
       "      <th>2</th>\n",
       "      <td>King</td>\n",
       "      <td>Bellevue</td>\n",
       "      <td>23804</td>\n",
       "      <td>2</td>\n",
       "      <td>18</td>\n",
       "      <td>3416.73</td>\n",
       "      <td>130.0</td>\n",
       "      <td>295.0</td>\n",
       "      <td>189.82</td>\n",
       "    </tr>\n",
       "    <tr>\n",
       "      <th>3</th>\n",
       "      <td>King</td>\n",
       "      <td>Bellevue</td>\n",
       "      <td>23804</td>\n",
       "      <td>3</td>\n",
       "      <td>3</td>\n",
       "      <td>520.00</td>\n",
       "      <td>150.0</td>\n",
       "      <td>210.0</td>\n",
       "      <td>173.33</td>\n",
       "    </tr>\n",
       "    <tr>\n",
       "      <th>4</th>\n",
       "      <td>King</td>\n",
       "      <td>Seattle</td>\n",
       "      <td>7000</td>\n",
       "      <td>3</td>\n",
       "      <td>3</td>\n",
       "      <td>364.00</td>\n",
       "      <td>60.0</td>\n",
       "      <td>152.0</td>\n",
       "      <td>121.33</td>\n",
       "    </tr>\n",
       "  </tbody>\n",
       "</table>\n",
       "</div>"
      ],
      "text/plain": [
       "  County      City  Tract  Block Group   Paylots w/ Monthly Costs   \\\n",
       "0   King  Bellevue  23803            1                           7   \n",
       "1   King  Bellevue  23803            2                           4   \n",
       "2   King  Bellevue  23804            2                          18   \n",
       "3   King  Bellevue  23804            3                           3   \n",
       "4   King   Seattle   7000            3                           3   \n",
       "\n",
       "   Summed Costs  Min Monthly Costs  Max Monthly Costs  Average Monthly Costs  \n",
       "0        912.50              100.0              187.5                 130.36  \n",
       "1        686.06              125.0              200.0                 171.52  \n",
       "2       3416.73              130.0              295.0                 189.82  \n",
       "3        520.00              150.0              210.0                 173.33  \n",
       "4        364.00               60.0              152.0                 121.33  "
      ]
     },
     "execution_count": 54,
     "metadata": {},
     "output_type": "execute_result"
    }
   ],
   "source": [
    "a1.head()"
   ]
  },
  {
   "cell_type": "code",
   "execution_count": 61,
   "metadata": {
    "collapsed": false
   },
   "outputs": [
    {
     "data": {
      "text/plain": [
       "Index([u'County', u'City', u'Tract', u'Block Group',\n",
       "       u' Paylots w/ Monthly Costs ', u'Summed Costs', u'Min Monthly Costs',\n",
       "       u'Max Monthly Costs', u'Average Monthly Costs'],\n",
       "      dtype='object')"
      ]
     },
     "execution_count": 61,
     "metadata": {},
     "output_type": "execute_result"
    }
   ],
   "source": [
    "a1.columns"
   ]
  },
  {
   "cell_type": "code",
   "execution_count": 62,
   "metadata": {
    "collapsed": false
   },
   "outputs": [
    {
     "ename": "KeyError",
     "evalue": "\"Columns not found: 'Paylots w/ Monthly Costs '\"",
     "output_type": "error",
     "traceback": [
      "\u001b[0;31m---------------------------------------------------------------------------\u001b[0m",
      "\u001b[0;31mKeyError\u001b[0m                                  Traceback (most recent call last)",
      "\u001b[0;32m<ipython-input-62-73761695a1a4>\u001b[0m in \u001b[0;36m<module>\u001b[0;34m()\u001b[0m\n\u001b[0;32m----> 1\u001b[0;31m \u001b[0mparking_2013_monthly\u001b[0m\u001b[1;33m.\u001b[0m\u001b[0mgroupby\u001b[0m\u001b[1;33m(\u001b[0m\u001b[1;33m[\u001b[0m\u001b[1;34m'City'\u001b[0m\u001b[1;33m]\u001b[0m\u001b[1;33m)\u001b[0m\u001b[1;33m[\u001b[0m\u001b[1;33m[\u001b[0m\u001b[1;34m'Summed Costs'\u001b[0m\u001b[1;33m,\u001b[0m \u001b[1;34m'Paylots w/ Monthly Costs '\u001b[0m\u001b[1;33m]\u001b[0m\u001b[1;33m]\u001b[0m\u001b[1;33m.\u001b[0m\u001b[0magg\u001b[0m\u001b[1;33m(\u001b[0m\u001b[1;33m[\u001b[0m\u001b[1;34m'sum'\u001b[0m\u001b[1;33m]\u001b[0m\u001b[1;33m)\u001b[0m\u001b[1;33m\u001b[0m\u001b[0m\n\u001b[0m",
      "\u001b[0;32mC:\\Users\\Angela\\AppData\\Local\\Continuum\\Anaconda2\\lib\\site-packages\\pandas\\core\\base.pyc\u001b[0m in \u001b[0;36m__getitem__\u001b[0;34m(self, key)\u001b[0m\n\u001b[1;32m    335\u001b[0m                 \u001b[0mbad_keys\u001b[0m \u001b[1;33m=\u001b[0m \u001b[0mlist\u001b[0m\u001b[1;33m(\u001b[0m\u001b[0mset\u001b[0m\u001b[1;33m(\u001b[0m\u001b[0mkey\u001b[0m\u001b[1;33m)\u001b[0m\u001b[1;33m.\u001b[0m\u001b[0mdifference\u001b[0m\u001b[1;33m(\u001b[0m\u001b[0mself\u001b[0m\u001b[1;33m.\u001b[0m\u001b[0mobj\u001b[0m\u001b[1;33m.\u001b[0m\u001b[0mcolumns\u001b[0m\u001b[1;33m)\u001b[0m\u001b[1;33m)\u001b[0m\u001b[1;33m\u001b[0m\u001b[0m\n\u001b[1;32m    336\u001b[0m                 raise KeyError(\"Columns not found: %s\"\n\u001b[0;32m--> 337\u001b[0;31m                                % str(bad_keys)[1:-1])\n\u001b[0m\u001b[1;32m    338\u001b[0m             \u001b[1;32mreturn\u001b[0m \u001b[0mself\u001b[0m\u001b[1;33m.\u001b[0m\u001b[0m_gotitem\u001b[0m\u001b[1;33m(\u001b[0m\u001b[0mlist\u001b[0m\u001b[1;33m(\u001b[0m\u001b[0mkey\u001b[0m\u001b[1;33m)\u001b[0m\u001b[1;33m,\u001b[0m \u001b[0mndim\u001b[0m\u001b[1;33m=\u001b[0m\u001b[1;36m2\u001b[0m\u001b[1;33m)\u001b[0m\u001b[1;33m\u001b[0m\u001b[0m\n\u001b[1;32m    339\u001b[0m \u001b[1;33m\u001b[0m\u001b[0m\n",
      "\u001b[0;31mKeyError\u001b[0m: \"Columns not found: 'Paylots w/ Monthly Costs '\""
     ]
    }
   ],
   "source": [
    "parking_2013_monthly.groupby(['City'])[['Summed Costs', 'Paylots w/ Monthly Costs ']].agg(['sum'])"
   ]
  },
  {
   "cell_type": "code",
   "execution_count": null,
   "metadata": {
    "collapsed": true
   },
   "outputs": [],
   "source": []
  },
  {
   "cell_type": "code",
   "execution_count": null,
   "metadata": {
    "collapsed": true
   },
   "outputs": [],
   "source": []
  },
  {
   "cell_type": "code",
   "execution_count": null,
   "metadata": {
    "collapsed": true
   },
   "outputs": [],
   "source": []
  },
  {
   "cell_type": "code",
   "execution_count": null,
   "metadata": {
    "collapsed": true
   },
   "outputs": [],
   "source": []
  },
  {
   "cell_type": "code",
   "execution_count": null,
   "metadata": {
    "collapsed": true
   },
   "outputs": [],
   "source": []
  },
  {
   "cell_type": "markdown",
   "metadata": {},
   "source": [
    "## 3. Lot Type"
   ]
  },
  {
   "cell_type": "code",
   "execution_count": 50,
   "metadata": {
    "collapsed": false
   },
   "outputs": [
    {
     "data": {
      "text/plain": [
       "Index([u'unique_id', u'zone', u'city', u'lot', u'updated', u'address', u'type',\n",
       "       u'2hr', u'4hr', u'dailycost', u'monthcost', u'paylot', u'max',\n",
       "       u'structure_type', u'status', u'comments', u'note', u'editor',\n",
       "       u'neighborhood', u'x_coord', u'y_coord', u'unique_id_2013', u'county',\n",
       "       u'tract10', u'block10', u'blockgp10', u'geoid10', u'2hr*max',\n",
       "       u'4hr*max', u'daily*max', u'month*max'],\n",
       "      dtype='object')"
      ]
     },
     "execution_count": 50,
     "metadata": {},
     "output_type": "execute_result"
    }
   ],
   "source": [
    "my_df.columns "
   ]
  },
  {
   "cell_type": "code",
   "execution_count": 51,
   "metadata": {
    "collapsed": false
   },
   "outputs": [
    {
     "data": {
      "text/plain": [
       "S      1844\n",
       "G       441\n",
       "G/S      84\n",
       "s         3\n",
       "Name: structure_type, dtype: int64"
      ]
     },
     "execution_count": 51,
     "metadata": {},
     "output_type": "execute_result"
    }
   ],
   "source": [
    "my_df['structure_type'].value_counts()\n"
   ]
  },
  {
   "cell_type": "code",
   "execution_count": 52,
   "metadata": {
    "collapsed": true
   },
   "outputs": [],
   "source": [
    "# the lot type here is different from 2013's data. "
   ]
  },
  {
   "cell_type": "code",
   "execution_count": null,
   "metadata": {
    "collapsed": true
   },
   "outputs": [],
   "source": []
  }
 ],
 "metadata": {
  "kernelspec": {
   "display_name": "Python 2",
   "language": "python",
   "name": "python2"
  },
  "language_info": {
   "codemirror_mode": {
    "name": "ipython",
    "version": 2
   },
   "file_extension": ".py",
   "mimetype": "text/x-python",
   "name": "python",
   "nbconvert_exporter": "python",
   "pygments_lexer": "ipython2",
   "version": "2.7.13"
  }
 },
 "nbformat": 4,
 "nbformat_minor": 2
}
