{
    "metadata": {
        "kernelspec": {
            "name": "SQL",
            "display_name": "SQL",
            "language": "sql"
        },
        "language_info": {
            "name": "sql",
            "version": ""
        }
    },
    "nbformat_minor": 2,
    "nbformat": 4,
    "cells": [
        {
            "cell_type": "markdown",
            "source": [
                "OFM Query"
            ],
            "metadata": {
                "azdata_cell_guid": "46a1baa7-d084-4e30-8f6f-e45ce3118211"
            }
        },
        {
            "cell_type": "markdown",
            "source": [
                "Staging table (intercensal 2000-09)"
            ],
            "metadata": {
                "azdata_cell_guid": "45d5d931-a14a-485b-81cf-860840d43df3"
            }
        },
        {
            "cell_type": "code",
            "source": [
                "SELECT estimate_year, GQ = sum(group_quarters_population), HHP = sum(household_population), HU = sum(housing_unts), OHU = sum(occupied_housing_units)\r\n",
                "  FROM [Elmer].[stg].[ofm_saep_intercensal]\r\n",
                "  GROUP BY estimate_year\r\n",
                "  ORDER BY estimate_year;"
            ],
            "metadata": {
                "azdata_cell_guid": "408750fa-8c98-48be-8fb6-5bce86971ee4"
            },
            "outputs": [],
            "execution_count": null
        },
        {
            "cell_type": "markdown",
            "source": [
                "Query Intercensal"
            ],
            "metadata": {
                "azdata_cell_guid": "20325da5-718d-4d84-8b76-c4e047d69973"
            }
        },
        {
            "cell_type": "code",
            "source": [
                "Use Elmer \r\n",
                "\r\n",
                "SELECT a.geography_dim_id, b.block_geoid, a.estimate_year, a.housing_units, a.occupied_housing_units, a.group_quarters_population, a.household_population\r\n",
                "FROM ofm.estimate_facts AS a LEFT JOIN census.geography_dim AS b\r\n",
                "ON a.geography_dim_id = b.geography_dim_id\r\n",
                "WHERE a.estimate_year < 2010;"
            ],
            "metadata": {
                "azdata_cell_guid": "caf4f58b-aa16-4693-9192-d7a1a405734c"
            },
            "outputs": [],
            "execution_count": null
        },
        {
            "cell_type": "markdown",
            "source": [
                "Query Post-censal 2010-"
            ],
            "metadata": {
                "azdata_cell_guid": "2347a925-4c33-4027-883b-3538caabc5a3"
            }
        },
        {
            "cell_type": "code",
            "source": [
                "Use Elmer\r\n",
                "\r\n",
                "SELECT *\r\n",
                "FROM census.geography_dim;"
            ],
            "metadata": {
                "azdata_cell_guid": "e7ae91d8-6b2b-4e12-b5e1-7a16f7d65284"
            },
            "outputs": [],
            "execution_count": null
        },
        {
            "cell_type": "code",
            "source": [
                "Use Elmer \r\n",
                "\r\n",
                "SELECT a.geography_dim_id, b.block_geoid, a.estimate_year, a.housing_units, a.occupied_housing_units, a.group_quarters_population, a.household_population\r\n",
                "FROM ofm.estimate_facts AS a LEFT JOIN census.geography_dim AS b\r\n",
                "ON a.geography_dim_id = b.geography_dim_id\r\n",
                "WHERE a.estimate_year < 2010;"
            ],
            "metadata": {
                "azdata_cell_guid": "a58e02d0-86d2-4679-92b6-84094d401ddf"
            },
            "outputs": [],
            "execution_count": null
        },
        {
            "cell_type": "code",
            "source": [
                "Use Elmer \r\n",
                "\r\n",
                "SELECT a.estimate_year, HU = SUM(a.housing_units), OHU = SUM(a.occupied_housing_units), GQPOP = SUM(a.group_quarters_population), HHPOP = SUM(a.household_population)\r\n",
                "FROM ofm.estimate_facts AS a\r\n",
                "GROUP BY a.estimate_year\r\n",
                "ORDER BY a.estimate_year;\r\n",
                ""
            ],
            "metadata": {
                "azdata_cell_guid": "6f6cb7ad-9526-41cf-98af-4a03be382691"
            },
            "outputs": [
                {
                    "output_type": "display_data",
                    "data": {
                        "text/html": "(20 rows affected)"
                    },
                    "metadata": {}
                },
                {
                    "output_type": "display_data",
                    "data": {
                        "text/html": "Total execution time: 00:00:00.641"
                    },
                    "metadata": {}
                },
                {
                    "output_type": "execute_result",
                    "metadata": {},
                    "execution_count": 2,
                    "data": {
                        "application/vnd.dataresource+json": {
                            "schema": {
                                "fields": [
                                    {
                                        "name": "estimate_year"
                                    },
                                    {
                                        "name": "HU"
                                    },
                                    {
                                        "name": "OHU"
                                    },
                                    {
                                        "name": "GQPOP"
                                    },
                                    {
                                        "name": "HHPOP"
                                    }
                                ]
                            },
                            "data": [
                                {
                                    "0": "2000",
                                    "1": "1348147.99907176",
                                    "2": "1282985.98991774",
                                    "3": "75461.1619245373",
                                    "4": "3200395.8195335"
                                },
                                {
                                    "0": "2001",
                                    "1": "1370888.99964663",
                                    "2": "1299542.24153497",
                                    "3": "75651.1389316265",
                                    "4": "3240905.86134626"
                                },
                                {
                                    "0": "2002",
                                    "1": "1395037.99940464",
                                    "2": "1318892.87145506",
                                    "3": "75768.8230090789",
                                    "4": "3288812.17704415"
                                },
                                {
                                    "0": "2003",
                                    "1": "1417080.0004328",
                                    "2": "1332369.81525329",
                                    "3": "76302.7832001499",
                                    "4": "3323133.21732217"
                                },
                                {
                                    "0": "2004",
                                    "1": "1440269.00014078",
                                    "2": "1346230.2912885",
                                    "3": "75564.5981160835",
                                    "4": "3358474.40403102"
                                },
                                {
                                    "0": "2005",
                                    "1": "1462927.99483128",
                                    "2": "1361782.68160439",
                                    "3": "74354.2511531848",
                                    "4": "3398728.74640336"
                                },
                                {
                                    "0": "2006",
                                    "1": "1488059.99915713",
                                    "2": "1387855.27897414",
                                    "3": "75890.9838294315",
                                    "4": "3463543.01595752"
                                },
                                {
                                    "0": "2007",
                                    "1": "1512995.99961112",
                                    "2": "1410147.99946815",
                                    "3": "76440.6531180043",
                                    "4": "3518358.34621056"
                                },
                                {
                                    "0": "2008",
                                    "1": "1533526.9992101",
                                    "2": "1427654.27417363",
                                    "3": "76251.4727306503",
                                    "4": "3558438.52721878"
                                },
                                {
                                    "0": "2009",
                                    "1": "1551755.99946266",
                                    "2": "1440653.02526924",
                                    "3": "75939.038959039",
                                    "4": "3587308.96216044"
                                },
                                {
                                    "0": "2010",
                                    "1": "1570662",
                                    "2": "1454695",
                                    "3": "74195",
                                    "4": "3616747"
                                },
                                {
                                    "0": "2011",
                                    "1": "1580883.99928536",
                                    "2": "1462983.8602236",
                                    "3": "79606.9990135431",
                                    "4": "3636043.0013785"
                                },
                                {
                                    "0": "2012",
                                    "1": "1590316.99960348",
                                    "2": "1473978.55104962",
                                    "3": "80258.0013693571",
                                    "4": "3662341.99761731"
                                },
                                {
                                    "0": "2013",
                                    "1": "1604279.00041414",
                                    "2": "1489803.54425034",
                                    "3": "77477.0010193586",
                                    "4": "3703422.99993409"
                                },
                                {
                                    "0": "2014",
                                    "1": "1622055.12847923",
                                    "2": "1509647.49869233",
                                    "3": "79375.9989060163",
                                    "4": "3756074.00150986"
                                },
                                {
                                    "0": "2015",
                                    "1": "1642791.12817956",
                                    "2": "1534330.53281525",
                                    "3": "78216.000341773",
                                    "4": "3820504.00048977"
                                },
                                {
                                    "0": "2016",
                                    "1": "1663807.12808617",
                                    "2": "1563448.73066398",
                                    "3": "81048.9999784231",
                                    "4": "3903991.00110803"
                                },
                                {
                                    "0": "2017",
                                    "1": "1687210.13049145",
                                    "2": "1583399.1886924",
                                    "3": "79938.0008998513",
                                    "4": "3986861.99858402"
                                },
                                {
                                    "0": "2018",
                                    "1": "1712023.13116585",
                                    "2": "1606928.09627837",
                                    "3": "81293.9992929101",
                                    "4": "4053366.00089511"
                                },
                                {
                                    "0": "2019",
                                    "1": "1739682.13036167",
                                    "2": "1631052.73637662",
                                    "3": "81530.0001151562",
                                    "4": "4121870.00157784"
                                }
                            ]
                        },
                        "text/html": [
                            "<table>",
                            "<tr><th>estimate_year</th><th>HU</th><th>OHU</th><th>GQPOP</th><th>HHPOP</th></tr>",
                            "<tr><td>2000</td><td>1348147.99907176</td><td>1282985.98991774</td><td>75461.1619245373</td><td>3200395.8195335</td></tr>",
                            "<tr><td>2001</td><td>1370888.99964663</td><td>1299542.24153497</td><td>75651.1389316265</td><td>3240905.86134626</td></tr>",
                            "<tr><td>2002</td><td>1395037.99940464</td><td>1318892.87145506</td><td>75768.8230090789</td><td>3288812.17704415</td></tr>",
                            "<tr><td>2003</td><td>1417080.0004328</td><td>1332369.81525329</td><td>76302.7832001499</td><td>3323133.21732217</td></tr>",
                            "<tr><td>2004</td><td>1440269.00014078</td><td>1346230.2912885</td><td>75564.5981160835</td><td>3358474.40403102</td></tr>",
                            "<tr><td>2005</td><td>1462927.99483128</td><td>1361782.68160439</td><td>74354.2511531848</td><td>3398728.74640336</td></tr>",
                            "<tr><td>2006</td><td>1488059.99915713</td><td>1387855.27897414</td><td>75890.9838294315</td><td>3463543.01595752</td></tr>",
                            "<tr><td>2007</td><td>1512995.99961112</td><td>1410147.99946815</td><td>76440.6531180043</td><td>3518358.34621056</td></tr>",
                            "<tr><td>2008</td><td>1533526.9992101</td><td>1427654.27417363</td><td>76251.4727306503</td><td>3558438.52721878</td></tr>",
                            "<tr><td>2009</td><td>1551755.99946266</td><td>1440653.02526924</td><td>75939.038959039</td><td>3587308.96216044</td></tr>",
                            "<tr><td>2010</td><td>1570662</td><td>1454695</td><td>74195</td><td>3616747</td></tr>",
                            "<tr><td>2011</td><td>1580883.99928536</td><td>1462983.8602236</td><td>79606.9990135431</td><td>3636043.0013785</td></tr>",
                            "<tr><td>2012</td><td>1590316.99960348</td><td>1473978.55104962</td><td>80258.0013693571</td><td>3662341.99761731</td></tr>",
                            "<tr><td>2013</td><td>1604279.00041414</td><td>1489803.54425034</td><td>77477.0010193586</td><td>3703422.99993409</td></tr>",
                            "<tr><td>2014</td><td>1622055.12847923</td><td>1509647.49869233</td><td>79375.9989060163</td><td>3756074.00150986</td></tr>",
                            "<tr><td>2015</td><td>1642791.12817956</td><td>1534330.53281525</td><td>78216.000341773</td><td>3820504.00048977</td></tr>",
                            "<tr><td>2016</td><td>1663807.12808617</td><td>1563448.73066398</td><td>81048.9999784231</td><td>3903991.00110803</td></tr>",
                            "<tr><td>2017</td><td>1687210.13049145</td><td>1583399.1886924</td><td>79938.0008998513</td><td>3986861.99858402</td></tr>",
                            "<tr><td>2018</td><td>1712023.13116585</td><td>1606928.09627837</td><td>81293.9992929101</td><td>4053366.00089511</td></tr>",
                            "<tr><td>2019</td><td>1739682.13036167</td><td>1631052.73637662</td><td>81530.0001151562</td><td>4121870.00157784</td></tr>",
                            "</table>"
                        ]
                    }
                }
            ],
            "execution_count": 2
        }
    ]
}