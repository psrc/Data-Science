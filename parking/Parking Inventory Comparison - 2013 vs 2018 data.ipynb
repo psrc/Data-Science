{
 "cells": [
  {
   "cell_type": "markdown",
   "metadata": {},
   "source": [
    "#### 2013 and 2018 parking inventory comparison\n",
    "##### Author: Polina Butrina \n",
    "\n",
    "From Carol's email: \"it could be worth doing some preliminary analysis at a lower level (tract maybe?) to see if there are significant geographic differences within any given study area. But I’m also OK with keeping the analysis at the study area summary level, especially given the big methodological shifts between the two datasets. \"\n",
    "\n",
    "\", it would be helpful to run a simple comparison between the 2013 and 2018 results, identifying where the biggest differences emerge (per the Trend article). To the degree that we can, identify where these differences are attributable to real changes on the ground vs. data collection methodology—a conversation with Peter could be helpful on this front. A longer time trend analysis that includes additional historical data points might also be helpful for identifying methodology-based anomalies as well.\"\n"
   ]
  },
  {
   "cell_type": "code",
   "execution_count": 358,
   "metadata": {},
   "outputs": [],
   "source": [
    "import pandas as pd\n",
    "import numpy as np \n",
    "import os\n",
    "import matplotlib.pyplot as plt\n",
    "import seaborn as sns"
   ]
  },
  {
   "cell_type": "code",
   "execution_count": 359,
   "metadata": {},
   "outputs": [
    {
     "data": {
      "text/plain": [
       "'C:\\\\Users\\\\pbutrina\\\\Documents\\\\Python Scripts\\\\parking_inventory'"
      ]
     },
     "execution_count": 359,
     "metadata": {},
     "output_type": "execute_result"
    }
   ],
   "source": [
    "#set working directory\n",
    "path = \"C:\\\\Users\\\\pbutrina\\\\Documents\\\\Python Scripts\\\\parking_inventory\"\n",
    "os.chdir(path)\n",
    "os.getcwd()"
   ]
  },
  {
   "cell_type": "code",
   "execution_count": 360,
   "metadata": {},
   "outputs": [],
   "source": [
    "# download 2013 and 2018 parking data\n",
    "parking_cap_zones_2018 = pd.read_excel('parking_summaries_2018.xlsx', sheet_name='CapacityZones', index = False)\n",
    "parking_occup_zones_2013 = pd.read_excel('copy_of_parking_summaries_13.xlsx', sheet_name='OccupancyZones', index = False)\n"
   ]
  },
  {
   "cell_type": "code",
   "execution_count": 361,
   "metadata": {},
   "outputs": [],
   "source": [
    "data_2018 = parking_cap_zones_2018\n",
    "data_2013 = parking_occup_zones_2013"
   ]
  },
  {
   "cell_type": "code",
   "execution_count": 5,
   "metadata": {},
   "outputs": [
    {
     "data": {
      "text/html": [
       "<div>\n",
       "<style scoped>\n",
       "    .dataframe tbody tr th:only-of-type {\n",
       "        vertical-align: middle;\n",
       "    }\n",
       "\n",
       "    .dataframe tbody tr th {\n",
       "        vertical-align: top;\n",
       "    }\n",
       "\n",
       "    .dataframe thead th {\n",
       "        text-align: right;\n",
       "    }\n",
       "</style>\n",
       "<table border=\"1\" class=\"dataframe\">\n",
       "  <thead>\n",
       "    <tr style=\"text-align: right;\">\n",
       "      <th></th>\n",
       "      <th>County</th>\n",
       "      <th>City</th>\n",
       "      <th>Zone</th>\n",
       "      <th>Tract</th>\n",
       "      <th>Block</th>\n",
       "      <th>Number of Lots</th>\n",
       "      <th>Total Stalls</th>\n",
       "      <th>Total AM Car Count</th>\n",
       "      <th>Total PM Car Count</th>\n",
       "      <th>Average Total Stalls</th>\n",
       "      <th>Average AM Car Count</th>\n",
       "      <th>Average PM Car Count</th>\n",
       "      <th>AM Occupancy Rate</th>\n",
       "      <th>PM Occupancy Rate</th>\n",
       "      <th>Average Daily Occupancy Rate</th>\n",
       "    </tr>\n",
       "  </thead>\n",
       "  <tbody>\n",
       "    <tr>\n",
       "      <th>0</th>\n",
       "      <td>King</td>\n",
       "      <td>Bellevue</td>\n",
       "      <td>1</td>\n",
       "      <td>23803</td>\n",
       "      <td>1000</td>\n",
       "      <td>3.0</td>\n",
       "      <td>194.0</td>\n",
       "      <td>73</td>\n",
       "      <td>86</td>\n",
       "      <td>65</td>\n",
       "      <td>24</td>\n",
       "      <td>29</td>\n",
       "      <td>0.369231</td>\n",
       "      <td>0.446154</td>\n",
       "      <td>0.407692</td>\n",
       "    </tr>\n",
       "    <tr>\n",
       "      <th>1</th>\n",
       "      <td>King</td>\n",
       "      <td>Bellevue</td>\n",
       "      <td>1</td>\n",
       "      <td>23803</td>\n",
       "      <td>1001</td>\n",
       "      <td>6.0</td>\n",
       "      <td>387.0</td>\n",
       "      <td>182</td>\n",
       "      <td>225</td>\n",
       "      <td>65</td>\n",
       "      <td>30</td>\n",
       "      <td>38</td>\n",
       "      <td>0.461538</td>\n",
       "      <td>0.584615</td>\n",
       "      <td>0.523077</td>\n",
       "    </tr>\n",
       "    <tr>\n",
       "      <th>2</th>\n",
       "      <td>King</td>\n",
       "      <td>Bellevue</td>\n",
       "      <td>1</td>\n",
       "      <td>23803</td>\n",
       "      <td>1002</td>\n",
       "      <td>10.0</td>\n",
       "      <td>263.0</td>\n",
       "      <td>84</td>\n",
       "      <td>130</td>\n",
       "      <td>26</td>\n",
       "      <td>8</td>\n",
       "      <td>13</td>\n",
       "      <td>0.307692</td>\n",
       "      <td>0.5</td>\n",
       "      <td>0.403846</td>\n",
       "    </tr>\n",
       "    <tr>\n",
       "      <th>3</th>\n",
       "      <td>King</td>\n",
       "      <td>Bellevue</td>\n",
       "      <td>1</td>\n",
       "      <td>23803</td>\n",
       "      <td>1003</td>\n",
       "      <td>3.0</td>\n",
       "      <td>225.0</td>\n",
       "      <td>129</td>\n",
       "      <td>129</td>\n",
       "      <td>75</td>\n",
       "      <td>43</td>\n",
       "      <td>43</td>\n",
       "      <td>0.573333</td>\n",
       "      <td>0.573333</td>\n",
       "      <td>0.573333</td>\n",
       "    </tr>\n",
       "    <tr>\n",
       "      <th>4</th>\n",
       "      <td>King</td>\n",
       "      <td>Bellevue</td>\n",
       "      <td>1</td>\n",
       "      <td>23803</td>\n",
       "      <td>1004</td>\n",
       "      <td>6.0</td>\n",
       "      <td>2078.0</td>\n",
       "      <td>1019</td>\n",
       "      <td>1080</td>\n",
       "      <td>346</td>\n",
       "      <td>170</td>\n",
       "      <td>180</td>\n",
       "      <td>0.491329</td>\n",
       "      <td>0.520231</td>\n",
       "      <td>0.50578</td>\n",
       "    </tr>\n",
       "  </tbody>\n",
       "</table>\n",
       "</div>"
      ],
      "text/plain": [
       "  County      City Zone  Tract Block  Number of Lots  Total Stalls  \\\n",
       "0   King  Bellevue    1  23803  1000             3.0         194.0   \n",
       "1   King  Bellevue    1  23803  1001             6.0         387.0   \n",
       "2   King  Bellevue    1  23803  1002            10.0         263.0   \n",
       "3   King  Bellevue    1  23803  1003             3.0         225.0   \n",
       "4   King  Bellevue    1  23803  1004             6.0        2078.0   \n",
       "\n",
       "  Total AM Car Count Total PM Car Count Average Total Stalls  \\\n",
       "0                 73                 86                   65   \n",
       "1                182                225                   65   \n",
       "2                 84                130                   26   \n",
       "3                129                129                   75   \n",
       "4               1019               1080                  346   \n",
       "\n",
       "  Average AM Car Count Average PM Car Count AM Occupancy Rate  \\\n",
       "0                   24                   29          0.369231   \n",
       "1                   30                   38          0.461538   \n",
       "2                    8                   13          0.307692   \n",
       "3                   43                   43          0.573333   \n",
       "4                  170                  180          0.491329   \n",
       "\n",
       "  PM Occupancy Rate Average Daily Occupancy Rate  \n",
       "0          0.446154                     0.407692  \n",
       "1          0.584615                     0.523077  \n",
       "2               0.5                     0.403846  \n",
       "3          0.573333                     0.573333  \n",
       "4          0.520231                      0.50578  "
      ]
     },
     "execution_count": 5,
     "metadata": {},
     "output_type": "execute_result"
    }
   ],
   "source": [
    "data_2013.head()"
   ]
  },
  {
   "cell_type": "code",
   "execution_count": 6,
   "metadata": {},
   "outputs": [
    {
     "data": {
      "text/html": [
       "<div>\n",
       "<style scoped>\n",
       "    .dataframe tbody tr th:only-of-type {\n",
       "        vertical-align: middle;\n",
       "    }\n",
       "\n",
       "    .dataframe tbody tr th {\n",
       "        vertical-align: top;\n",
       "    }\n",
       "\n",
       "    .dataframe thead th {\n",
       "        text-align: right;\n",
       "    }\n",
       "</style>\n",
       "<table border=\"1\" class=\"dataframe\">\n",
       "  <thead>\n",
       "    <tr style=\"text-align: right;\">\n",
       "      <th></th>\n",
       "      <th>Number of Lots</th>\n",
       "      <th>Total Stalls</th>\n",
       "    </tr>\n",
       "  </thead>\n",
       "  <tbody>\n",
       "    <tr>\n",
       "      <th>count</th>\n",
       "      <td>981.000000</td>\n",
       "      <td>981.000000</td>\n",
       "    </tr>\n",
       "    <tr>\n",
       "      <th>mean</th>\n",
       "      <td>8.296636</td>\n",
       "      <td>631.181448</td>\n",
       "    </tr>\n",
       "    <tr>\n",
       "      <th>std</th>\n",
       "      <td>86.115565</td>\n",
       "      <td>6590.145362</td>\n",
       "    </tr>\n",
       "    <tr>\n",
       "      <th>min</th>\n",
       "      <td>1.000000</td>\n",
       "      <td>0.000000</td>\n",
       "    </tr>\n",
       "    <tr>\n",
       "      <th>25%</th>\n",
       "      <td>1.000000</td>\n",
       "      <td>31.000000</td>\n",
       "    </tr>\n",
       "    <tr>\n",
       "      <th>50%</th>\n",
       "      <td>2.000000</td>\n",
       "      <td>79.000000</td>\n",
       "    </tr>\n",
       "    <tr>\n",
       "      <th>75%</th>\n",
       "      <td>3.000000</td>\n",
       "      <td>194.000000</td>\n",
       "    </tr>\n",
       "    <tr>\n",
       "      <th>max</th>\n",
       "      <td>2443.000000</td>\n",
       "      <td>180676.000000</td>\n",
       "    </tr>\n",
       "  </tbody>\n",
       "</table>\n",
       "</div>"
      ],
      "text/plain": [
       "       Number of Lots   Total Stalls\n",
       "count      981.000000     981.000000\n",
       "mean         8.296636     631.181448\n",
       "std         86.115565    6590.145362\n",
       "min          1.000000       0.000000\n",
       "25%          1.000000      31.000000\n",
       "50%          2.000000      79.000000\n",
       "75%          3.000000     194.000000\n",
       "max       2443.000000  180676.000000"
      ]
     },
     "execution_count": 6,
     "metadata": {},
     "output_type": "execute_result"
    }
   ],
   "source": [
    "parking_occup_zones_2013.describe()"
   ]
  },
  {
   "cell_type": "code",
   "execution_count": 24,
   "metadata": {},
   "outputs": [
    {
     "name": "stdout",
     "output_type": "stream",
     "text": [
      "<class 'pandas.core.frame.DataFrame'>\n",
      "RangeIndex: 987 entries, 0 to 986\n",
      "Data columns (total 8 columns):\n",
      " #   Column                    Non-Null Count  Dtype  \n",
      "---  ------                    --------------  -----  \n",
      " 0   County                    979 non-null    float64\n",
      " 1   City                      986 non-null    object \n",
      " 2   Zone                      970 non-null    float64\n",
      " 3   Tract                     970 non-null    float64\n",
      " 4   Block                     970 non-null    float64\n",
      " 5   Number of Lots            986 non-null    float64\n",
      " 6   Total Stalls              986 non-null    float64\n",
      " 7   Average Number of Stalls  986 non-null    float64\n",
      "dtypes: float64(7), object(1)\n",
      "memory usage: 61.8+ KB\n"
     ]
    }
   ],
   "source": [
    "parking_cap_zones_2018.info()"
   ]
  },
  {
   "cell_type": "code",
   "execution_count": 62,
   "metadata": {},
   "outputs": [
    {
     "name": "stdout",
     "output_type": "stream",
     "text": [
      "<class 'pandas.core.frame.DataFrame'>\n",
      "Int64Index: 973 entries, 0 to 980\n",
      "Data columns (total 15 columns):\n",
      " #   Column                        Non-Null Count  Dtype  \n",
      "---  ------                        --------------  -----  \n",
      " 0   County                        972 non-null    object \n",
      " 1   City                          972 non-null    object \n",
      " 2   Zone                          972 non-null    float64\n",
      " 3   Tract                         972 non-null    float64\n",
      " 4   Block                         972 non-null    float64\n",
      " 5   Number of Lots                972 non-null    float64\n",
      " 6   Total Stalls                  972 non-null    float64\n",
      " 7   Total AM Car Count            972 non-null    object \n",
      " 8   Total PM Car Count            972 non-null    object \n",
      " 9   Average Total Stalls          972 non-null    object \n",
      " 10  Average AM Car Count          972 non-null    object \n",
      " 11  Average PM Car Count          972 non-null    object \n",
      " 12  AM Occupancy Rate             972 non-null    object \n",
      " 13  PM Occupancy Rate             972 non-null    object \n",
      " 14  Average Daily Occupancy Rate  972 non-null    object \n",
      "dtypes: float64(5), object(10)\n",
      "memory usage: 121.6+ KB\n"
     ]
    }
   ],
   "source": [
    "data_2013.info()"
   ]
  },
  {
   "cell_type": "markdown",
   "metadata": {},
   "source": [
    "Check if the number of zones, tracts, and blocks is the same in 2013 and 2018; Analysis shows that there were surveyed 44 tracts in 2013 and 42 in 2018; 24 cities in 2013 and 25 cities in 2018. See the detailed tables below"
   ]
  },
  {
   "cell_type": "code",
   "execution_count": 91,
   "metadata": {
    "scrolled": true
   },
   "outputs": [
    {
     "data": {
      "text/plain": [
       "County                            4\n",
       "City                             15\n",
       "Zone                             20\n",
       "Tract                            43\n",
       "Block                           254\n",
       "Number of Lots                   19\n",
       "Total Stalls                    371\n",
       "Total AM Car Count              270\n",
       "Total PM Car Count              271\n",
       "Average Total Stalls            264\n",
       "Average AM Car Count            190\n",
       "Average PM Car Count            200\n",
       "AM Occupancy Rate               511\n",
       "PM Occupancy Rate               514\n",
       "Average Daily Occupancy Rate    644\n",
       "Tract_Parking                    43\n",
       "dtype: int64"
      ]
     },
     "execution_count": 91,
     "metadata": {},
     "output_type": "execute_result"
    }
   ],
   "source": [
    "#unique number of zones, tracts, and blocks surveyed in 2013 and 2018\n",
    "data_2013.nunique()"
   ]
  },
  {
   "cell_type": "code",
   "execution_count": 92,
   "metadata": {
    "scrolled": true
   },
   "outputs": [
    {
     "data": {
      "text/plain": [
       "County                        4\n",
       "City                         25\n",
       "Zone                         20\n",
       "Tract                        42\n",
       "Block                       256\n",
       "Number of Lots               27\n",
       "Total Stalls                390\n",
       "Average Number of Stalls    290\n",
       "Tract_Parking                42\n",
       "dtype: int64"
      ]
     },
     "execution_count": 92,
     "metadata": {},
     "output_type": "execute_result"
    }
   ],
   "source": [
    "data_2018.nunique()"
   ]
  },
  {
   "cell_type": "markdown",
   "metadata": {},
   "source": [
    "checking the change in parking in tracts between 2013 and 2018"
   ]
  },
  {
   "cell_type": "code",
   "execution_count": 364,
   "metadata": {},
   "outputs": [],
   "source": [
    "#first, need to convert strings from data_2013 to numerical data to be able to calculate the difference between 2013 and 2018 data\n",
    "#need to remove \"-\" in the columns\n",
    "data_2013 = data_2013[data_2013.Zone != \"-\"]\n",
    "data_2013[[\"Zone\", \"Tract\",\"Block\"]] = data_2013[[\"Zone\", \"Tract\",\"Block\"]].apply(pd.to_numeric)\n",
    "data_2018[[\"Zone\", \"Tract\",\"Block\"]] = data_2018[[\"Zone\", \"Tract\",\"Block\"]].apply(pd.to_numeric)"
   ]
  },
  {
   "cell_type": "code",
   "execution_count": 365,
   "metadata": {},
   "outputs": [],
   "source": [
    "#summing  together parking by tracts for 2013 and 2018\n",
    "data_2013_total_parking = data_2013.groupby(\"Tract\").sum()[[\"Total Stalls\"]]\n",
    "data_2018_total_parking = data_2018.groupby(\"Tract\").sum()[[\"Total Stalls\"]]"
   ]
  },
  {
   "cell_type": "code",
   "execution_count": 366,
   "metadata": {
    "scrolled": true
   },
   "outputs": [],
   "source": [
    "#renaming the new column\n",
    "data_2013_total_parking = data_2013_total_parking.rename(columns={\"Total Stalls\": \"Total Stalls 2013\"})\n",
    "data_2018_total_parking = data_2018_total_parking.rename(columns={\"Total Stalls\": \"Total Stalls 2018\"})"
   ]
  },
  {
   "cell_type": "code",
   "execution_count": 367,
   "metadata": {},
   "outputs": [],
   "source": [
    "#creating a new df with 2013 and 2018 parking stalls grouped by the tract by merging two tables\n",
    "parking_dif = pd.merge(data_2013_total_parking, data_2018_total_parking, how='outer', on='Tract')"
   ]
  },
  {
   "cell_type": "code",
   "execution_count": 368,
   "metadata": {},
   "outputs": [],
   "source": [
    "#calculating absolute difference and % difference\n",
    "parking_dif['abs_dif'] = parking_dif['Total Stalls 2018'] - parking_dif['Total Stalls 2013']\n",
    "parking_dif['perc_dif'] = (parking_dif['Total Stalls 2018'] - parking_dif['Total Stalls 2013'])/parking_dif['Total Stalls 2013']*100\n",
    "parking_dif = parking_dif.dropna()"
   ]
  },
  {
   "cell_type": "code",
   "execution_count": 14,
   "metadata": {
    "scrolled": true
   },
   "outputs": [
    {
     "data": {
      "text/html": [
       "<div>\n",
       "<style scoped>\n",
       "    .dataframe tbody tr th:only-of-type {\n",
       "        vertical-align: middle;\n",
       "    }\n",
       "\n",
       "    .dataframe tbody tr th {\n",
       "        vertical-align: top;\n",
       "    }\n",
       "\n",
       "    .dataframe thead th {\n",
       "        text-align: right;\n",
       "    }\n",
       "</style>\n",
       "<table border=\"1\" class=\"dataframe\">\n",
       "  <thead>\n",
       "    <tr style=\"text-align: right;\">\n",
       "      <th></th>\n",
       "      <th>Total Stalls 2013</th>\n",
       "      <th>Total Stalls 2018</th>\n",
       "      <th>abs_dif</th>\n",
       "      <th>perc_dif</th>\n",
       "    </tr>\n",
       "    <tr>\n",
       "      <th>Tract</th>\n",
       "      <th></th>\n",
       "      <th></th>\n",
       "      <th></th>\n",
       "      <th></th>\n",
       "    </tr>\n",
       "  </thead>\n",
       "  <tbody>\n",
       "    <tr>\n",
       "      <th>5302.0</th>\n",
       "      <td>2820.0</td>\n",
       "      <td>10703.0</td>\n",
       "      <td>7883.0</td>\n",
       "      <td>279.539007</td>\n",
       "    </tr>\n",
       "    <tr>\n",
       "      <th>81100.0</th>\n",
       "      <td>1317.0</td>\n",
       "      <td>4512.0</td>\n",
       "      <td>3195.0</td>\n",
       "      <td>242.596811</td>\n",
       "    </tr>\n",
       "    <tr>\n",
       "      <th>90900.0</th>\n",
       "      <td>968.0</td>\n",
       "      <td>1985.0</td>\n",
       "      <td>1017.0</td>\n",
       "      <td>105.061983</td>\n",
       "    </tr>\n",
       "    <tr>\n",
       "      <th>90102.0</th>\n",
       "      <td>773.0</td>\n",
       "      <td>1472.0</td>\n",
       "      <td>699.0</td>\n",
       "      <td>90.426908</td>\n",
       "    </tr>\n",
       "    <tr>\n",
       "      <th>9300.0</th>\n",
       "      <td>4538.0</td>\n",
       "      <td>6050.0</td>\n",
       "      <td>1512.0</td>\n",
       "      <td>33.318643</td>\n",
       "    </tr>\n",
       "    <tr>\n",
       "      <th>7200.0</th>\n",
       "      <td>11127.0</td>\n",
       "      <td>14112.0</td>\n",
       "      <td>2985.0</td>\n",
       "      <td>26.826638</td>\n",
       "    </tr>\n",
       "    <tr>\n",
       "      <th>8200.0</th>\n",
       "      <td>9039.0</td>\n",
       "      <td>10877.0</td>\n",
       "      <td>1838.0</td>\n",
       "      <td>20.334108</td>\n",
       "    </tr>\n",
       "    <tr>\n",
       "      <th>23700.0</th>\n",
       "      <td>2145.0</td>\n",
       "      <td>2357.0</td>\n",
       "      <td>212.0</td>\n",
       "      <td>9.883450</td>\n",
       "    </tr>\n",
       "    <tr>\n",
       "      <th>23804.0</th>\n",
       "      <td>29551.0</td>\n",
       "      <td>32342.0</td>\n",
       "      <td>2791.0</td>\n",
       "      <td>9.444689</td>\n",
       "    </tr>\n",
       "    <tr>\n",
       "      <th>23803.0</th>\n",
       "      <td>8592.0</td>\n",
       "      <td>9265.0</td>\n",
       "      <td>673.0</td>\n",
       "      <td>7.832868</td>\n",
       "    </tr>\n",
       "    <tr>\n",
       "      <th>61601.0</th>\n",
       "      <td>7789.0</td>\n",
       "      <td>8327.0</td>\n",
       "      <td>538.0</td>\n",
       "      <td>6.907177</td>\n",
       "    </tr>\n",
       "    <tr>\n",
       "      <th>8100.0</th>\n",
       "      <td>15815.0</td>\n",
       "      <td>16870.0</td>\n",
       "      <td>1055.0</td>\n",
       "      <td>6.670882</td>\n",
       "    </tr>\n",
       "    <tr>\n",
       "      <th>8002.0</th>\n",
       "      <td>2754.0</td>\n",
       "      <td>2884.0</td>\n",
       "      <td>130.0</td>\n",
       "      <td>4.720407</td>\n",
       "    </tr>\n",
       "    <tr>\n",
       "      <th>40700.0</th>\n",
       "      <td>8585.0</td>\n",
       "      <td>8984.0</td>\n",
       "      <td>399.0</td>\n",
       "      <td>4.647641</td>\n",
       "    </tr>\n",
       "    <tr>\n",
       "      <th>4500.0</th>\n",
       "      <td>144.0</td>\n",
       "      <td>149.0</td>\n",
       "      <td>5.0</td>\n",
       "      <td>3.472222</td>\n",
       "    </tr>\n",
       "    <tr>\n",
       "      <th>7300.0</th>\n",
       "      <td>12520.0</td>\n",
       "      <td>12849.0</td>\n",
       "      <td>329.0</td>\n",
       "      <td>2.627796</td>\n",
       "    </tr>\n",
       "    <tr>\n",
       "      <th>8400.0</th>\n",
       "      <td>2311.0</td>\n",
       "      <td>2367.0</td>\n",
       "      <td>56.0</td>\n",
       "      <td>2.423193</td>\n",
       "    </tr>\n",
       "    <tr>\n",
       "      <th>40800.0</th>\n",
       "      <td>4429.0</td>\n",
       "      <td>4531.0</td>\n",
       "      <td>102.0</td>\n",
       "      <td>2.303003</td>\n",
       "    </tr>\n",
       "    <tr>\n",
       "      <th>9100.0</th>\n",
       "      <td>1253.0</td>\n",
       "      <td>1267.0</td>\n",
       "      <td>14.0</td>\n",
       "      <td>1.117318</td>\n",
       "    </tr>\n",
       "    <tr>\n",
       "      <th>60200.0</th>\n",
       "      <td>7077.0</td>\n",
       "      <td>7153.0</td>\n",
       "      <td>76.0</td>\n",
       "      <td>1.073901</td>\n",
       "    </tr>\n",
       "    <tr>\n",
       "      <th>92704.0</th>\n",
       "      <td>381.0</td>\n",
       "      <td>385.0</td>\n",
       "      <td>4.0</td>\n",
       "      <td>1.049869</td>\n",
       "    </tr>\n",
       "    <tr>\n",
       "      <th>80500.0</th>\n",
       "      <td>6472.0</td>\n",
       "      <td>6534.0</td>\n",
       "      <td>62.0</td>\n",
       "      <td>0.957973</td>\n",
       "    </tr>\n",
       "    <tr>\n",
       "      <th>61602.0</th>\n",
       "      <td>3628.0</td>\n",
       "      <td>3645.0</td>\n",
       "      <td>17.0</td>\n",
       "      <td>0.468578</td>\n",
       "    </tr>\n",
       "    <tr>\n",
       "      <th>23601.0</th>\n",
       "      <td>1163.0</td>\n",
       "      <td>1158.0</td>\n",
       "      <td>-5.0</td>\n",
       "      <td>-0.429923</td>\n",
       "    </tr>\n",
       "    <tr>\n",
       "      <th>8500.0</th>\n",
       "      <td>6418.0</td>\n",
       "      <td>6366.0</td>\n",
       "      <td>-52.0</td>\n",
       "      <td>-0.810221</td>\n",
       "    </tr>\n",
       "    <tr>\n",
       "      <th>5301.0</th>\n",
       "      <td>3321.0</td>\n",
       "      <td>3287.0</td>\n",
       "      <td>-34.0</td>\n",
       "      <td>-1.023788</td>\n",
       "    </tr>\n",
       "    <tr>\n",
       "      <th>8001.0</th>\n",
       "      <td>2860.0</td>\n",
       "      <td>2810.0</td>\n",
       "      <td>-50.0</td>\n",
       "      <td>-1.748252</td>\n",
       "    </tr>\n",
       "    <tr>\n",
       "      <th>61700.0</th>\n",
       "      <td>520.0</td>\n",
       "      <td>509.0</td>\n",
       "      <td>-11.0</td>\n",
       "      <td>-2.115385</td>\n",
       "    </tr>\n",
       "    <tr>\n",
       "      <th>4302.0</th>\n",
       "      <td>552.0</td>\n",
       "      <td>540.0</td>\n",
       "      <td>-12.0</td>\n",
       "      <td>-2.173913</td>\n",
       "    </tr>\n",
       "    <tr>\n",
       "      <th>7000.0</th>\n",
       "      <td>979.0</td>\n",
       "      <td>957.0</td>\n",
       "      <td>-22.0</td>\n",
       "      <td>-2.247191</td>\n",
       "    </tr>\n",
       "    <tr>\n",
       "      <th>81200.0</th>\n",
       "      <td>1043.0</td>\n",
       "      <td>1019.0</td>\n",
       "      <td>-24.0</td>\n",
       "      <td>-2.301055</td>\n",
       "    </tr>\n",
       "    <tr>\n",
       "      <th>8300.0</th>\n",
       "      <td>2206.0</td>\n",
       "      <td>2131.0</td>\n",
       "      <td>-75.0</td>\n",
       "      <td>-3.399819</td>\n",
       "    </tr>\n",
       "    <tr>\n",
       "      <th>80600.0</th>\n",
       "      <td>2084.0</td>\n",
       "      <td>2010.0</td>\n",
       "      <td>-74.0</td>\n",
       "      <td>-3.550864</td>\n",
       "    </tr>\n",
       "    <tr>\n",
       "      <th>40400.0</th>\n",
       "      <td>989.0</td>\n",
       "      <td>944.0</td>\n",
       "      <td>-45.0</td>\n",
       "      <td>-4.550051</td>\n",
       "    </tr>\n",
       "    <tr>\n",
       "      <th>61400.0</th>\n",
       "      <td>1489.0</td>\n",
       "      <td>1406.0</td>\n",
       "      <td>-83.0</td>\n",
       "      <td>-5.574211</td>\n",
       "    </tr>\n",
       "    <tr>\n",
       "      <th>7100.0</th>\n",
       "      <td>5113.0</td>\n",
       "      <td>4728.0</td>\n",
       "      <td>-385.0</td>\n",
       "      <td>-7.529826</td>\n",
       "    </tr>\n",
       "    <tr>\n",
       "      <th>61500.0</th>\n",
       "      <td>752.0</td>\n",
       "      <td>687.0</td>\n",
       "      <td>-65.0</td>\n",
       "      <td>-8.643617</td>\n",
       "    </tr>\n",
       "    <tr>\n",
       "      <th>4400.0</th>\n",
       "      <td>391.0</td>\n",
       "      <td>356.0</td>\n",
       "      <td>-35.0</td>\n",
       "      <td>-8.951407</td>\n",
       "    </tr>\n",
       "    <tr>\n",
       "      <th>5200.0</th>\n",
       "      <td>1322.0</td>\n",
       "      <td>1203.0</td>\n",
       "      <td>-119.0</td>\n",
       "      <td>-9.001513</td>\n",
       "    </tr>\n",
       "    <tr>\n",
       "      <th>4301.0</th>\n",
       "      <td>2951.0</td>\n",
       "      <td>2526.0</td>\n",
       "      <td>-425.0</td>\n",
       "      <td>-14.401898</td>\n",
       "    </tr>\n",
       "    <tr>\n",
       "      <th>9200.0</th>\n",
       "      <td>1196.0</td>\n",
       "      <td>971.0</td>\n",
       "      <td>-225.0</td>\n",
       "      <td>-18.812709</td>\n",
       "    </tr>\n",
       "    <tr>\n",
       "      <th>23801.0</th>\n",
       "      <td>1299.0</td>\n",
       "      <td>556.0</td>\n",
       "      <td>-743.0</td>\n",
       "      <td>-57.197844</td>\n",
       "    </tr>\n",
       "  </tbody>\n",
       "</table>\n",
       "</div>"
      ],
      "text/plain": [
       "         Total Stalls 2013  Total Stalls 2018  abs_dif    perc_dif\n",
       "Tract                                                             \n",
       "5302.0              2820.0            10703.0   7883.0  279.539007\n",
       "81100.0             1317.0             4512.0   3195.0  242.596811\n",
       "90900.0              968.0             1985.0   1017.0  105.061983\n",
       "90102.0              773.0             1472.0    699.0   90.426908\n",
       "9300.0              4538.0             6050.0   1512.0   33.318643\n",
       "7200.0             11127.0            14112.0   2985.0   26.826638\n",
       "8200.0              9039.0            10877.0   1838.0   20.334108\n",
       "23700.0             2145.0             2357.0    212.0    9.883450\n",
       "23804.0            29551.0            32342.0   2791.0    9.444689\n",
       "23803.0             8592.0             9265.0    673.0    7.832868\n",
       "61601.0             7789.0             8327.0    538.0    6.907177\n",
       "8100.0             15815.0            16870.0   1055.0    6.670882\n",
       "8002.0              2754.0             2884.0    130.0    4.720407\n",
       "40700.0             8585.0             8984.0    399.0    4.647641\n",
       "4500.0               144.0              149.0      5.0    3.472222\n",
       "7300.0             12520.0            12849.0    329.0    2.627796\n",
       "8400.0              2311.0             2367.0     56.0    2.423193\n",
       "40800.0             4429.0             4531.0    102.0    2.303003\n",
       "9100.0              1253.0             1267.0     14.0    1.117318\n",
       "60200.0             7077.0             7153.0     76.0    1.073901\n",
       "92704.0              381.0              385.0      4.0    1.049869\n",
       "80500.0             6472.0             6534.0     62.0    0.957973\n",
       "61602.0             3628.0             3645.0     17.0    0.468578\n",
       "23601.0             1163.0             1158.0     -5.0   -0.429923\n",
       "8500.0              6418.0             6366.0    -52.0   -0.810221\n",
       "5301.0              3321.0             3287.0    -34.0   -1.023788\n",
       "8001.0              2860.0             2810.0    -50.0   -1.748252\n",
       "61700.0              520.0              509.0    -11.0   -2.115385\n",
       "4302.0               552.0              540.0    -12.0   -2.173913\n",
       "7000.0               979.0              957.0    -22.0   -2.247191\n",
       "81200.0             1043.0             1019.0    -24.0   -2.301055\n",
       "8300.0              2206.0             2131.0    -75.0   -3.399819\n",
       "80600.0             2084.0             2010.0    -74.0   -3.550864\n",
       "40400.0              989.0              944.0    -45.0   -4.550051\n",
       "61400.0             1489.0             1406.0    -83.0   -5.574211\n",
       "7100.0              5113.0             4728.0   -385.0   -7.529826\n",
       "61500.0              752.0              687.0    -65.0   -8.643617\n",
       "4400.0               391.0              356.0    -35.0   -8.951407\n",
       "5200.0              1322.0             1203.0   -119.0   -9.001513\n",
       "4301.0              2951.0             2526.0   -425.0  -14.401898\n",
       "9200.0              1196.0              971.0   -225.0  -18.812709\n",
       "23801.0             1299.0              556.0   -743.0  -57.197844"
      ]
     },
     "execution_count": 14,
     "metadata": {},
     "output_type": "execute_result"
    }
   ],
   "source": [
    "parking_dif.sort_values(by = ['perc_dif','abs_dif'], ascending=False)"
   ]
  },
  {
   "cell_type": "code",
   "execution_count": 369,
   "metadata": {},
   "outputs": [
    {
     "data": {
      "text/plain": [
       "12.789745179215833"
      ]
     },
     "execution_count": 369,
     "metadata": {},
     "output_type": "execute_result"
    }
   ],
   "source": [
    "#calculating total % parking difference 2013 vs 2018 \n",
    "(parking_dif['Total Stalls 2018'].sum()-parking_dif['Total Stalls 2013'].sum())/parking_dif['Total Stalls 2013'].sum()*100"
   ]
  },
  {
   "cell_type": "code",
   "execution_count": 190,
   "metadata": {},
   "outputs": [],
   "source": [
    "#number of the tracts that we would like to analyze\n",
    "tract = 81100"
   ]
  },
  {
   "cell_type": "code",
   "execution_count": 133,
   "metadata": {},
   "outputs": [
    {
     "data": {
      "text/plain": [
       "4"
      ]
     },
     "execution_count": 133,
     "metadata": {},
     "output_type": "execute_result"
    }
   ],
   "source": [
    "#checking what blocks in 2013 were included in 2018 and vice versa\n",
    "a = data_2013[data_2013.Tract== tract].Block.unique()\n",
    "b = data_2018[data_2018.Tract== tract].Block.unique()\n",
    "\n",
    "#how many tracts were both in 2013 and 2018\n",
    "len(set(a) & set(b))"
   ]
  },
  {
   "cell_type": "code",
   "execution_count": 132,
   "metadata": {},
   "outputs": [
    {
     "name": "stdout",
     "output_type": "stream",
     "text": [
      "5 4\n"
     ]
    }
   ],
   "source": [
    "print (len(set(a)),len(set(b)))\n"
   ]
  },
  {
   "cell_type": "code",
   "execution_count": 137,
   "metadata": {},
   "outputs": [
    {
     "data": {
      "text/plain": [
       "set()"
      ]
     },
     "execution_count": 137,
     "metadata": {},
     "output_type": "execute_result"
    }
   ],
   "source": [
    "set(b) - set(a)"
   ]
  },
  {
   "cell_type": "code",
   "execution_count": 44,
   "metadata": {},
   "outputs": [
    {
     "data": {
      "text/plain": [
       "16"
      ]
     },
     "execution_count": 44,
     "metadata": {},
     "output_type": "execute_result"
    }
   ],
   "source": [
    "len(set(b))"
   ]
  },
  {
   "cell_type": "code",
   "execution_count": 139,
   "metadata": {},
   "outputs": [
    {
     "data": {
      "text/plain": [
       "0.0"
      ]
     },
     "execution_count": 139,
     "metadata": {},
     "output_type": "execute_result"
    }
   ],
   "source": [
    "#checking how many parking is in new blocks surveyed\n",
    "data_2018[(data_2018.Block.isin(set(b) - set(a))) & (data_2018.Tract == tract)]['Total Stalls'].sum()"
   ]
  },
  {
   "cell_type": "code",
   "execution_count": 138,
   "metadata": {
    "scrolled": true
   },
   "outputs": [
    {
     "data": {
      "text/html": [
       "<div>\n",
       "<style scoped>\n",
       "    .dataframe tbody tr th:only-of-type {\n",
       "        vertical-align: middle;\n",
       "    }\n",
       "\n",
       "    .dataframe tbody tr th {\n",
       "        vertical-align: top;\n",
       "    }\n",
       "\n",
       "    .dataframe thead th {\n",
       "        text-align: right;\n",
       "    }\n",
       "</style>\n",
       "<table border=\"1\" class=\"dataframe\">\n",
       "  <thead>\n",
       "    <tr style=\"text-align: right;\">\n",
       "      <th></th>\n",
       "      <th>County</th>\n",
       "      <th>City</th>\n",
       "      <th>Zone</th>\n",
       "      <th>Tract</th>\n",
       "      <th>Block</th>\n",
       "      <th>Number of Lots</th>\n",
       "      <th>Total Stalls</th>\n",
       "      <th>Average Number of Stalls</th>\n",
       "    </tr>\n",
       "  </thead>\n",
       "  <tbody>\n",
       "  </tbody>\n",
       "</table>\n",
       "</div>"
      ],
      "text/plain": [
       "Empty DataFrame\n",
       "Columns: [County, City, Zone, Tract, Block, Number of Lots, Total Stalls, Average Number of Stalls]\n",
       "Index: []"
      ]
     },
     "execution_count": 138,
     "metadata": {},
     "output_type": "execute_result"
    }
   ],
   "source": [
    "data_2018[(data_2018.Block.isin(set(b) - set(a))) & (data_2018.Tract == tract)]"
   ]
  },
  {
   "cell_type": "code",
   "execution_count": 140,
   "metadata": {},
   "outputs": [
    {
     "data": {
      "text/html": [
       "<div>\n",
       "<style scoped>\n",
       "    .dataframe tbody tr th:only-of-type {\n",
       "        vertical-align: middle;\n",
       "    }\n",
       "\n",
       "    .dataframe tbody tr th {\n",
       "        vertical-align: top;\n",
       "    }\n",
       "\n",
       "    .dataframe thead th {\n",
       "        text-align: right;\n",
       "    }\n",
       "</style>\n",
       "<table border=\"1\" class=\"dataframe\">\n",
       "  <thead>\n",
       "    <tr style=\"text-align: right;\">\n",
       "      <th></th>\n",
       "      <th>County</th>\n",
       "      <th>City</th>\n",
       "      <th>Zone</th>\n",
       "      <th>Tract</th>\n",
       "      <th>Block</th>\n",
       "      <th>Number of Lots</th>\n",
       "      <th>Total Stalls</th>\n",
       "      <th>Total AM Car Count</th>\n",
       "      <th>Total PM Car Count</th>\n",
       "      <th>Average Total Stalls</th>\n",
       "      <th>Average AM Car Count</th>\n",
       "      <th>Average PM Car Count</th>\n",
       "      <th>AM Occupancy Rate</th>\n",
       "      <th>PM Occupancy Rate</th>\n",
       "      <th>Average Daily Occupancy Rate</th>\n",
       "    </tr>\n",
       "  </thead>\n",
       "  <tbody>\n",
       "    <tr>\n",
       "      <th>57</th>\n",
       "      <td>King</td>\n",
       "      <td>Bellevue</td>\n",
       "      <td>6.0</td>\n",
       "      <td>23801.0</td>\n",
       "      <td>1003.0</td>\n",
       "      <td>5.0</td>\n",
       "      <td>59.0</td>\n",
       "      <td>33</td>\n",
       "      <td>33</td>\n",
       "      <td>12</td>\n",
       "      <td>7</td>\n",
       "      <td>7</td>\n",
       "      <td>0.583333</td>\n",
       "      <td>0.583333</td>\n",
       "      <td>0.583333</td>\n",
       "    </tr>\n",
       "  </tbody>\n",
       "</table>\n",
       "</div>"
      ],
      "text/plain": [
       "   County      City  Zone    Tract   Block  Number of Lots  Total Stalls  \\\n",
       "57   King  Bellevue   6.0  23801.0  1003.0             5.0          59.0   \n",
       "\n",
       "   Total AM Car Count Total PM Car Count Average Total Stalls  \\\n",
       "57                 33                 33                   12   \n",
       "\n",
       "   Average AM Car Count Average PM Car Count AM Occupancy Rate  \\\n",
       "57                    7                    7          0.583333   \n",
       "\n",
       "   PM Occupancy Rate Average Daily Occupancy Rate  \n",
       "57          0.583333                     0.583333  "
      ]
     },
     "execution_count": 140,
     "metadata": {},
     "output_type": "execute_result"
    }
   ],
   "source": [
    "data_2013[(data_2013.Block.isin(set(a) - set(b))) & (data_2013.Tract == tract)]"
   ]
  },
  {
   "cell_type": "code",
   "execution_count": 191,
   "metadata": {},
   "outputs": [],
   "source": [
    "park_dif_block_merged = pd.merge(data_2013[data_2013.Tract== tract], data_2018[data_2018.Tract== tract], how='outer', on='Block').dropna()\n",
    "park_dif_block = park_dif_block_merged[['Tract_x','Block', 'Total Stalls_x', 'Total Stalls_y' ]]\n",
    "park_dif_block = park_dif_block.rename(columns={\"Total Stalls_x\": \"Total Stalls 2013\",\"Total Stalls_y\": \"Total Stalls 2018\"})\n",
    "park_dif_block['abs_dif'] = park_dif_block['Total Stalls 2018'] - park_dif_block['Total Stalls 2013']\n",
    "park_dif_block['perc_dif'] = (park_dif_block['Total Stalls 2018'] - park_dif_block['Total Stalls 2013'])/park_dif_block['Total Stalls 2013']*100"
   ]
  },
  {
   "cell_type": "code",
   "execution_count": 192,
   "metadata": {},
   "outputs": [
    {
     "data": {
      "text/html": [
       "<div>\n",
       "<style scoped>\n",
       "    .dataframe tbody tr th:only-of-type {\n",
       "        vertical-align: middle;\n",
       "    }\n",
       "\n",
       "    .dataframe tbody tr th {\n",
       "        vertical-align: top;\n",
       "    }\n",
       "\n",
       "    .dataframe thead th {\n",
       "        text-align: right;\n",
       "    }\n",
       "</style>\n",
       "<table border=\"1\" class=\"dataframe\">\n",
       "  <thead>\n",
       "    <tr style=\"text-align: right;\">\n",
       "      <th></th>\n",
       "      <th>County_x</th>\n",
       "      <th>City_x</th>\n",
       "      <th>Zone_x</th>\n",
       "      <th>Tract_x</th>\n",
       "      <th>Block</th>\n",
       "      <th>Number of Lots_x</th>\n",
       "      <th>Total Stalls_x</th>\n",
       "      <th>Total AM Car Count</th>\n",
       "      <th>Total PM Car Count</th>\n",
       "      <th>Average Total Stalls</th>\n",
       "      <th>...</th>\n",
       "      <th>AM Occupancy Rate</th>\n",
       "      <th>PM Occupancy Rate</th>\n",
       "      <th>Average Daily Occupancy Rate</th>\n",
       "      <th>County_y</th>\n",
       "      <th>City_y</th>\n",
       "      <th>Zone_y</th>\n",
       "      <th>Tract_y</th>\n",
       "      <th>Number of Lots_y</th>\n",
       "      <th>Total Stalls_y</th>\n",
       "      <th>Average Number of Stalls</th>\n",
       "    </tr>\n",
       "  </thead>\n",
       "  <tbody>\n",
       "    <tr>\n",
       "      <th>0</th>\n",
       "      <td>Kitsap</td>\n",
       "      <td>Bremerton</td>\n",
       "      <td>7.0</td>\n",
       "      <td>81100.0</td>\n",
       "      <td>1002.0</td>\n",
       "      <td>1.0</td>\n",
       "      <td>189.0</td>\n",
       "      <td>40</td>\n",
       "      <td>42</td>\n",
       "      <td>189</td>\n",
       "      <td>...</td>\n",
       "      <td>0.21164</td>\n",
       "      <td>0.222222</td>\n",
       "      <td>0.216931</td>\n",
       "      <td>35.0</td>\n",
       "      <td>Bremerton</td>\n",
       "      <td>7.0</td>\n",
       "      <td>81100.0</td>\n",
       "      <td>1.0</td>\n",
       "      <td>189.0</td>\n",
       "      <td>189.0</td>\n",
       "    </tr>\n",
       "    <tr>\n",
       "      <th>1</th>\n",
       "      <td>Kitsap</td>\n",
       "      <td>Bremerton</td>\n",
       "      <td>7.0</td>\n",
       "      <td>81100.0</td>\n",
       "      <td>1003.0</td>\n",
       "      <td>5.0</td>\n",
       "      <td>90.0</td>\n",
       "      <td>27</td>\n",
       "      <td>29</td>\n",
       "      <td>18</td>\n",
       "      <td>...</td>\n",
       "      <td>0.277778</td>\n",
       "      <td>0.333333</td>\n",
       "      <td>0.305556</td>\n",
       "      <td>35.0</td>\n",
       "      <td>Bremerton</td>\n",
       "      <td>7.0</td>\n",
       "      <td>81100.0</td>\n",
       "      <td>5.0</td>\n",
       "      <td>90.0</td>\n",
       "      <td>18.0</td>\n",
       "    </tr>\n",
       "    <tr>\n",
       "      <th>2</th>\n",
       "      <td>Kitsap</td>\n",
       "      <td>Bremerton</td>\n",
       "      <td>7.0</td>\n",
       "      <td>81100.0</td>\n",
       "      <td>1004.0</td>\n",
       "      <td>2.0</td>\n",
       "      <td>28.0</td>\n",
       "      <td>10</td>\n",
       "      <td>12</td>\n",
       "      <td>14</td>\n",
       "      <td>...</td>\n",
       "      <td>0.357143</td>\n",
       "      <td>0.428571</td>\n",
       "      <td>0.392857</td>\n",
       "      <td>35.0</td>\n",
       "      <td>Bremerton</td>\n",
       "      <td>7.0</td>\n",
       "      <td>81100.0</td>\n",
       "      <td>2.0</td>\n",
       "      <td>28.0</td>\n",
       "      <td>14.0</td>\n",
       "    </tr>\n",
       "    <tr>\n",
       "      <th>3</th>\n",
       "      <td>Kitsap</td>\n",
       "      <td>Bremerton</td>\n",
       "      <td>7.0</td>\n",
       "      <td>81100.0</td>\n",
       "      <td>1005.0</td>\n",
       "      <td>1.0</td>\n",
       "      <td>8.0</td>\n",
       "      <td>3</td>\n",
       "      <td>3</td>\n",
       "      <td>8</td>\n",
       "      <td>...</td>\n",
       "      <td>0.375</td>\n",
       "      <td>0.375</td>\n",
       "      <td>0.375</td>\n",
       "      <td>35.0</td>\n",
       "      <td>Bremerton</td>\n",
       "      <td>7.0</td>\n",
       "      <td>81100.0</td>\n",
       "      <td>1.0</td>\n",
       "      <td>8.0</td>\n",
       "      <td>8.0</td>\n",
       "    </tr>\n",
       "    <tr>\n",
       "      <th>4</th>\n",
       "      <td>Kitsap</td>\n",
       "      <td>Bremerton</td>\n",
       "      <td>7.0</td>\n",
       "      <td>81100.0</td>\n",
       "      <td>1006.0</td>\n",
       "      <td>2.0</td>\n",
       "      <td>30.0</td>\n",
       "      <td>11</td>\n",
       "      <td>10</td>\n",
       "      <td>15</td>\n",
       "      <td>...</td>\n",
       "      <td>0.4</td>\n",
       "      <td>0.333333</td>\n",
       "      <td>0.366667</td>\n",
       "      <td>35.0</td>\n",
       "      <td>Bremerton</td>\n",
       "      <td>7.0</td>\n",
       "      <td>81100.0</td>\n",
       "      <td>2.0</td>\n",
       "      <td>30.0</td>\n",
       "      <td>15.0</td>\n",
       "    </tr>\n",
       "  </tbody>\n",
       "</table>\n",
       "<p>5 rows × 22 columns</p>\n",
       "</div>"
      ],
      "text/plain": [
       "  County_x     City_x  Zone_x  Tract_x   Block  Number of Lots_x  \\\n",
       "0   Kitsap  Bremerton     7.0  81100.0  1002.0               1.0   \n",
       "1   Kitsap  Bremerton     7.0  81100.0  1003.0               5.0   \n",
       "2   Kitsap  Bremerton     7.0  81100.0  1004.0               2.0   \n",
       "3   Kitsap  Bremerton     7.0  81100.0  1005.0               1.0   \n",
       "4   Kitsap  Bremerton     7.0  81100.0  1006.0               2.0   \n",
       "\n",
       "   Total Stalls_x Total AM Car Count Total PM Car Count Average Total Stalls  \\\n",
       "0           189.0                 40                 42                  189   \n",
       "1            90.0                 27                 29                   18   \n",
       "2            28.0                 10                 12                   14   \n",
       "3             8.0                  3                  3                    8   \n",
       "4            30.0                 11                 10                   15   \n",
       "\n",
       "   ... AM Occupancy Rate PM Occupancy Rate Average Daily Occupancy Rate  \\\n",
       "0  ...           0.21164          0.222222                     0.216931   \n",
       "1  ...          0.277778          0.333333                     0.305556   \n",
       "2  ...          0.357143          0.428571                     0.392857   \n",
       "3  ...             0.375             0.375                        0.375   \n",
       "4  ...               0.4          0.333333                     0.366667   \n",
       "\n",
       "  County_y     City_y  Zone_y  Tract_y  Number of Lots_y  Total Stalls_y  \\\n",
       "0     35.0  Bremerton     7.0  81100.0               1.0           189.0   \n",
       "1     35.0  Bremerton     7.0  81100.0               5.0            90.0   \n",
       "2     35.0  Bremerton     7.0  81100.0               2.0            28.0   \n",
       "3     35.0  Bremerton     7.0  81100.0               1.0             8.0   \n",
       "4     35.0  Bremerton     7.0  81100.0               2.0            30.0   \n",
       "\n",
       "   Average Number of Stalls  \n",
       "0                     189.0  \n",
       "1                      18.0  \n",
       "2                      14.0  \n",
       "3                       8.0  \n",
       "4                      15.0  \n",
       "\n",
       "[5 rows x 22 columns]"
      ]
     },
     "execution_count": 192,
     "metadata": {},
     "output_type": "execute_result"
    }
   ],
   "source": [
    "park_dif_block_merged.head()"
   ]
  },
  {
   "cell_type": "code",
   "execution_count": 193,
   "metadata": {},
   "outputs": [
    {
     "data": {
      "text/html": [
       "<div>\n",
       "<style scoped>\n",
       "    .dataframe tbody tr th:only-of-type {\n",
       "        vertical-align: middle;\n",
       "    }\n",
       "\n",
       "    .dataframe tbody tr th {\n",
       "        vertical-align: top;\n",
       "    }\n",
       "\n",
       "    .dataframe thead th {\n",
       "        text-align: right;\n",
       "    }\n",
       "</style>\n",
       "<table border=\"1\" class=\"dataframe\">\n",
       "  <thead>\n",
       "    <tr style=\"text-align: right;\">\n",
       "      <th></th>\n",
       "      <th>Tract_x</th>\n",
       "      <th>Block</th>\n",
       "      <th>Total Stalls 2013</th>\n",
       "      <th>Total Stalls 2018</th>\n",
       "      <th>abs_dif</th>\n",
       "      <th>perc_dif</th>\n",
       "    </tr>\n",
       "  </thead>\n",
       "  <tbody>\n",
       "    <tr>\n",
       "      <th>17</th>\n",
       "      <td>81100.0</td>\n",
       "      <td>2016.0</td>\n",
       "      <td>127.0</td>\n",
       "      <td>72.0</td>\n",
       "      <td>-55.0</td>\n",
       "      <td>-43.307087</td>\n",
       "    </tr>\n",
       "  </tbody>\n",
       "</table>\n",
       "</div>"
      ],
      "text/plain": [
       "    Tract_x   Block  Total Stalls 2013  Total Stalls 2018  abs_dif   perc_dif\n",
       "17  81100.0  2016.0              127.0               72.0    -55.0 -43.307087"
      ]
     },
     "execution_count": 193,
     "metadata": {},
     "output_type": "execute_result"
    }
   ],
   "source": [
    "park_dif_block.sort_values(by=['perc_dif','abs_dif'], ascending=False).query(\"perc_dif != 0\")"
   ]
  },
  {
   "cell_type": "code",
   "execution_count": 131,
   "metadata": {},
   "outputs": [
    {
     "data": {
      "text/html": [
       "<div>\n",
       "<style scoped>\n",
       "    .dataframe tbody tr th:only-of-type {\n",
       "        vertical-align: middle;\n",
       "    }\n",
       "\n",
       "    .dataframe tbody tr th {\n",
       "        vertical-align: top;\n",
       "    }\n",
       "\n",
       "    .dataframe thead th {\n",
       "        text-align: right;\n",
       "    }\n",
       "</style>\n",
       "<table border=\"1\" class=\"dataframe\">\n",
       "  <thead>\n",
       "    <tr style=\"text-align: right;\">\n",
       "      <th></th>\n",
       "      <th>County</th>\n",
       "      <th>City</th>\n",
       "      <th>Zone</th>\n",
       "      <th>Tract</th>\n",
       "      <th>Block</th>\n",
       "      <th>Number of Lots</th>\n",
       "      <th>Total Stalls</th>\n",
       "      <th>Average Number of Stalls</th>\n",
       "    </tr>\n",
       "  </thead>\n",
       "  <tbody>\n",
       "    <tr>\n",
       "      <th>48</th>\n",
       "      <td>33.0</td>\n",
       "      <td>Bellevue</td>\n",
       "      <td>5.0</td>\n",
       "      <td>23801.0</td>\n",
       "      <td>1013.0</td>\n",
       "      <td>3.0</td>\n",
       "      <td>155.0</td>\n",
       "      <td>52.0</td>\n",
       "    </tr>\n",
       "    <tr>\n",
       "      <th>53</th>\n",
       "      <td>33.0</td>\n",
       "      <td>Bellevue</td>\n",
       "      <td>6.0</td>\n",
       "      <td>23801.0</td>\n",
       "      <td>1002.0</td>\n",
       "      <td>1.0</td>\n",
       "      <td>288.0</td>\n",
       "      <td>288.0</td>\n",
       "    </tr>\n",
       "    <tr>\n",
       "      <th>54</th>\n",
       "      <td>33.0</td>\n",
       "      <td>Bellevue</td>\n",
       "      <td>6.0</td>\n",
       "      <td>23801.0</td>\n",
       "      <td>1004.0</td>\n",
       "      <td>2.0</td>\n",
       "      <td>20.0</td>\n",
       "      <td>10.0</td>\n",
       "    </tr>\n",
       "    <tr>\n",
       "      <th>55</th>\n",
       "      <td>33.0</td>\n",
       "      <td>Bellevue</td>\n",
       "      <td>6.0</td>\n",
       "      <td>23801.0</td>\n",
       "      <td>1005.0</td>\n",
       "      <td>3.0</td>\n",
       "      <td>93.0</td>\n",
       "      <td>31.0</td>\n",
       "    </tr>\n",
       "  </tbody>\n",
       "</table>\n",
       "</div>"
      ],
      "text/plain": [
       "    County      City  Zone    Tract   Block  Number of Lots  Total Stalls  \\\n",
       "48    33.0  Bellevue   5.0  23801.0  1013.0             3.0         155.0   \n",
       "53    33.0  Bellevue   6.0  23801.0  1002.0             1.0         288.0   \n",
       "54    33.0  Bellevue   6.0  23801.0  1004.0             2.0          20.0   \n",
       "55    33.0  Bellevue   6.0  23801.0  1005.0             3.0          93.0   \n",
       "\n",
       "    Average Number of Stalls  \n",
       "48                      52.0  \n",
       "53                     288.0  \n",
       "54                      10.0  \n",
       "55                      31.0  "
      ]
     },
     "execution_count": 131,
     "metadata": {},
     "output_type": "execute_result"
    }
   ],
   "source": [
    "#next block\n",
    "data_2018[data_2018.Tract== tract]"
   ]
  },
  {
   "cell_type": "code",
   "execution_count": 63,
   "metadata": {},
   "outputs": [
    {
     "data": {
      "text/html": [
       "<div>\n",
       "<style scoped>\n",
       "    .dataframe tbody tr th:only-of-type {\n",
       "        vertical-align: middle;\n",
       "    }\n",
       "\n",
       "    .dataframe tbody tr th {\n",
       "        vertical-align: top;\n",
       "    }\n",
       "\n",
       "    .dataframe thead th {\n",
       "        text-align: right;\n",
       "    }\n",
       "</style>\n",
       "<table border=\"1\" class=\"dataframe\">\n",
       "  <thead>\n",
       "    <tr style=\"text-align: right;\">\n",
       "      <th></th>\n",
       "      <th>County</th>\n",
       "      <th>City</th>\n",
       "      <th>Zone</th>\n",
       "      <th>Tract</th>\n",
       "      <th>Block</th>\n",
       "      <th>Number of Lots</th>\n",
       "      <th>Total Stalls</th>\n",
       "      <th>Total AM Car Count</th>\n",
       "      <th>Total PM Car Count</th>\n",
       "      <th>Average Total Stalls</th>\n",
       "      <th>Average AM Car Count</th>\n",
       "      <th>Average PM Car Count</th>\n",
       "      <th>AM Occupancy Rate</th>\n",
       "      <th>PM Occupancy Rate</th>\n",
       "      <th>Average Daily Occupancy Rate</th>\n",
       "    </tr>\n",
       "  </thead>\n",
       "  <tbody>\n",
       "    <tr>\n",
       "      <th>223</th>\n",
       "      <td>King</td>\n",
       "      <td>Seattle</td>\n",
       "      <td>11.0</td>\n",
       "      <td>7200.0</td>\n",
       "      <td>2006.0</td>\n",
       "      <td>1.0</td>\n",
       "      <td>19.0</td>\n",
       "      <td>15</td>\n",
       "      <td>17</td>\n",
       "      <td>19</td>\n",
       "      <td>15</td>\n",
       "      <td>17</td>\n",
       "      <td>0.789474</td>\n",
       "      <td>0.894737</td>\n",
       "      <td>0.842105</td>\n",
       "    </tr>\n",
       "    <tr>\n",
       "      <th>224</th>\n",
       "      <td>King</td>\n",
       "      <td>Seattle</td>\n",
       "      <td>11.0</td>\n",
       "      <td>7200.0</td>\n",
       "      <td>2007.0</td>\n",
       "      <td>1.0</td>\n",
       "      <td>45.0</td>\n",
       "      <td>38</td>\n",
       "      <td>29</td>\n",
       "      <td>45</td>\n",
       "      <td>38</td>\n",
       "      <td>29</td>\n",
       "      <td>0.844444</td>\n",
       "      <td>0.644444</td>\n",
       "      <td>0.744444</td>\n",
       "    </tr>\n",
       "    <tr>\n",
       "      <th>225</th>\n",
       "      <td>King</td>\n",
       "      <td>Seattle</td>\n",
       "      <td>11.0</td>\n",
       "      <td>7200.0</td>\n",
       "      <td>2008.0</td>\n",
       "      <td>1.0</td>\n",
       "      <td>205.0</td>\n",
       "      <td>151</td>\n",
       "      <td>147</td>\n",
       "      <td>205</td>\n",
       "      <td>151</td>\n",
       "      <td>147</td>\n",
       "      <td>0.736585</td>\n",
       "      <td>0.717073</td>\n",
       "      <td>0.726829</td>\n",
       "    </tr>\n",
       "    <tr>\n",
       "      <th>226</th>\n",
       "      <td>King</td>\n",
       "      <td>Seattle</td>\n",
       "      <td>11.0</td>\n",
       "      <td>7200.0</td>\n",
       "      <td>2009.0</td>\n",
       "      <td>1.0</td>\n",
       "      <td>29.0</td>\n",
       "      <td>21</td>\n",
       "      <td>24</td>\n",
       "      <td>29</td>\n",
       "      <td>21</td>\n",
       "      <td>24</td>\n",
       "      <td>0.724138</td>\n",
       "      <td>0.827586</td>\n",
       "      <td>0.775862</td>\n",
       "    </tr>\n",
       "    <tr>\n",
       "      <th>227</th>\n",
       "      <td>King</td>\n",
       "      <td>Seattle</td>\n",
       "      <td>11.0</td>\n",
       "      <td>7200.0</td>\n",
       "      <td>2010.0</td>\n",
       "      <td>1.0</td>\n",
       "      <td>7.0</td>\n",
       "      <td>4</td>\n",
       "      <td>3</td>\n",
       "      <td>7</td>\n",
       "      <td>4</td>\n",
       "      <td>3</td>\n",
       "      <td>0.571429</td>\n",
       "      <td>0.428571</td>\n",
       "      <td>0.5</td>\n",
       "    </tr>\n",
       "    <tr>\n",
       "      <th>...</th>\n",
       "      <td>...</td>\n",
       "      <td>...</td>\n",
       "      <td>...</td>\n",
       "      <td>...</td>\n",
       "      <td>...</td>\n",
       "      <td>...</td>\n",
       "      <td>...</td>\n",
       "      <td>...</td>\n",
       "      <td>...</td>\n",
       "      <td>...</td>\n",
       "      <td>...</td>\n",
       "      <td>...</td>\n",
       "      <td>...</td>\n",
       "      <td>...</td>\n",
       "      <td>...</td>\n",
       "    </tr>\n",
       "    <tr>\n",
       "      <th>423</th>\n",
       "      <td>King</td>\n",
       "      <td>Seattle</td>\n",
       "      <td>18.0</td>\n",
       "      <td>7200.0</td>\n",
       "      <td>1074.0</td>\n",
       "      <td>1.0</td>\n",
       "      <td>28.0</td>\n",
       "      <td>6</td>\n",
       "      <td>5</td>\n",
       "      <td>28</td>\n",
       "      <td>6</td>\n",
       "      <td>5</td>\n",
       "      <td>0.214286</td>\n",
       "      <td>0.178571</td>\n",
       "      <td>0.196429</td>\n",
       "    </tr>\n",
       "    <tr>\n",
       "      <th>424</th>\n",
       "      <td>King</td>\n",
       "      <td>Seattle</td>\n",
       "      <td>18.0</td>\n",
       "      <td>7200.0</td>\n",
       "      <td>1075.0</td>\n",
       "      <td>2.0</td>\n",
       "      <td>257.0</td>\n",
       "      <td>93</td>\n",
       "      <td>82</td>\n",
       "      <td>129</td>\n",
       "      <td>47</td>\n",
       "      <td>41</td>\n",
       "      <td>0.364341</td>\n",
       "      <td>0.317829</td>\n",
       "      <td>0.341085</td>\n",
       "    </tr>\n",
       "    <tr>\n",
       "      <th>425</th>\n",
       "      <td>King</td>\n",
       "      <td>Seattle</td>\n",
       "      <td>18.0</td>\n",
       "      <td>7200.0</td>\n",
       "      <td>1076.0</td>\n",
       "      <td>4.0</td>\n",
       "      <td>184.0</td>\n",
       "      <td>80</td>\n",
       "      <td>60</td>\n",
       "      <td>46</td>\n",
       "      <td>20</td>\n",
       "      <td>15</td>\n",
       "      <td>0.434783</td>\n",
       "      <td>0.326087</td>\n",
       "      <td>0.380435</td>\n",
       "    </tr>\n",
       "    <tr>\n",
       "      <th>426</th>\n",
       "      <td>King</td>\n",
       "      <td>Seattle</td>\n",
       "      <td>18.0</td>\n",
       "      <td>7200.0</td>\n",
       "      <td>1078.0</td>\n",
       "      <td>6.0</td>\n",
       "      <td>225.0</td>\n",
       "      <td>76</td>\n",
       "      <td>76</td>\n",
       "      <td>38</td>\n",
       "      <td>13</td>\n",
       "      <td>13</td>\n",
       "      <td>0.342105</td>\n",
       "      <td>0.342105</td>\n",
       "      <td>0.342105</td>\n",
       "    </tr>\n",
       "    <tr>\n",
       "      <th>427</th>\n",
       "      <td>King</td>\n",
       "      <td>Seattle</td>\n",
       "      <td>18.0</td>\n",
       "      <td>7200.0</td>\n",
       "      <td>1079.0</td>\n",
       "      <td>3.0</td>\n",
       "      <td>78.0</td>\n",
       "      <td>51</td>\n",
       "      <td>64</td>\n",
       "      <td>26</td>\n",
       "      <td>17</td>\n",
       "      <td>21</td>\n",
       "      <td>0.653846</td>\n",
       "      <td>0.807692</td>\n",
       "      <td>0.730769</td>\n",
       "    </tr>\n",
       "  </tbody>\n",
       "</table>\n",
       "<p>72 rows × 15 columns</p>\n",
       "</div>"
      ],
      "text/plain": [
       "    County     City  Zone   Tract   Block  Number of Lots  Total Stalls  \\\n",
       "223   King  Seattle  11.0  7200.0  2006.0             1.0          19.0   \n",
       "224   King  Seattle  11.0  7200.0  2007.0             1.0          45.0   \n",
       "225   King  Seattle  11.0  7200.0  2008.0             1.0         205.0   \n",
       "226   King  Seattle  11.0  7200.0  2009.0             1.0          29.0   \n",
       "227   King  Seattle  11.0  7200.0  2010.0             1.0           7.0   \n",
       "..     ...      ...   ...     ...     ...             ...           ...   \n",
       "423   King  Seattle  18.0  7200.0  1074.0             1.0          28.0   \n",
       "424   King  Seattle  18.0  7200.0  1075.0             2.0         257.0   \n",
       "425   King  Seattle  18.0  7200.0  1076.0             4.0         184.0   \n",
       "426   King  Seattle  18.0  7200.0  1078.0             6.0         225.0   \n",
       "427   King  Seattle  18.0  7200.0  1079.0             3.0          78.0   \n",
       "\n",
       "    Total AM Car Count Total PM Car Count Average Total Stalls  \\\n",
       "223                 15                 17                   19   \n",
       "224                 38                 29                   45   \n",
       "225                151                147                  205   \n",
       "226                 21                 24                   29   \n",
       "227                  4                  3                    7   \n",
       "..                 ...                ...                  ...   \n",
       "423                  6                  5                   28   \n",
       "424                 93                 82                  129   \n",
       "425                 80                 60                   46   \n",
       "426                 76                 76                   38   \n",
       "427                 51                 64                   26   \n",
       "\n",
       "    Average AM Car Count Average PM Car Count AM Occupancy Rate  \\\n",
       "223                   15                   17          0.789474   \n",
       "224                   38                   29          0.844444   \n",
       "225                  151                  147          0.736585   \n",
       "226                   21                   24          0.724138   \n",
       "227                    4                    3          0.571429   \n",
       "..                   ...                  ...               ...   \n",
       "423                    6                    5          0.214286   \n",
       "424                   47                   41          0.364341   \n",
       "425                   20                   15          0.434783   \n",
       "426                   13                   13          0.342105   \n",
       "427                   17                   21          0.653846   \n",
       "\n",
       "    PM Occupancy Rate Average Daily Occupancy Rate  \n",
       "223          0.894737                     0.842105  \n",
       "224          0.644444                     0.744444  \n",
       "225          0.717073                     0.726829  \n",
       "226          0.827586                     0.775862  \n",
       "227          0.428571                          0.5  \n",
       "..                ...                          ...  \n",
       "423          0.178571                     0.196429  \n",
       "424          0.317829                     0.341085  \n",
       "425          0.326087                     0.380435  \n",
       "426          0.342105                     0.342105  \n",
       "427          0.807692                     0.730769  \n",
       "\n",
       "[72 rows x 15 columns]"
      ]
     },
     "execution_count": 63,
     "metadata": {},
     "output_type": "execute_result"
    }
   ],
   "source": [
    "data_2013[data_2013.Tract== tract]"
   ]
  },
  {
   "cell_type": "code",
   "execution_count": null,
   "metadata": {},
   "outputs": [],
   "source": [
    "# Find the parking difference for the tracts AND blocks that were surveyed in both 2013 and 2018"
   ]
  },
  {
   "cell_type": "code",
   "execution_count": 178,
   "metadata": {},
   "outputs": [],
   "source": [
    "park_dif_trblk_merged = pd.merge(data_2013, data_2018, how='inner', left_on=['Tract','Block','Zone'], right_on = ['Tract','Block','Zone']).dropna()"
   ]
  },
  {
   "cell_type": "code",
   "execution_count": 179,
   "metadata": {},
   "outputs": [
    {
     "name": "stdout",
     "output_type": "stream",
     "text": [
      "<class 'pandas.core.frame.DataFrame'>\n",
      "Int64Index: 911 entries, 0 to 910\n",
      "Data columns (total 20 columns):\n",
      " #   Column                        Non-Null Count  Dtype  \n",
      "---  ------                        --------------  -----  \n",
      " 0   County_x                      911 non-null    object \n",
      " 1   City_x                        911 non-null    object \n",
      " 2   Zone                          911 non-null    float64\n",
      " 3   Tract                         911 non-null    float64\n",
      " 4   Block                         911 non-null    float64\n",
      " 5   Number of Lots_x              911 non-null    float64\n",
      " 6   Total Stalls_x                911 non-null    float64\n",
      " 7   Total AM Car Count            911 non-null    object \n",
      " 8   Total PM Car Count            911 non-null    object \n",
      " 9   Average Total Stalls          911 non-null    object \n",
      " 10  Average AM Car Count          911 non-null    object \n",
      " 11  Average PM Car Count          911 non-null    object \n",
      " 12  AM Occupancy Rate             911 non-null    object \n",
      " 13  PM Occupancy Rate             911 non-null    object \n",
      " 14  Average Daily Occupancy Rate  911 non-null    object \n",
      " 15  County_y                      911 non-null    float64\n",
      " 16  City_y                        911 non-null    object \n",
      " 17  Number of Lots_y              911 non-null    float64\n",
      " 18  Total Stalls_y                911 non-null    float64\n",
      " 19  Average Number of Stalls      911 non-null    float64\n",
      "dtypes: float64(9), object(11)\n",
      "memory usage: 149.5+ KB\n"
     ]
    }
   ],
   "source": [
    "park_dif_trblk_merged.info()"
   ]
  },
  {
   "cell_type": "code",
   "execution_count": 180,
   "metadata": {},
   "outputs": [],
   "source": [
    "park_dif_trblk_merged = park_dif_trblk_merged[['Tract','Block', 'Total Stalls_x', 'Total Stalls_y' ]]\n",
    "park_dif_trblk_merged = park_dif_trblk_merged.rename(columns={\"Total Stalls_x\": \"Total Stalls 2013\",\"Total Stalls_y\": \"Total Stalls 2018\"})"
   ]
  },
  {
   "cell_type": "code",
   "execution_count": 181,
   "metadata": {},
   "outputs": [
    {
     "data": {
      "text/plain": [
       "5.823942176696251"
      ]
     },
     "execution_count": 181,
     "metadata": {},
     "output_type": "execute_result"
    }
   ],
   "source": [
    "(park_dif_trblk_merged['Total Stalls 2018'].sum()-park_dif_trblk_merged['Total Stalls 2013'].sum())/park_dif_trblk_merged['Total Stalls 2013'].sum()*100"
   ]
  },
  {
   "cell_type": "code",
   "execution_count": 170,
   "metadata": {},
   "outputs": [],
   "source": [
    "tr_bl_2013 = set(zip(data_2013.Tract, data_2013.Block,data_2013.Zone))\n",
    "tr_bl_2018 = set(zip(data_2018.Tract, data_2018.Block,data_2018.Zone))"
   ]
  },
  {
   "cell_type": "code",
   "execution_count": 169,
   "metadata": {},
   "outputs": [
    {
     "name": "stdout",
     "output_type": "stream",
     "text": [
      "973 987\n"
     ]
    }
   ],
   "source": [
    "print(len(tr_bl_2013), len(tr_bl_2018))"
   ]
  },
  {
   "cell_type": "code",
   "execution_count": 167,
   "metadata": {},
   "outputs": [
    {
     "name": "stdout",
     "output_type": "stream",
     "text": [
      "968 987\n"
     ]
    }
   ],
   "source": [
    "print(len(tr_bl_2013), len(tr_bl_2018))"
   ]
  },
  {
   "cell_type": "code",
   "execution_count": 171,
   "metadata": {},
   "outputs": [
    {
     "data": {
      "text/plain": [
       "911"
      ]
     },
     "execution_count": 171,
     "metadata": {},
     "output_type": "execute_result"
    }
   ],
   "source": [
    "len(tr_bl_2013 & tr_bl_2018)"
   ]
  },
  {
   "cell_type": "code",
   "execution_count": null,
   "metadata": {},
   "outputs": [],
   "source": [
    "#checking for duplicates"
   ]
  },
  {
   "cell_type": "code",
   "execution_count": 182,
   "metadata": {},
   "outputs": [
    {
     "name": "stdout",
     "output_type": "stream",
     "text": [
      "     County                       City  Zone    Tract   Block  Number of Lots  \\\n",
      "64     33.0             Bellevue Total   NaN      NaN     NaN           242.0   \n",
      "148    33.0                    Seattle   6.0   8100.0  3010.0             3.0   \n",
      "157    33.0                    Seattle   7.0   8100.0  3010.0             1.0   \n",
      "443     NaN                        CBD   NaN      NaN     NaN            88.0   \n",
      "444     NaN                 First Hill   NaN      NaN     NaN            86.0   \n",
      "445     NaN     International District   NaN      NaN     NaN            96.0   \n",
      "446     NaN           Lower Queen Anne   NaN      NaN     NaN           254.0   \n",
      "447     NaN                    Regrade   NaN      NaN     NaN           141.0   \n",
      "448     NaN                 Waterfront   NaN      NaN     NaN            46.0   \n",
      "449    33.0              Seattle Total   NaN      NaN     NaN           711.0   \n",
      "544    33.0  University District Total   NaN      NaN     NaN           246.0   \n",
      "553    35.0           Bainbridge Total   NaN      NaN     NaN            37.0   \n",
      "657    35.0            Bremerton Total   NaN      NaN     NaN           288.0   \n",
      "674    35.0             Kingston Total   NaN      NaN     NaN            51.0   \n",
      "679    35.0           Southworth Total   NaN      NaN     NaN             4.0   \n",
      "851    53.0               Tacoma Total   NaN      NaN     NaN           373.0   \n",
      "927    61.0                    Everett   5.0  40700.0  2001.0             1.0   \n",
      "951    61.0                    Everett   6.0  40700.0  2001.0             2.0   \n",
      "984    61.0              Everett Total   NaN      NaN     NaN           420.0   \n",
      "985     NaN                        NaN   NaN      NaN     NaN             NaN   \n",
      "986     NaN             Regional Total   NaN      NaN     NaN          2372.0   \n",
      "\n",
      "     Total Stalls  Average Number of Stalls  \n",
      "64        45678.0                188.752066  \n",
      "148        1346.0                449.000000  \n",
      "157         427.0                427.000000  \n",
      "443       26407.0                300.000000  \n",
      "444        9938.0                116.000000  \n",
      "445        8323.0                 87.000000  \n",
      "446       20540.0                 81.000000  \n",
      "447       14103.0                100.000000  \n",
      "448        5928.0                129.000000  \n",
      "449       85239.0                119.886076  \n",
      "544       18764.0                 76.276423  \n",
      "553        1985.0                 53.648649  \n",
      "657       14075.0                 48.871528  \n",
      "674        1472.0                456.000000  \n",
      "679         385.0                 96.250000  \n",
      "851       21727.0                 58.249330  \n",
      "927          12.0                 12.000000  \n",
      "951          48.0                 24.000000  \n",
      "984       14459.0                 34.426190  \n",
      "985           NaN                       NaN  \n",
      "986      203784.0                 85.912310  \n"
     ]
    }
   ],
   "source": [
    "df = data_2018[data_2018.duplicated(subset=['Tract','Block'], keep=False)]\n",
    "print (df)"
   ]
  },
  {
   "cell_type": "code",
   "execution_count": null,
   "metadata": {},
   "outputs": [],
   "source": [
    "# Prep data for the Tableau\n",
    "#Need to transform tract and blocks to match census shape files (need to add leading zeros)"
   ]
  },
  {
   "cell_type": "code",
   "execution_count": 199,
   "metadata": {},
   "outputs": [
    {
     "data": {
      "text/plain": [
       "3"
      ]
     },
     "execution_count": 199,
     "metadata": {},
     "output_type": "execute_result"
    }
   ],
   "source": [
    "#cols = ['Tract', 'Block'] \n",
    "#data_2013[cols] = data_2013[cols].dropna().apply(np.int64) \n",
    "#data_2018[cols] = data_2018[cols].dropna().applymap(np.int64)\n"
   ]
  },
  {
   "cell_type": "code",
   "execution_count": 370,
   "metadata": {},
   "outputs": [],
   "source": [
    "cols = ['Tract', 'Block'] \n",
    "data_2013[cols] = data_2013[cols].dropna() \n",
    "data_2018[cols] = data_2018[cols].dropna() \n",
    "for col in cols:   \n",
    "    data_2013[col] = data_2013[col].apply(lambda x: int(x) if x == x else \"\")"
   ]
  },
  {
   "cell_type": "code",
   "execution_count": 371,
   "metadata": {},
   "outputs": [],
   "source": [
    "for col in cols:   \n",
    "    data_2018[col] = data_2018[col].apply(lambda x: int(x) if x == x else \"\")"
   ]
  },
  {
   "cell_type": "code",
   "execution_count": null,
   "metadata": {},
   "outputs": [],
   "source": [
    "#Create a table with all matched blocks and tracts in 2013 and 2018 (using th\n"
   ]
  },
  {
   "cell_type": "code",
   "execution_count": 386,
   "metadata": {},
   "outputs": [],
   "source": [
    "#Creating a subset of the tracts that we are interested in \n",
    "tracts = list(parking_dif.query(\"perc_dif > 10 | perc_dif < -10 \").index)"
   ]
  },
  {
   "cell_type": "code",
   "execution_count": 387,
   "metadata": {},
   "outputs": [],
   "source": [
    "#converting to integers \n",
    "for i in range(len(tracts)):   \n",
    "    tracts[i] = int(tracts[i])\n"
   ]
  },
  {
   "cell_type": "code",
   "execution_count": 388,
   "metadata": {},
   "outputs": [
    {
     "data": {
      "text/plain": [
       "[4301, 5302, 7200, 8200, 9200, 9300, 23801, 81100, 90102, 90900]"
      ]
     },
     "execution_count": 388,
     "metadata": {},
     "output_type": "execute_result"
    }
   ],
   "source": [
    "tracts"
   ]
  },
  {
   "cell_type": "code",
   "execution_count": 391,
   "metadata": {},
   "outputs": [],
   "source": [
    "park_dif_block_merged = pd.merge(data_2013[data_2013.Tract== tracts[-1]], data_2018[data_2018.Tract== tracts[-1]], how='outer', on='Block').dropna()\n",
    "park_dif_block_tableau = park_dif_block_merged[['Tract_x','Block', 'Total Stalls_x', 'Total Stalls_y' ]]\n",
    "park_dif_block_tableau = park_dif_block_tableau.rename(columns={\"Total Stalls_x\": \"Total Stalls 2013\",\"Total Stalls_y\": \"Total Stalls 2018\"})\n",
    "park_dif_block_tableau['abs_dif'] = park_dif_block_tableau['Total Stalls 2018'] - park_dif_block_tableau['Total Stalls 2013']\n",
    "park_dif_block_tableau['perc_dif'] = (park_dif_block_tableau['Total Stalls 2018'] - park_dif_block_tableau['Total Stalls 2013'])/park_dif_block_tableau['Total Stalls 2013']*100"
   ]
  },
  {
   "cell_type": "code",
   "execution_count": 392,
   "metadata": {},
   "outputs": [],
   "source": [
    "for i in range(len(tracts)-1):\n",
    "    park_dif_block_merged = pd.merge(data_2013[data_2013.Tract== tracts[i]], data_2018[data_2018.Tract== tracts[i]], how='outer', on='Block').dropna()\n",
    "    park_dif_block = park_dif_block_merged[['Tract_x','Block', 'Total Stalls_x', 'Total Stalls_y' ]]\n",
    "    park_dif_block = park_dif_block.rename(columns={\"Total Stalls_x\": \"Total Stalls 2013\",\"Total Stalls_y\": \"Total Stalls 2018\"})\n",
    "    park_dif_block['abs_dif'] = park_dif_block['Total Stalls 2018'] - park_dif_block['Total Stalls 2013']\n",
    "    park_dif_block['perc_dif'] = (park_dif_block['Total Stalls 2018'] - park_dif_block['Total Stalls 2013'])/park_dif_block['Total Stalls 2013']*100\n",
    "    park_dif_block_tableau = park_dif_block_tableau.append(park_dif_block)"
   ]
  },
  {
   "cell_type": "code",
   "execution_count": 402,
   "metadata": {},
   "outputs": [
    {
     "data": {
      "text/html": [
       "<div>\n",
       "<style scoped>\n",
       "    .dataframe tbody tr th:only-of-type {\n",
       "        vertical-align: middle;\n",
       "    }\n",
       "\n",
       "    .dataframe tbody tr th {\n",
       "        vertical-align: top;\n",
       "    }\n",
       "\n",
       "    .dataframe thead th {\n",
       "        text-align: right;\n",
       "    }\n",
       "</style>\n",
       "<table border=\"1\" class=\"dataframe\">\n",
       "  <thead>\n",
       "    <tr style=\"text-align: right;\">\n",
       "      <th></th>\n",
       "      <th>Tract_x</th>\n",
       "      <th>Block</th>\n",
       "      <th>Total Stalls 2013</th>\n",
       "      <th>Total Stalls 2018</th>\n",
       "      <th>abs_dif</th>\n",
       "      <th>perc_dif</th>\n",
       "    </tr>\n",
       "  </thead>\n",
       "  <tbody>\n",
       "    <tr>\n",
       "      <th>0</th>\n",
       "      <td>023801</td>\n",
       "      <td>1013</td>\n",
       "      <td>210.0</td>\n",
       "      <td>155.0</td>\n",
       "      <td>-55.0</td>\n",
       "      <td>-26.190476</td>\n",
       "    </tr>\n",
       "    <tr>\n",
       "      <th>1</th>\n",
       "      <td>023801</td>\n",
       "      <td>1002</td>\n",
       "      <td>917.0</td>\n",
       "      <td>288.0</td>\n",
       "      <td>-629.0</td>\n",
       "      <td>-68.593239</td>\n",
       "    </tr>\n",
       "    <tr>\n",
       "      <th>3</th>\n",
       "      <td>023801</td>\n",
       "      <td>1004</td>\n",
       "      <td>20.0</td>\n",
       "      <td>20.0</td>\n",
       "      <td>0.0</td>\n",
       "      <td>0.000000</td>\n",
       "    </tr>\n",
       "    <tr>\n",
       "      <th>4</th>\n",
       "      <td>023801</td>\n",
       "      <td>1005</td>\n",
       "      <td>93.0</td>\n",
       "      <td>93.0</td>\n",
       "      <td>0.0</td>\n",
       "      <td>0.000000</td>\n",
       "    </tr>\n",
       "  </tbody>\n",
       "</table>\n",
       "</div>"
      ],
      "text/plain": [
       "  Tract_x Block  Total Stalls 2013  Total Stalls 2018  abs_dif   perc_dif\n",
       "0  023801  1013              210.0              155.0    -55.0 -26.190476\n",
       "1  023801  1002              917.0              288.0   -629.0 -68.593239\n",
       "3  023801  1004               20.0               20.0      0.0   0.000000\n",
       "4  023801  1005               93.0               93.0      0.0   0.000000"
      ]
     },
     "execution_count": 402,
     "metadata": {},
     "output_type": "execute_result"
    }
   ],
   "source": [
    "park_dif_block_tableau[park_dif_block_tableau.Tract_x == '023801']"
   ]
  },
  {
   "cell_type": "code",
   "execution_count": 396,
   "metadata": {},
   "outputs": [],
   "source": [
    "## Add leading zeros to the integer column in Python\n",
    " \n",
    "park_dif_block_tableau['Tract_x']=park_dif_block_tableau['Tract_x'].astype(str).apply(lambda x: '{0:0>6}'.format(x))\n",
    "\n",
    "#another way to add leading zeros \n",
    "#park_dif_block_tableau['Tract_x'].apply(lambda x: '{0:0>6}'.format(x))\n"
   ]
  },
  {
   "cell_type": "code",
   "execution_count": null,
   "metadata": {},
   "outputs": [],
   "source": [
    "park_dif_block_tableau.to_excel(\"parking_dif.xlsx\")"
   ]
  }
 ],
 "metadata": {
  "kernelspec": {
   "display_name": "Python 3",
   "language": "python",
   "name": "python3"
  },
  "language_info": {
   "codemirror_mode": {
    "name": "ipython",
    "version": 3
   },
   "file_extension": ".py",
   "mimetype": "text/x-python",
   "name": "python",
   "nbconvert_exporter": "python",
   "pygments_lexer": "ipython3",
   "version": "3.7.6"
  }
 },
 "nbformat": 4,
 "nbformat_minor": 4
}
