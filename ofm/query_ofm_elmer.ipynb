{
    "metadata": {
        "kernelspec": {
            "name": "SQL",
            "display_name": "SQL",
            "language": "sql"
        },
        "language_info": {
            "name": "sql",
            "version": ""
        }
    },
    "nbformat_minor": 2,
    "nbformat": 4,
    "cells": [
        {
            "cell_type": "markdown",
            "source": [
                "OFM Query"
            ],
            "metadata": {
                "azdata_cell_guid": "46a1baa7-d084-4e30-8f6f-e45ce3118211"
            }
        },
        {
            "cell_type": "code",
            "source": [
                "Use Elmer\r\n",
                "\r\n",
                "SELECT *\r\n",
                "FROM census.geography_dim;"
            ],
            "metadata": {
                "azdata_cell_guid": "e7ae91d8-6b2b-4e12-b5e1-7a16f7d65284"
            },
            "outputs": [],
            "execution_count": null
        },
        {
            "cell_type": "code",
            "source": [
                "Use Elmer \r\n",
                "\r\n",
                "SELECT a.geography_dim_id, b.block_geoid, a.estimate_year, a.housing_units, a.occupied_housing_units, a.group_quarters_population, a.household_population\r\n",
                "FROM ofm.estimate_facts AS a LEFT JOIN census.geography_dim AS b\r\n",
                "ON a.geography_dim_id = b.geography_dim_id\r\n",
                "WHERE a.estimate_year = 2019;\r\n",
                ""
            ],
            "metadata": {
                "azdata_cell_guid": "66692fa0-3f9e-469f-bd70-8b8b7ffa2fe7",
                "tags": []
            },
            "outputs": [],
            "execution_count": null
        },
        {
            "cell_type": "code",
            "source": [
                "Use Elmer \r\n",
                "\r\n",
                "SELECT a.estimate_year, HU = SUM(a.housing_units), OHU = SUM(a.occupied_housing_units), GQPOP = SUM(a.group_quarters_population), HHPOP = SUM(a.household_population)\r\n",
                "FROM ofm.estimate_facts AS a\r\n",
                "GROUP BY a.estimate_year\r\n",
                "ORDER BY a.estimate_year;\r\n",
                ""
            ],
            "metadata": {
                "azdata_cell_guid": "6f6cb7ad-9526-41cf-98af-4a03be382691"
            },
            "outputs": [],
            "execution_count": null
        }
    ]
}