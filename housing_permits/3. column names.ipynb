{
 "cells": [
  {
   "cell_type": "code",
   "execution_count": 79,
   "metadata": {
    "collapsed": false
   },
   "outputs": [
    {
     "data": {
      "text/plain": [
       "'C:\\\\Users\\\\Angela\\\\Documents\\\\GitHub\\\\Latest_Github\\\\permits\\\\scripts'"
      ]
     },
     "execution_count": 79,
     "metadata": {},
     "output_type": "execute_result"
    }
   ],
   "source": [
    "import pandas as pd \n",
    "import numpy as np\n",
    "import os\n",
    "os.getcwd()"
   ]
  },
  {
   "cell_type": "code",
   "execution_count": 86,
   "metadata": {
    "collapsed": true
   },
   "outputs": [],
   "source": [
    "DIR = 'J:\\Projects\\Permits'\n",
    "PERMIT_DIR = '17Permit\\data\\working'\n",
    "STEP = 'step3'\n",
    "INPUT = 'SETP2_OUTPUT.csv'\n",
    "OUTPUT = 'SETP3_OUTPUT.csv'"
   ]
  },
  {
   "cell_type": "code",
   "execution_count": 87,
   "metadata": {
    "collapsed": true
   },
   "outputs": [],
   "source": [
    "INPUT_PATH = os.path.join(DIR, PERMIT_DIR, STEP, INPUT )\n",
    "OUTPUT_PATH = os.path.join(DIR, PERMIT_DIR, STEP, OUTPUT )\n",
    "TEMP_PATH = os.path.join(DIR, PERMIT_DIR, 'template.csv')"
   ]
  },
  {
   "cell_type": "code",
   "execution_count": 97,
   "metadata": {
    "collapsed": false
   },
   "outputs": [
    {
     "data": {
      "text/plain": [
       "'J:\\\\Projects\\\\Permits\\\\17Permit\\\\data\\\\working\\\\step2\\\\SETP2_OUTPUT.csv'"
      ]
     },
     "execution_count": 97,
     "metadata": {},
     "output_type": "execute_result"
    }
   ],
   "source": [
    "OUTPUT_PATH"
   ]
  },
  {
   "cell_type": "code",
   "execution_count": null,
   "metadata": {
    "collapsed": true
   },
   "outputs": [],
   "source": [
    "temp = pd.read_csv(TEMP_PATH)\n",
    "permit_data = pd.read_csv(INPUT_PATH)"
   ]
  },
  {
   "cell_type": "code",
   "execution_count": 88,
   "metadata": {
    "collapsed": true
   },
   "outputs": [],
   "source": [
    "test = permit_data"
   ]
  },
  {
   "cell_type": "code",
   "execution_count": 89,
   "metadata": {
    "collapsed": false
   },
   "outputs": [
    {
     "data": {
      "text/plain": [
       "Index([u'Unnamed: 0', u'PERMITID #', u'PROJECT NAME', u'TAX PARCEL ID #',\n",
       "       u'SITE ADDRESS', u'SITE ZIPCODE', u'ISSUE DATE', u'FINAL DATE',\n",
       "       u'PERMIT STATUS', u'# OF UNITS', u'# OF BUILDINGS', u'ESTIMATED VALUE',\n",
       "       u'CONDO', u'LOT AREA/SIZE', u'ZONING CODE', u'WORK DESCRIPTION',\n",
       "       u'STRUCTURE TYPE', u'PERMIT ACTIVITY', u'LAND USE', u'Delete (-1, 0)',\n",
       "       u'quick note (why delete)', u'# of Units', u'Condo (yes/no)', u'PS',\n",
       "       u'TYPE', u'TYPE2', u'HOUSENO', u'PREFIX', u'STRNAME', u'STRTYPE',\n",
       "       u'SUFFIX', u'UNIT_BLD', u'CITY', u'STATE', u'ZIP', u'SORT'],\n",
       "      dtype='object')"
      ]
     },
     "execution_count": 89,
     "metadata": {},
     "output_type": "execute_result"
    }
   ],
   "source": [
    "test.columns"
   ]
  },
  {
   "cell_type": "code",
   "execution_count": 94,
   "metadata": {
    "collapsed": false
   },
   "outputs": [
    {
     "data": {
      "text/plain": [
       "Index([u'PSRCIDN', u'PERMITNO', u'SORT', u'MULTIREC', u'PIN', u'ADDRESS',\n",
       "       u'HOUSENO', u'PREFIX', u'STRNAME', u'STRTYPE', u'SUFFIX', u'UNIT_BLD',\n",
       "       u'ZIP', u'ISSUED', u'FINALED', u'STATUS', u'TYPE', u'PS', u'UNITS',\n",
       "       u'BLDGS', u'LANDUSE', u'CONDO', u'VALUE', u'ZONING', u'NOTES',\n",
       "       u'NOTES2', u'NOTES3', u'NOTES4', u'NOTES5', u'NOTES6', u'NOTES7',\n",
       "       u'LOTSIZE', u'PIN_PARENT'],\n",
       "      dtype='object')"
      ]
     },
     "execution_count": 94,
     "metadata": {},
     "output_type": "execute_result"
    }
   ],
   "source": [
    "temp.columns"
   ]
  },
  {
   "cell_type": "code",
   "execution_count": 90,
   "metadata": {
    "collapsed": false
   },
   "outputs": [
    {
     "data": {
      "text/plain": [
       "0    16 128318 LX\n",
       "1    16 125842 LX\n",
       "2    15 126054 LX\n",
       "3    16 145714 LX\n",
       "4    16 126014 LX\n",
       "Name: PERMITID #, dtype: object"
      ]
     },
     "execution_count": 90,
     "metadata": {},
     "output_type": "execute_result"
    }
   ],
   "source": [
    "test['PERMITID #'].head()"
   ]
  },
  {
   "cell_type": "code",
   "execution_count": null,
   "metadata": {
    "collapsed": true
   },
   "outputs": [],
   "source": []
  }
 ],
 "metadata": {
  "kernelspec": {
   "display_name": "Python 2",
   "language": "python",
   "name": "python2"
  },
  "language_info": {
   "codemirror_mode": {
    "name": "ipython",
    "version": 2
   },
   "file_extension": ".py",
   "mimetype": "text/x-python",
   "name": "python",
   "nbconvert_exporter": "python",
   "pygments_lexer": "ipython2",
   "version": "2.7.13"
  }
 },
 "nbformat": 4,
 "nbformat_minor": 2
}
